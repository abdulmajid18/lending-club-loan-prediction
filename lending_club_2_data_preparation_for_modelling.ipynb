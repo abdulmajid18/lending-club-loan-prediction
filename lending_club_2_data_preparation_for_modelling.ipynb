{
  "nbformat": 4,
  "nbformat_minor": 0,
  "metadata": {
    "colab": {
      "name": "lending club 2 data preparation for modelling.ipynb",
      "provenance": [],
      "collapsed_sections": []
    },
    "kernelspec": {
      "display_name": "Python 3",
      "name": "python3"
    }
  },
  "cells": [
    {
      "cell_type": "code",
      "metadata": {
        "id": "FX1-d-7C7RGe"
      },
      "source": [
        "import numpy as np\n",
        "import pandas as pd\n",
        "import seaborn as sns\n",
        "import matplotlib.pyplot as plt\n",
        "%matplotlib inline \n",
        "import warnings\n",
        "warnings.filterwarnings('ignore')\n",
        "pd.set_option('display.max_rows', None)"
      ],
      "execution_count": 1,
      "outputs": []
    },
    {
      "cell_type": "code",
      "metadata": {
        "id": "9MhnTrM67j1M"
      },
      "source": [
        "# !pip install https://github.com/pandas-profiling/pandas-profiling/archive/master.zip"
      ],
      "execution_count": 2,
      "outputs": []
    },
    {
      "cell_type": "code",
      "metadata": {
        "id": "nXCRT2E_7rnI"
      },
      "source": [
        "loan = pd.read_csv('/content/drive/My Drive/Loan Defaulters/cleaned_loan.csv')"
      ],
      "execution_count": 3,
      "outputs": []
    },
    {
      "cell_type": "code",
      "metadata": {
        "id": "jKVqlEw1Hz34",
        "outputId": "b9000be8-4b78-45f8-aea4-2e2df2f1a17f",
        "colab": {
          "base_uri": "https://localhost:8080/",
          "height": 442
        }
      },
      "source": [
        "loan.dtypes"
      ],
      "execution_count": 4,
      "outputs": [
        {
          "output_type": "execute_result",
          "data": {
            "text/plain": [
              "loan_amnt               float64\n",
              "term                      int64\n",
              "int_rate                float64\n",
              "installment             float64\n",
              "grade                    object\n",
              "emp_length              float64\n",
              "home_ownership           object\n",
              "verification_status      object\n",
              "loan_status               int64\n",
              "purpose                  object\n",
              "dti                     float64\n",
              "earliest_cr_line          int64\n",
              "open_acc                float64\n",
              "pub_rec                 float64\n",
              "revol_util              float64\n",
              "total_acc               float64\n",
              "initial_list_status      object\n",
              "application_type         object\n",
              "pub_rec_bankruptcies    float64\n",
              "fico_average            float64\n",
              "log_annual_inc          float64\n",
              "log_revol_bal           float64\n",
              "dtype: object"
            ]
          },
          "metadata": {
            "tags": []
          },
          "execution_count": 4
        }
      ]
    },
    {
      "cell_type": "code",
      "metadata": {
        "id": "7o_VbZ0i2EJ8"
      },
      "source": [
        "loan['home_ownership'] = loan['home_ownership'].replace(['NONE', 'ANY'], 'OTHER')"
      ],
      "execution_count": 5,
      "outputs": []
    },
    {
      "cell_type": "code",
      "metadata": {
        "id": "YA8rTBuRoXLC"
      },
      "source": [
        "loan['dti'] = loan['dti'] + 1"
      ],
      "execution_count": 6,
      "outputs": []
    },
    {
      "cell_type": "code",
      "metadata": {
        "id": "4H1Z96a5oA-V"
      },
      "source": [
        "loan['log_dti'] = loan['dti'].apply(lambda x : np.log10(x+1))\n",
        "loan.drop('dti',axis = 1,inplace = True)\n",
        "loan.drop('pub_rec_bankruptcies',axis = 1,inplace = True)"
      ],
      "execution_count": 7,
      "outputs": []
    },
    {
      "cell_type": "code",
      "metadata": {
        "id": "G5-GNkrOqpEy"
      },
      "source": [
        "loan['emp_length'].fillna(10,inplace=True)"
      ],
      "execution_count": 8,
      "outputs": []
    },
    {
      "cell_type": "code",
      "metadata": {
        "id": "UW51zRTanV5R"
      },
      "source": [
        "# Conveting certain columns to str to be encoded ordinally\n",
        "def str_con(s):\n",
        "  if type(s) != str:\n",
        "    return str(s)\n",
        "  else:\n",
        "    return s\n",
        "\n",
        "loan['term'] = loan['term'].apply(lambda s : str_con(s))\n",
        "loan['emp_length'] = loan['emp_length'].apply(lambda s : str_con(s))\n",
        "#loan['pub_rec_bankruptcies'] = loan['pub_rec_bankruptcies'].apply(lambda s : str_con(s))\n",
        "loan['pub_rec'] = loan['pub_rec'].apply(lambda s : str_con(s))\n"
      ],
      "execution_count": 9,
      "outputs": []
    },
    {
      "cell_type": "code",
      "metadata": {
        "id": "4iXBpC3ByRQX"
      },
      "source": [
        "loan['earliest_cr_year'] = 2015  - loan['earliest_cr_line']\n",
        "loan.drop('earliest_cr_line',axis = 1,inplace = True)"
      ],
      "execution_count": 10,
      "outputs": []
    },
    {
      "cell_type": "code",
      "metadata": {
        "id": "ySTqi99aR_h7"
      },
      "source": [
        "\n",
        "# categorical encoding and getting dummy variables\n",
        "dummies = pd.get_dummies(loan[['verification_status', 'application_type','initial_list_status','purpose','grade','home_ownership']], drop_first=True)\n",
        "\n",
        "loan = loan.drop(['verification_status', 'application_type','initial_list_status','purpose','grade','home_ownership'],axis=1)\n",
        "\n",
        "loan = pd.concat([loan,dummies],axis=1)"
      ],
      "execution_count": 11,
      "outputs": []
    },
    {
      "cell_type": "code",
      "metadata": {
        "id": "q4fY4PATSKs2"
      },
      "source": [
        "col = ['revol_util','log_dti']\n",
        "value_revol = loan['revol_util'].median()\n",
        "value_dti = loan['log_dti'].median()\n",
        "loan['revol_util'].fillna(value_revol,inplace = True)\n",
        "loan['log_dti'].fillna(value_dti,inplace = True)"
      ],
      "execution_count": 12,
      "outputs": []
    },
    {
      "cell_type": "code",
      "metadata": {
        "id": "pUi74hqTSWRC"
      },
      "source": [
        "from sklearn.preprocessing import OneHotEncoder,StandardScaler,OrdinalEncoder,LabelEncoder\n",
        "ord_col = ['term','emp_length','pub_rec']\n",
        "ord_encode = OrdinalEncoder()\n",
        "ord_encode = ord_encode.fit(loan[ord_col])\n",
        "loan[ord_col]=ord_encode.transform(loan[ord_col])\n",
        "\n",
        "label_encode = LabelEncoder()\n",
        "label_encode = label_encode.fit(loan['loan_status'])\n",
        "loan['loan_status']=label_encode.transform(loan['loan_status'])"
      ],
      "execution_count": 13,
      "outputs": []
    },
    {
      "cell_type": "code",
      "metadata": {
        "id": "0r0LqrnHcU1l"
      },
      "source": [
        "num_col = ['loan_amnt', 'int_rate', 'installment', \n",
        "        'open_acc', 'revol_util', 'total_acc',\n",
        "        'fico_average', 'log_annual_inc',\n",
        "       'log_revol_bal', 'log_dti', 'earliest_cr_year']"
      ],
      "execution_count": 14,
      "outputs": []
    },
    {
      "cell_type": "code",
      "metadata": {
        "id": "Rsq7u3EHH35M"
      },
      "source": [
        "from sklearn.preprocessing import StandardScaler\n",
        "from sklearn.model_selection import train_test_split\n",
        "from sklearn.model_selection import KFold\n",
        "from sklearn.model_selection import StratifiedKFold\n",
        "from sklearn.model_selection import cross_val_score\n",
        "from sklearn.model_selection import GridSearchCV\n",
        "from sklearn.metrics import classification_report\n",
        "from sklearn.metrics import confusion_matrix\n",
        "from sklearn.metrics import accuracy_score\n",
        "from sklearn.pipeline import Pipeline\n",
        "from sklearn.linear_model import LogisticRegression\n",
        "from sklearn.tree import DecisionTreeClassifier\n",
        "from sklearn.svm import SVC\n",
        "from sklearn.ensemble import AdaBoostClassifier\n",
        "from sklearn.ensemble import GradientBoostingClassifier\n",
        "from sklearn.preprocessing import OneHotEncoder,StandardScaler,OrdinalEncoder\n",
        "from sklearn.ensemble import RandomForestClassifier\n",
        "from sklearn.ensemble import ExtraTreesClassifier\n",
        "from sklearn.preprocessing import MinMaxScaler\n",
        "from sklearn.impute import SimpleImputer\n",
        "from sklearn.compose import ColumnTransformer\n",
        "from numpy import absolute\n",
        "from numpy import mean\n",
        "from numpy import std"
      ],
      "execution_count": 15,
      "outputs": []
    },
    {
      "cell_type": "code",
      "metadata": {
        "id": "wgTKQFGTb4_V"
      },
      "source": [
        "trans = StandardScaler()\n",
        "loan[num_col] = trans.fit_transform(loan[num_col])"
      ],
      "execution_count": 16,
      "outputs": []
    },
    {
      "cell_type": "code",
      "metadata": {
        "id": "zosyCIw1Hvut"
      },
      "source": [
        "X =  loan.drop('loan_status',axis = 1)\n",
        "Y = loan['loan_status']\n",
        "X_train, X_test, y_train, y_test =train_test_split(X,Y,\n",
        "                                                   test_size=0.30,\n",
        "                                                   )"
      ],
      "execution_count": 17,
      "outputs": []
    },
    {
      "cell_type": "code",
      "metadata": {
        "id": "m3M5d4zYfmag"
      },
      "source": [
        "lg = LogisticRegression()\n",
        "dt = DecisionTreeClassifier()\n",
        "rf = RandomForestClassifier()\n",
        "et = ExtraTreesClassifier()\n",
        "gb = GradientBoostingClassifier()\n",
        "\n",
        "\n",
        "def base_model(name,model):\n",
        "  print(name)\n",
        "  model.fit(X_train,y_train)\n",
        "  prediction = model.predict(X_test)\n",
        "  print(classification_report(y_test,prediction))\n",
        "  print(accuracy_score(y_test,prediction))\n",
        "  print(confusion_matrix(y_test,prediction))"
      ],
      "execution_count": 18,
      "outputs": []
    },
    {
      "cell_type": "code",
      "metadata": {
        "id": "c4DQxACUCtCO",
        "outputId": "92229695-67ae-4a4c-8ebf-02af3cafe55d",
        "colab": {
          "base_uri": "https://localhost:8080/",
          "height": 1000
        }
      },
      "source": [
        "base_model('logistic reg',lg)\n",
        "print('.'*1000)\n",
        "base_model('Decision tree',dt)\n",
        "print('.'*1000)\n",
        "base_model('Random forest',rf)\n",
        "print('.'*1000)\n",
        "base_model('Extra tree',et)\n",
        "print('.'*1000)\n",
        "base_model('Gradient boost',gb)"
      ],
      "execution_count": 23,
      "outputs": [
        {
          "output_type": "stream",
          "text": [
            "logistic reg\n",
            "              precision    recall  f1-score   support\n",
            "\n",
            "           0       0.56      0.03      0.05      2622\n",
            "           1       0.85      1.00      0.92     14272\n",
            "\n",
            "    accuracy                           0.85     16894\n",
            "   macro avg       0.70      0.51      0.48     16894\n",
            "weighted avg       0.80      0.85      0.78     16894\n",
            "\n",
            "0.8456848585296555\n",
            "[[   69  2553]\n",
            " [   54 14218]]\n",
            "........................................................................................................................................................................................................................................................................................................................................................................................................................................................................................................................................................................................................................................................................................................................................................................................................................................................................................................................................................................................................................................\n",
            "Decision tree\n",
            "              precision    recall  f1-score   support\n",
            "\n",
            "           0       0.23      0.26      0.24      2622\n",
            "           1       0.86      0.84      0.85     14272\n",
            "\n",
            "    accuracy                           0.75     16894\n",
            "   macro avg       0.54      0.55      0.55     16894\n",
            "weighted avg       0.76      0.75      0.76     16894\n",
            "\n",
            "0.7487865514383805\n",
            "[[  681  1941]\n",
            " [ 2303 11969]]\n",
            "........................................................................................................................................................................................................................................................................................................................................................................................................................................................................................................................................................................................................................................................................................................................................................................................................................................................................................................................................................................................................................................\n",
            "Random forest\n",
            "              precision    recall  f1-score   support\n",
            "\n",
            "           0       0.52      0.05      0.08      2622\n",
            "           1       0.85      0.99      0.92     14272\n",
            "\n",
            "    accuracy                           0.85     16894\n",
            "   macro avg       0.68      0.52      0.50     16894\n",
            "weighted avg       0.80      0.85      0.79     16894\n",
            "\n",
            "0.845270510240322\n",
            "[[  119  2503]\n",
            " [  111 14161]]\n",
            "........................................................................................................................................................................................................................................................................................................................................................................................................................................................................................................................................................................................................................................................................................................................................................................................................................................................................................................................................................................................................................................\n",
            "Extra tree\n",
            "              precision    recall  f1-score   support\n",
            "\n",
            "           0       0.48      0.06      0.11      2622\n",
            "           1       0.85      0.99      0.91     14272\n",
            "\n",
            "    accuracy                           0.84     16894\n",
            "   macro avg       0.67      0.53      0.51     16894\n",
            "weighted avg       0.79      0.84      0.79     16894\n",
            "\n",
            "0.8441458505978454\n",
            "[[  166  2456]\n",
            " [  177 14095]]\n",
            "........................................................................................................................................................................................................................................................................................................................................................................................................................................................................................................................................................................................................................................................................................................................................................................................................................................................................................................................................................................................................................................\n",
            "Gradient boost\n",
            "              precision    recall  f1-score   support\n",
            "\n",
            "           0       0.57      0.04      0.07      2622\n",
            "           1       0.85      0.99      0.92     14272\n",
            "\n",
            "    accuracy                           0.85     16894\n",
            "   macro avg       0.71      0.52      0.50     16894\n",
            "weighted avg       0.81      0.85      0.79     16894\n",
            "\n",
            "0.8463359772700367\n",
            "[[  105  2517]\n",
            " [   79 14193]]\n"
          ],
          "name": "stdout"
        }
      ]
    },
    {
      "cell_type": "code",
      "metadata": {
        "id": "dm6IwgdnEIOX",
        "outputId": "0a8e8ac5-ab96-4662-bb90-13c30b1f81cb",
        "colab": {
          "base_uri": "https://localhost:8080/",
          "height": 109
        }
      },
      "source": [
        "!pip install Imbalanced-Learn"
      ],
      "execution_count": 24,
      "outputs": [
        {
          "output_type": "stream",
          "text": [
            "Requirement already satisfied: Imbalanced-Learn in /usr/local/lib/python3.6/dist-packages (0.4.3)\n",
            "Requirement already satisfied: numpy>=1.8.2 in /usr/local/lib/python3.6/dist-packages (from Imbalanced-Learn) (1.18.5)\n",
            "Requirement already satisfied: scipy>=0.13.3 in /usr/local/lib/python3.6/dist-packages (from Imbalanced-Learn) (1.4.1)\n",
            "Requirement already satisfied: scikit-learn>=0.20 in /usr/local/lib/python3.6/dist-packages (from Imbalanced-Learn) (0.22.2.post1)\n",
            "Requirement already satisfied: joblib>=0.11 in /usr/local/lib/python3.6/dist-packages (from scikit-learn>=0.20->Imbalanced-Learn) (0.16.0)\n"
          ],
          "name": "stdout"
        }
      ]
    },
    {
      "cell_type": "code",
      "metadata": {
        "id": "BGKzjpPHdleA",
        "outputId": "493badd8-c19a-4d5e-c423-0d98993776c5",
        "colab": {
          "base_uri": "https://localhost:8080/",
          "height": 1000
        }
      },
      "source": [
        "def base_model_sampler(name,model):\n",
        "  print(name)\n",
        "  model.fit(X_res,y_res)\n",
        "  prediction = model.predict(X_test)\n",
        "  print(classification_report(y_test,prediction))\n",
        "  print(accuracy_score(y_test,prediction))\n",
        "  print(confusion_matrix(y_test,prediction))\n",
        "from imblearn.over_sampling import RandomOverSampler\n",
        "os = RandomOverSampler(0.7)\n",
        "X_res,y_res = os.fit_sample(X_train,y_train)\n",
        "base_model('Decision tree',dt)\n",
        "print('.'*1000)\n",
        "base_model('Random forest',rf)\n",
        "print('.'*1000)\n",
        "base_model('Extra tree',et)\n",
        "print('.'*1000)\n",
        "base_model('Gradient boost',gb)\n",
        "print('.'*1000)\n",
        "base_model('logistic reg',lg)"
      ],
      "execution_count": 25,
      "outputs": [
        {
          "output_type": "stream",
          "text": [
            "Decision tree\n",
            "              precision    recall  f1-score   support\n",
            "\n",
            "           0       0.23      0.26      0.24      2622\n",
            "           1       0.86      0.84      0.85     14272\n",
            "\n",
            "    accuracy                           0.75     16894\n",
            "   macro avg       0.54      0.55      0.55     16894\n",
            "weighted avg       0.76      0.75      0.76     16894\n",
            "\n",
            "0.7486089736000947\n",
            "[[  684  1938]\n",
            " [ 2309 11963]]\n",
            "........................................................................................................................................................................................................................................................................................................................................................................................................................................................................................................................................................................................................................................................................................................................................................................................................................................................................................................................................................................................................................................\n",
            "Random forest\n",
            "              precision    recall  f1-score   support\n",
            "\n",
            "           0       0.52      0.05      0.09      2622\n",
            "           1       0.85      0.99      0.92     14272\n",
            "\n",
            "    accuracy                           0.85     16894\n",
            "   macro avg       0.69      0.52      0.50     16894\n",
            "weighted avg       0.80      0.85      0.79     16894\n",
            "\n",
            "0.8453888954658458\n",
            "[[  123  2499]\n",
            " [  113 14159]]\n",
            "........................................................................................................................................................................................................................................................................................................................................................................................................................................................................................................................................................................................................................................................................................................................................................................................................................................................................................................................................................................................................................................\n",
            "Extra tree\n",
            "              precision    recall  f1-score   support\n",
            "\n",
            "           0       0.47      0.06      0.11      2622\n",
            "           1       0.85      0.99      0.91     14272\n",
            "\n",
            "    accuracy                           0.84     16894\n",
            "   macro avg       0.66      0.52      0.51     16894\n",
            "weighted avg       0.79      0.84      0.79     16894\n",
            "\n",
            "0.8434947318574642\n",
            "[[  163  2459]\n",
            " [  185 14087]]\n",
            "........................................................................................................................................................................................................................................................................................................................................................................................................................................................................................................................................................................................................................................................................................................................................................................................................................................................................................................................................................................................................................................\n",
            "Gradient boost\n",
            "              precision    recall  f1-score   support\n",
            "\n",
            "           0       0.57      0.04      0.07      2622\n",
            "           1       0.85      0.99      0.92     14272\n",
            "\n",
            "    accuracy                           0.85     16894\n",
            "   macro avg       0.71      0.52      0.50     16894\n",
            "weighted avg       0.81      0.85      0.79     16894\n",
            "\n",
            "0.8463359772700367\n",
            "[[  105  2517]\n",
            " [   79 14193]]\n",
            "........................................................................................................................................................................................................................................................................................................................................................................................................................................................................................................................................................................................................................................................................................................................................................................................................................................................................................................................................................................................................................................\n",
            "logistic reg\n",
            "              precision    recall  f1-score   support\n",
            "\n",
            "           0       0.56      0.03      0.05      2622\n",
            "           1       0.85      1.00      0.92     14272\n",
            "\n",
            "    accuracy                           0.85     16894\n",
            "   macro avg       0.70      0.51      0.48     16894\n",
            "weighted avg       0.80      0.85      0.78     16894\n",
            "\n",
            "0.8456848585296555\n",
            "[[   69  2553]\n",
            " [   54 14218]]\n"
          ],
          "name": "stdout"
        }
      ]
    },
    {
      "cell_type": "code",
      "metadata": {
        "id": "oYTFbVp3KfQt"
      },
      "source": [
        "from imblearn.combine import SMOTETomek"
      ],
      "execution_count": 27,
      "outputs": []
    },
    {
      "cell_type": "code",
      "metadata": {
        "id": "XdeVIXRMiLdd",
        "outputId": "b1f77825-33f9-4ca7-9b77-07e8d2ee4806",
        "colab": {
          "base_uri": "https://localhost:8080/",
          "height": 1000
        }
      },
      "source": [
        "os = SMOTETomek(0.75)\n",
        "X_res,y_res = os.fit_sample(X_train,y_train)\n",
        "def base_model_sampler(name,model):\n",
        "  print(name)\n",
        "  model.fit(X_res,y_res)\n",
        "  prediction = model.predict(X_test)\n",
        "  print(classification_report(y_test,prediction))\n",
        "  print(accuracy_score(y_test,prediction))\n",
        "  print(confusion_matrix(y_test,prediction))\n",
        "base_model('Decision tree',dt)\n",
        "base_model('Random forest',rf)\n",
        "base_model('Extra tree',et)\n",
        "base_model('Gradient boost',gb)\n",
        "base_model('logistic reg',lg)\n"
      ],
      "execution_count": null,
      "outputs": [
        {
          "output_type": "stream",
          "text": [
            "Decision tree\n",
            "              precision    recall  f1-score   support\n",
            "\n",
            "           0       0.22      0.24      0.23      2633\n",
            "           1       0.86      0.84      0.85     14261\n",
            "\n",
            "    accuracy                           0.75     16894\n",
            "   macro avg       0.54      0.54      0.54     16894\n",
            "weighted avg       0.76      0.75      0.75     16894\n",
            "\n",
            "0.7457677281875222\n",
            "[[  639  1994]\n",
            " [ 2301 11960]]\n",
            "Random forest\n",
            "              precision    recall  f1-score   support\n",
            "\n",
            "           0       0.55      0.04      0.08      2633\n",
            "           1       0.85      0.99      0.92     14261\n",
            "\n",
            "    accuracy                           0.85     16894\n",
            "   macro avg       0.70      0.52      0.50     16894\n",
            "weighted avg       0.80      0.85      0.79     16894\n",
            "\n",
            "0.845329702853084\n",
            "[[  111  2522]\n",
            " [   91 14170]]\n",
            "Extra tree\n",
            "              precision    recall  f1-score   support\n",
            "\n",
            "           0       0.43      0.06      0.10      2633\n",
            "           1       0.85      0.99      0.91     14261\n",
            "\n",
            "    accuracy                           0.84     16894\n",
            "   macro avg       0.64      0.52      0.51     16894\n",
            "weighted avg       0.78      0.84      0.79     16894\n",
            "\n",
            "0.8414229904107967\n",
            "[[  148  2485]\n",
            " [  194 14067]]\n",
            "Gradient boost\n",
            "              precision    recall  f1-score   support\n",
            "\n",
            "           0       0.50      0.04      0.07      2633\n",
            "           1       0.85      0.99      0.91     14261\n",
            "\n",
            "    accuracy                           0.84     16894\n",
            "   macro avg       0.68      0.52      0.49     16894\n",
            "weighted avg       0.79      0.84      0.78     16894\n",
            "\n",
            "0.8442050432106073\n",
            "[[  104  2529]\n",
            " [  103 14158]]\n",
            "logistic reg\n",
            "              precision    recall  f1-score   support\n",
            "\n",
            "           0       0.49      0.03      0.05      2633\n",
            "           1       0.85      0.99      0.91     14261\n",
            "\n",
            "    accuracy                           0.84     16894\n",
            "   macro avg       0.67      0.51      0.48     16894\n",
            "weighted avg       0.79      0.84      0.78     16894\n",
            "\n",
            "0.8439090801467977\n",
            "[[   68  2565]\n",
            " [   72 14189]]\n"
          ],
          "name": "stdout"
        }
      ]
    },
    {
      "cell_type": "code",
      "metadata": {
        "id": "slrFoKiMxdV9",
        "outputId": "ca8c35ac-ca8b-4a37-a186-586ad249d89b",
        "colab": {
          "base_uri": "https://localhost:8080/",
          "height": 372
        }
      },
      "source": [
        "os = SMOTETomek(0.75)\n",
        "X_res,y_res = os.fit_sample(X_train,y_train)\n",
        "from sklearn.model_selection import RandomizedSearchCV\n",
        "criterion = ['gini','entropy']\n",
        "max_features = ['auto','sqrt','log2']\n",
        "max_depth = [int(x) for x in np.linspace(10,1000,10)]\n",
        "min_samples_split = [2,5,8,10,14]\n",
        "min_samples_leaf = [1,2,4,6,8]\n",
        "random_grid = {'criterion': criterion,'max_features':max_features,\n",
        "               'max_depth': max_depth,'min_samples_split':min_samples_split,\n",
        "               'min_samples_leaf':min_samples_leaf}\n",
        "print(random_grid)\n",
        "\n",
        "dt = DecisionTreeClassifier()\n",
        "dt_randomcv = RandomizedSearchCV(estimator = dt ,param_distributions = random_grid,\n",
        "                                 n_iter = 100,cv= 5,verbose = 2,random_state = 100,n_jobs = -1)\n",
        "dt_randomcv.fit(X_res,y_res)\n",
        "# model = DecisionTreeClassifier(criterion= 'gini',\n",
        "#                                max_features = 'sqrt',min_samples_leaf =10,\n",
        "#                                random_state = 100).fit(X_train,y_train)\n",
        "prediction = dt_randomcv.predict(X_test)\n",
        "print(classification_report(y_test,prediction))\n",
        "confusion_matrix(y_test,prediction)"
      ],
      "execution_count": null,
      "outputs": [
        {
          "output_type": "stream",
          "text": [
            "{'criterion': ['gini', 'entropy'], 'max_features': ['auto', 'sqrt', 'log2'], 'max_depth': [10, 120, 230, 340, 450, 560, 670, 780, 890, 1000], 'min_samples_split': [2, 5, 8, 10, 14], 'min_samples_leaf': [1, 2, 4, 6, 8]}\n",
            "Fitting 5 folds for each of 100 candidates, totalling 500 fits\n"
          ],
          "name": "stdout"
        },
        {
          "output_type": "stream",
          "text": [
            "[Parallel(n_jobs=-1)]: Using backend LokyBackend with 2 concurrent workers.\n",
            "[Parallel(n_jobs=-1)]: Done  37 tasks      | elapsed:    6.6s\n",
            "[Parallel(n_jobs=-1)]: Done 158 tasks      | elapsed:   25.1s\n",
            "[Parallel(n_jobs=-1)]: Done 361 tasks      | elapsed:  1.0min\n",
            "[Parallel(n_jobs=-1)]: Done 500 out of 500 | elapsed:  1.4min finished\n"
          ],
          "name": "stderr"
        },
        {
          "output_type": "stream",
          "text": [
            "              precision    recall  f1-score   support\n",
            "\n",
            "           0       0.23      0.30      0.26      2633\n",
            "           1       0.86      0.81      0.84     14261\n",
            "\n",
            "    accuracy                           0.73     16894\n",
            "   macro avg       0.55      0.56      0.55     16894\n",
            "weighted avg       0.76      0.73      0.75     16894\n",
            "\n"
          ],
          "name": "stdout"
        },
        {
          "output_type": "execute_result",
          "data": {
            "text/plain": [
              "array([[  790,  1843],\n",
              "       [ 2682, 11579]])"
            ]
          },
          "metadata": {
            "tags": []
          },
          "execution_count": 71
        }
      ]
    },
    {
      "cell_type": "code",
      "metadata": {
        "id": "vRg0bIO4DSpS",
        "outputId": "f29beaf0-fc7e-4c0a-a3aa-2bb5223495b5",
        "colab": {
          "base_uri": "https://localhost:8080/",
          "height": 239
        }
      },
      "source": [
        "log_reg = LogisticRegression()\n",
        "log_reg.fit(X_train,y_train)\n",
        "prediction = log_reg.predict(X_test)\n",
        "print(classification_report(y_test,prediction))\n",
        "print(accuracy_score(y_test,prediction))\n",
        "print(confusion_matrix(y_test,prediction))"
      ],
      "execution_count": 29,
      "outputs": [
        {
          "output_type": "stream",
          "text": [
            "              precision    recall  f1-score   support\n",
            "\n",
            "           0       0.56      0.03      0.05      2622\n",
            "           1       0.85      1.00      0.92     14272\n",
            "\n",
            "    accuracy                           0.85     16894\n",
            "   macro avg       0.70      0.51      0.48     16894\n",
            "weighted avg       0.80      0.85      0.78     16894\n",
            "\n",
            "0.8456848585296555\n",
            "[[   69  2553]\n",
            " [   54 14218]]\n"
          ],
          "name": "stdout"
        }
      ]
    },
    {
      "cell_type": "code",
      "metadata": {
        "id": "3QCfNb2lDO6D"
      },
      "source": [
        "os = SMOTETomek(0.85)\n",
        "X_res,y_res = os.fit_sample(X_train,y_train)"
      ],
      "execution_count": 34,
      "outputs": []
    },
    {
      "cell_type": "code",
      "metadata": {
        "id": "y4CF-BGOY_on",
        "outputId": "faac05f1-4e7f-43c2-e6dd-8538a6f4749a",
        "colab": {
          "base_uri": "https://localhost:8080/",
          "height": 239
        }
      },
      "source": [
        "log_reg = LogisticRegression()\n",
        "log_reg.fit(X_res,y_res)\n",
        "prediction = log_reg.predict(X_test)\n",
        "print(classification_report(y_test,prediction))\n",
        "print(accuracy_score(y_test,prediction))\n",
        "print(confusion_matrix(y_test,prediction))"
      ],
      "execution_count": 35,
      "outputs": [
        {
          "output_type": "stream",
          "text": [
            "              precision    recall  f1-score   support\n",
            "\n",
            "           0       0.27      0.60      0.37      2622\n",
            "           1       0.91      0.70      0.79     14272\n",
            "\n",
            "    accuracy                           0.69     16894\n",
            "   macro avg       0.59      0.65      0.58     16894\n",
            "weighted avg       0.81      0.69      0.73     16894\n",
            "\n",
            "0.6857464188469279\n",
            "[[ 1583  1039]\n",
            " [ 4270 10002]]\n"
          ],
          "name": "stdout"
        }
      ]
    },
    {
      "cell_type": "code",
      "metadata": {
        "id": "cWtSV-9NZmfS",
        "outputId": "173b9f1c-6848-40b4-eecc-5f4420832b34",
        "colab": {
          "base_uri": "https://localhost:8080/",
          "height": 239
        }
      },
      "source": [
        "log_reg = LogisticRegression(penalty='l1', C=0.001, \n",
        "                             solver='liblinear', max_iter=100,  n_jobs=-1)\n",
        "log_reg.fit(X_res,y_res)\n",
        "prediction = log_reg.predict(X_test)\n",
        "print(classification_report(y_test,prediction))\n",
        "print(accuracy_score(y_test,prediction))\n",
        "print(confusion_matrix(y_test,prediction))"
      ],
      "execution_count": 46,
      "outputs": [
        {
          "output_type": "stream",
          "text": [
            "              precision    recall  f1-score   support\n",
            "\n",
            "           0       0.27      0.56      0.36      2622\n",
            "           1       0.90      0.72      0.80     14272\n",
            "\n",
            "    accuracy                           0.69     16894\n",
            "   macro avg       0.58      0.64      0.58     16894\n",
            "weighted avg       0.80      0.69      0.73     16894\n",
            "\n",
            "0.6928495323783592\n",
            "[[ 1458  1164]\n",
            " [ 4025 10247]]\n"
          ],
          "name": "stdout"
        }
      ]
    },
    {
      "cell_type": "code",
      "metadata": {
        "id": "-ZGaCQGi1xG5",
        "outputId": "f6bed6e1-c0ab-49ab-d024-9b17dfeefa55",
        "colab": {
          "base_uri": "https://localhost:8080/",
          "height": 331
        }
      },
      "source": [
        "param_grid = [\n",
        "    {\n",
        "     'penalty' : ['l1', 'l2'],\n",
        "    'C' : np.logspace(-4, 4, 20),\n",
        "    'solver' : ['liblinear']}\n",
        "]\n",
        "\n",
        "# Create grid search object\n",
        "log_reg = GridSearchCV(LogisticRegression(), param_grid = param_grid, cv = 5, verbose=True, n_jobs=-1)\n",
        "# Fit on data\n",
        "best_log = log_reg.fit(X_res, y_res)\n",
        "prediction = best_log.predict(X_test)\n",
        "print(classification_report(y_test,prediction))\n",
        "print(accuracy_score(y_test,prediction))\n",
        "print(confusion_matrix(y_test,prediction))"
      ],
      "execution_count": 49,
      "outputs": [
        {
          "output_type": "stream",
          "text": [
            "Fitting 5 folds for each of 40 candidates, totalling 200 fits\n"
          ],
          "name": "stdout"
        },
        {
          "output_type": "stream",
          "text": [
            "[Parallel(n_jobs=-1)]: Using backend LokyBackend with 2 concurrent workers.\n",
            "[Parallel(n_jobs=-1)]: Done  46 tasks      | elapsed:    5.9s\n",
            "[Parallel(n_jobs=-1)]: Done 196 tasks      | elapsed:  3.7min\n",
            "[Parallel(n_jobs=-1)]: Done 200 out of 200 | elapsed:  3.8min finished\n"
          ],
          "name": "stderr"
        },
        {
          "output_type": "stream",
          "text": [
            "              precision    recall  f1-score   support\n",
            "\n",
            "           0       0.27      0.60      0.37      2622\n",
            "           1       0.90      0.70      0.79     14272\n",
            "\n",
            "    accuracy                           0.68     16894\n",
            "   macro avg       0.59      0.65      0.58     16894\n",
            "weighted avg       0.81      0.68      0.72     16894\n",
            "\n",
            "0.6835562921747366\n",
            "[[1568 1054]\n",
            " [4292 9980]]\n"
          ],
          "name": "stdout"
        }
      ]
    },
    {
      "cell_type": "code",
      "metadata": {
        "id": "XJyntCPWHuQg",
        "outputId": "cba1af35-45de-4dab-b410-c4701685c4f8",
        "colab": {
          "base_uri": "https://localhost:8080/",
          "height": 239
        }
      },
      "source": [
        "log_reg = GridSearchCV(cv=None,\n",
        "             estimator=LogisticRegression(C=1.0, intercept_scaling=1,   \n",
        "               dual=False, fit_intercept=True, penalty='l2', tol=0.0001),\n",
        "             param_grid={'C': [0.001, 0.01, 0.1, 1, 10, 100, 1000]})\n",
        "best_log = log_reg.fit(X_res, y_res)\n",
        "prediction = best_log.predict(X_test)\n",
        "print(classification_report(y_test,prediction))\n",
        "print(accuracy_score(y_test,prediction))\n",
        "print(confusion_matrix(y_test,prediction))"
      ],
      "execution_count": 50,
      "outputs": [
        {
          "output_type": "stream",
          "text": [
            "              precision    recall  f1-score   support\n",
            "\n",
            "           0       0.27      0.60      0.37      2622\n",
            "           1       0.91      0.70      0.79     14272\n",
            "\n",
            "    accuracy                           0.69     16894\n",
            "   macro avg       0.59      0.65      0.58     16894\n",
            "weighted avg       0.81      0.69      0.73     16894\n",
            "\n",
            "0.6857464188469279\n",
            "[[ 1583  1039]\n",
            " [ 4270 10002]]\n"
          ],
          "name": "stdout"
        }
      ]
    },
    {
      "cell_type": "code",
      "metadata": {
        "id": "XvK9D78RJUUM",
        "outputId": "17e69d5b-b71c-4da1-f3e9-dfa216f900a6",
        "colab": {
          "base_uri": "https://localhost:8080/",
          "height": 54
        }
      },
      "source": [
        "print('The best parameters after hyperparameter tuning')\n",
        "best_log.best_params_"
      ],
      "execution_count": 51,
      "outputs": [
        {
          "output_type": "stream",
          "text": [
            "The best parameters after hyperparameter tuning\n"
          ],
          "name": "stdout"
        },
        {
          "output_type": "execute_result",
          "data": {
            "text/plain": [
              "{'C': 1}"
            ]
          },
          "metadata": {
            "tags": []
          },
          "execution_count": 51
        }
      ]
    },
    {
      "cell_type": "code",
      "metadata": {
        "id": "quLF_g6zKpPR",
        "outputId": "beb9f8af-db6e-4383-941d-5a95059cfbde",
        "colab": {
          "base_uri": "https://localhost:8080/",
          "height": 128
        }
      },
      "source": [
        "print('Best estimators')\n",
        "best_log.best_estimator_"
      ],
      "execution_count": 52,
      "outputs": [
        {
          "output_type": "stream",
          "text": [
            "Best estimators\n"
          ],
          "name": "stdout"
        },
        {
          "output_type": "execute_result",
          "data": {
            "text/plain": [
              "LogisticRegression(C=1, class_weight=None, dual=False, fit_intercept=True,\n",
              "                   intercept_scaling=1, l1_ratio=None, max_iter=100,\n",
              "                   multi_class='auto', n_jobs=None, penalty='l2',\n",
              "                   random_state=None, solver='lbfgs', tol=0.0001, verbose=0,\n",
              "                   warm_start=False)"
            ]
          },
          "metadata": {
            "tags": []
          },
          "execution_count": 52
        }
      ]
    },
    {
      "cell_type": "code",
      "metadata": {
        "id": "YrhgGdZcK-NZ",
        "outputId": "a9b3417a-6890-49fb-f3b5-3b21d0b18fec",
        "colab": {
          "base_uri": "https://localhost:8080/",
          "height": 239
        }
      },
      "source": [
        "# We maintain this model with accuracy 68% because it provides the highest recall and \n",
        "# also does well in giving small False negatives\n",
        "new_log = best_log.best_estimator_\n",
        "prediction = new_log.predict(X_test)\n",
        "print(classification_report(y_test,prediction))\n",
        "print(accuracy_score(y_test,prediction))\n",
        "print(confusion_matrix(y_test,prediction))"
      ],
      "execution_count": 53,
      "outputs": [
        {
          "output_type": "stream",
          "text": [
            "              precision    recall  f1-score   support\n",
            "\n",
            "           0       0.27      0.60      0.37      2622\n",
            "           1       0.91      0.70      0.79     14272\n",
            "\n",
            "    accuracy                           0.69     16894\n",
            "   macro avg       0.59      0.65      0.58     16894\n",
            "weighted avg       0.81      0.69      0.73     16894\n",
            "\n",
            "0.6857464188469279\n",
            "[[ 1583  1039]\n",
            " [ 4270 10002]]\n"
          ],
          "name": "stdout"
        }
      ]
    },
    {
      "cell_type": "code",
      "metadata": {
        "id": "5EZc8ve1LYtQ"
      },
      "source": [
        ""
      ],
      "execution_count": null,
      "outputs": []
    }
  ]
}