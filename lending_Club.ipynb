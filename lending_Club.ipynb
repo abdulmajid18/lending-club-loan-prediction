{
  "nbformat": 4,
  "nbformat_minor": 0,
  "metadata": {
    "colab": {
      "name": "lending Club.ipynb",
      "provenance": [],
      "collapsed_sections": []
    },
    "kernelspec": {
      "display_name": "Python 3",
      "name": "python3"
    }
  },
  "cells": [
    {
      "cell_type": "code",
      "metadata": {
        "id": "8rKCoz4k3IGo"
      },
      "source": [
        "import numpy as np\n",
        "import pandas as pd\n",
        "import seaborn as sns\n",
        "import matplotlib.pyplot as plt\n",
        "%matplotlib inline \n",
        "import warnings\n",
        "warnings.filterwarnings('ignore')\n",
        "pd.set_option('display.max_rows', None)"
      ],
      "execution_count": null,
      "outputs": []
    },
    {
      "cell_type": "code",
      "metadata": {
        "id": "RH7lWyrT3kf3",
        "outputId": "2b0a5ad8-ad9c-4187-d5a0-f27279347aad",
        "colab": {
          "base_uri": "https://localhost:8080/",
          "height": 429
        }
      },
      "source": [
        "data = pd.read_csv('/content/drive/My Drive/Loan Defaulters/accepted_2007_to_2018Q4.csv.gz', parse_dates=['issue_d'], infer_datetime_format=True)\n",
        "data = data[(data.issue_d >= '2018-01-01 00:00:00') & (data.issue_d < '2019-01-01 00:00:00')]\n",
        "data = data.reset_index(drop=True)\n",
        "data.head()"
      ],
      "execution_count": null,
      "outputs": [
        {
          "output_type": "execute_result",
          "data": {
            "text/html": [
              "<div>\n",
              "<style scoped>\n",
              "    .dataframe tbody tr th:only-of-type {\n",
              "        vertical-align: middle;\n",
              "    }\n",
              "\n",
              "    .dataframe tbody tr th {\n",
              "        vertical-align: top;\n",
              "    }\n",
              "\n",
              "    .dataframe thead th {\n",
              "        text-align: right;\n",
              "    }\n",
              "</style>\n",
              "<table border=\"1\" class=\"dataframe\">\n",
              "  <thead>\n",
              "    <tr style=\"text-align: right;\">\n",
              "      <th></th>\n",
              "      <th>id</th>\n",
              "      <th>member_id</th>\n",
              "      <th>loan_amnt</th>\n",
              "      <th>funded_amnt</th>\n",
              "      <th>funded_amnt_inv</th>\n",
              "      <th>term</th>\n",
              "      <th>int_rate</th>\n",
              "      <th>installment</th>\n",
              "      <th>grade</th>\n",
              "      <th>sub_grade</th>\n",
              "      <th>emp_title</th>\n",
              "      <th>emp_length</th>\n",
              "      <th>home_ownership</th>\n",
              "      <th>annual_inc</th>\n",
              "      <th>verification_status</th>\n",
              "      <th>issue_d</th>\n",
              "      <th>loan_status</th>\n",
              "      <th>pymnt_plan</th>\n",
              "      <th>url</th>\n",
              "      <th>desc</th>\n",
              "      <th>purpose</th>\n",
              "      <th>title</th>\n",
              "      <th>zip_code</th>\n",
              "      <th>addr_state</th>\n",
              "      <th>dti</th>\n",
              "      <th>delinq_2yrs</th>\n",
              "      <th>earliest_cr_line</th>\n",
              "      <th>fico_range_low</th>\n",
              "      <th>fico_range_high</th>\n",
              "      <th>inq_last_6mths</th>\n",
              "      <th>mths_since_last_delinq</th>\n",
              "      <th>mths_since_last_record</th>\n",
              "      <th>open_acc</th>\n",
              "      <th>pub_rec</th>\n",
              "      <th>revol_bal</th>\n",
              "      <th>revol_util</th>\n",
              "      <th>total_acc</th>\n",
              "      <th>initial_list_status</th>\n",
              "      <th>out_prncp</th>\n",
              "      <th>out_prncp_inv</th>\n",
              "      <th>...</th>\n",
              "      <th>tot_hi_cred_lim</th>\n",
              "      <th>total_bal_ex_mort</th>\n",
              "      <th>total_bc_limit</th>\n",
              "      <th>total_il_high_credit_limit</th>\n",
              "      <th>revol_bal_joint</th>\n",
              "      <th>sec_app_fico_range_low</th>\n",
              "      <th>sec_app_fico_range_high</th>\n",
              "      <th>sec_app_earliest_cr_line</th>\n",
              "      <th>sec_app_inq_last_6mths</th>\n",
              "      <th>sec_app_mort_acc</th>\n",
              "      <th>sec_app_open_acc</th>\n",
              "      <th>sec_app_revol_util</th>\n",
              "      <th>sec_app_open_act_il</th>\n",
              "      <th>sec_app_num_rev_accts</th>\n",
              "      <th>sec_app_chargeoff_within_12_mths</th>\n",
              "      <th>sec_app_collections_12_mths_ex_med</th>\n",
              "      <th>sec_app_mths_since_last_major_derog</th>\n",
              "      <th>hardship_flag</th>\n",
              "      <th>hardship_type</th>\n",
              "      <th>hardship_reason</th>\n",
              "      <th>hardship_status</th>\n",
              "      <th>deferral_term</th>\n",
              "      <th>hardship_amount</th>\n",
              "      <th>hardship_start_date</th>\n",
              "      <th>hardship_end_date</th>\n",
              "      <th>payment_plan_start_date</th>\n",
              "      <th>hardship_length</th>\n",
              "      <th>hardship_dpd</th>\n",
              "      <th>hardship_loan_status</th>\n",
              "      <th>orig_projected_additional_accrued_interest</th>\n",
              "      <th>hardship_payoff_balance_amount</th>\n",
              "      <th>hardship_last_payment_amount</th>\n",
              "      <th>disbursement_method</th>\n",
              "      <th>debt_settlement_flag</th>\n",
              "      <th>debt_settlement_flag_date</th>\n",
              "      <th>settlement_status</th>\n",
              "      <th>settlement_date</th>\n",
              "      <th>settlement_amount</th>\n",
              "      <th>settlement_percentage</th>\n",
              "      <th>settlement_term</th>\n",
              "    </tr>\n",
              "  </thead>\n",
              "  <tbody>\n",
              "    <tr>\n",
              "      <th>0</th>\n",
              "      <td>130954621</td>\n",
              "      <td>NaN</td>\n",
              "      <td>5000.0</td>\n",
              "      <td>5000.0</td>\n",
              "      <td>5000.0</td>\n",
              "      <td>36 months</td>\n",
              "      <td>20.39</td>\n",
              "      <td>186.82</td>\n",
              "      <td>D</td>\n",
              "      <td>D4</td>\n",
              "      <td>General Manager</td>\n",
              "      <td>8 years</td>\n",
              "      <td>RENT</td>\n",
              "      <td>50000.0</td>\n",
              "      <td>Verified</td>\n",
              "      <td>2018-03-01</td>\n",
              "      <td>Current</td>\n",
              "      <td>n</td>\n",
              "      <td>https://lendingclub.com/browse/loanDetail.acti...</td>\n",
              "      <td>NaN</td>\n",
              "      <td>other</td>\n",
              "      <td>Other</td>\n",
              "      <td>740xx</td>\n",
              "      <td>OK</td>\n",
              "      <td>21.80</td>\n",
              "      <td>1.0</td>\n",
              "      <td>Jan-2009</td>\n",
              "      <td>665.0</td>\n",
              "      <td>669.0</td>\n",
              "      <td>0.0</td>\n",
              "      <td>9.0</td>\n",
              "      <td>NaN</td>\n",
              "      <td>5.0</td>\n",
              "      <td>0.0</td>\n",
              "      <td>116.0</td>\n",
              "      <td>23.2</td>\n",
              "      <td>18.0</td>\n",
              "      <td>w</td>\n",
              "      <td>3780.31</td>\n",
              "      <td>3780.31</td>\n",
              "      <td>...</td>\n",
              "      <td>33430.0</td>\n",
              "      <td>19344.0</td>\n",
              "      <td>500.0</td>\n",
              "      <td>27820.0</td>\n",
              "      <td>NaN</td>\n",
              "      <td>NaN</td>\n",
              "      <td>NaN</td>\n",
              "      <td>NaN</td>\n",
              "      <td>NaN</td>\n",
              "      <td>NaN</td>\n",
              "      <td>NaN</td>\n",
              "      <td>NaN</td>\n",
              "      <td>NaN</td>\n",
              "      <td>NaN</td>\n",
              "      <td>NaN</td>\n",
              "      <td>NaN</td>\n",
              "      <td>NaN</td>\n",
              "      <td>N</td>\n",
              "      <td>NaN</td>\n",
              "      <td>NaN</td>\n",
              "      <td>NaN</td>\n",
              "      <td>NaN</td>\n",
              "      <td>NaN</td>\n",
              "      <td>NaN</td>\n",
              "      <td>NaN</td>\n",
              "      <td>NaN</td>\n",
              "      <td>NaN</td>\n",
              "      <td>NaN</td>\n",
              "      <td>NaN</td>\n",
              "      <td>NaN</td>\n",
              "      <td>NaN</td>\n",
              "      <td>NaN</td>\n",
              "      <td>Cash</td>\n",
              "      <td>N</td>\n",
              "      <td>NaN</td>\n",
              "      <td>NaN</td>\n",
              "      <td>NaN</td>\n",
              "      <td>NaN</td>\n",
              "      <td>NaN</td>\n",
              "      <td>NaN</td>\n",
              "    </tr>\n",
              "    <tr>\n",
              "      <th>1</th>\n",
              "      <td>130964697</td>\n",
              "      <td>NaN</td>\n",
              "      <td>15000.0</td>\n",
              "      <td>15000.0</td>\n",
              "      <td>15000.0</td>\n",
              "      <td>36 months</td>\n",
              "      <td>9.92</td>\n",
              "      <td>483.45</td>\n",
              "      <td>B</td>\n",
              "      <td>B2</td>\n",
              "      <td>IT Director</td>\n",
              "      <td>2 years</td>\n",
              "      <td>OWN</td>\n",
              "      <td>196000.0</td>\n",
              "      <td>Source Verified</td>\n",
              "      <td>2018-03-01</td>\n",
              "      <td>Current</td>\n",
              "      <td>n</td>\n",
              "      <td>https://lendingclub.com/browse/loanDetail.acti...</td>\n",
              "      <td>NaN</td>\n",
              "      <td>debt_consolidation</td>\n",
              "      <td>Debt consolidation</td>\n",
              "      <td>337xx</td>\n",
              "      <td>FL</td>\n",
              "      <td>18.29</td>\n",
              "      <td>0.0</td>\n",
              "      <td>Jul-1998</td>\n",
              "      <td>700.0</td>\n",
              "      <td>704.0</td>\n",
              "      <td>0.0</td>\n",
              "      <td>65.0</td>\n",
              "      <td>NaN</td>\n",
              "      <td>19.0</td>\n",
              "      <td>0.0</td>\n",
              "      <td>24243.0</td>\n",
              "      <td>46.3</td>\n",
              "      <td>53.0</td>\n",
              "      <td>w</td>\n",
              "      <td>10878.50</td>\n",
              "      <td>10878.50</td>\n",
              "      <td>...</td>\n",
              "      <td>605228.0</td>\n",
              "      <td>137713.0</td>\n",
              "      <td>28500.0</td>\n",
              "      <td>147178.0</td>\n",
              "      <td>NaN</td>\n",
              "      <td>NaN</td>\n",
              "      <td>NaN</td>\n",
              "      <td>NaN</td>\n",
              "      <td>NaN</td>\n",
              "      <td>NaN</td>\n",
              "      <td>NaN</td>\n",
              "      <td>NaN</td>\n",
              "      <td>NaN</td>\n",
              "      <td>NaN</td>\n",
              "      <td>NaN</td>\n",
              "      <td>NaN</td>\n",
              "      <td>NaN</td>\n",
              "      <td>N</td>\n",
              "      <td>NaN</td>\n",
              "      <td>NaN</td>\n",
              "      <td>NaN</td>\n",
              "      <td>NaN</td>\n",
              "      <td>NaN</td>\n",
              "      <td>NaN</td>\n",
              "      <td>NaN</td>\n",
              "      <td>NaN</td>\n",
              "      <td>NaN</td>\n",
              "      <td>NaN</td>\n",
              "      <td>NaN</td>\n",
              "      <td>NaN</td>\n",
              "      <td>NaN</td>\n",
              "      <td>NaN</td>\n",
              "      <td>Cash</td>\n",
              "      <td>N</td>\n",
              "      <td>NaN</td>\n",
              "      <td>NaN</td>\n",
              "      <td>NaN</td>\n",
              "      <td>NaN</td>\n",
              "      <td>NaN</td>\n",
              "      <td>NaN</td>\n",
              "    </tr>\n",
              "    <tr>\n",
              "      <th>2</th>\n",
              "      <td>130955326</td>\n",
              "      <td>NaN</td>\n",
              "      <td>11200.0</td>\n",
              "      <td>11200.0</td>\n",
              "      <td>11200.0</td>\n",
              "      <td>60 months</td>\n",
              "      <td>30.79</td>\n",
              "      <td>367.82</td>\n",
              "      <td>G</td>\n",
              "      <td>G1</td>\n",
              "      <td>Client services</td>\n",
              "      <td>&lt; 1 year</td>\n",
              "      <td>RENT</td>\n",
              "      <td>44000.0</td>\n",
              "      <td>Not Verified</td>\n",
              "      <td>2018-03-01</td>\n",
              "      <td>Current</td>\n",
              "      <td>n</td>\n",
              "      <td>https://lendingclub.com/browse/loanDetail.acti...</td>\n",
              "      <td>NaN</td>\n",
              "      <td>medical</td>\n",
              "      <td>Medical expenses</td>\n",
              "      <td>030xx</td>\n",
              "      <td>NH</td>\n",
              "      <td>43.97</td>\n",
              "      <td>1.0</td>\n",
              "      <td>Jul-2007</td>\n",
              "      <td>665.0</td>\n",
              "      <td>669.0</td>\n",
              "      <td>2.0</td>\n",
              "      <td>6.0</td>\n",
              "      <td>NaN</td>\n",
              "      <td>8.0</td>\n",
              "      <td>0.0</td>\n",
              "      <td>1526.0</td>\n",
              "      <td>24.6</td>\n",
              "      <td>14.0</td>\n",
              "      <td>w</td>\n",
              "      <td>10193.73</td>\n",
              "      <td>10193.73</td>\n",
              "      <td>...</td>\n",
              "      <td>80367.0</td>\n",
              "      <td>67173.0</td>\n",
              "      <td>1900.0</td>\n",
              "      <td>74167.0</td>\n",
              "      <td>7101.0</td>\n",
              "      <td>610.0</td>\n",
              "      <td>614.0</td>\n",
              "      <td>Feb-2005</td>\n",
              "      <td>3.0</td>\n",
              "      <td>1.0</td>\n",
              "      <td>14.0</td>\n",
              "      <td>80.0</td>\n",
              "      <td>11.0</td>\n",
              "      <td>8.0</td>\n",
              "      <td>0.0</td>\n",
              "      <td>2.0</td>\n",
              "      <td>37.0</td>\n",
              "      <td>N</td>\n",
              "      <td>NaN</td>\n",
              "      <td>NaN</td>\n",
              "      <td>NaN</td>\n",
              "      <td>NaN</td>\n",
              "      <td>NaN</td>\n",
              "      <td>NaN</td>\n",
              "      <td>NaN</td>\n",
              "      <td>NaN</td>\n",
              "      <td>NaN</td>\n",
              "      <td>NaN</td>\n",
              "      <td>NaN</td>\n",
              "      <td>NaN</td>\n",
              "      <td>NaN</td>\n",
              "      <td>NaN</td>\n",
              "      <td>Cash</td>\n",
              "      <td>N</td>\n",
              "      <td>NaN</td>\n",
              "      <td>NaN</td>\n",
              "      <td>NaN</td>\n",
              "      <td>NaN</td>\n",
              "      <td>NaN</td>\n",
              "      <td>NaN</td>\n",
              "    </tr>\n",
              "    <tr>\n",
              "      <th>3</th>\n",
              "      <td>130504052</td>\n",
              "      <td>NaN</td>\n",
              "      <td>25000.0</td>\n",
              "      <td>25000.0</td>\n",
              "      <td>25000.0</td>\n",
              "      <td>60 months</td>\n",
              "      <td>21.85</td>\n",
              "      <td>688.35</td>\n",
              "      <td>D</td>\n",
              "      <td>D5</td>\n",
              "      <td>Asphalt Supervisor</td>\n",
              "      <td>10+ years</td>\n",
              "      <td>MORTGAGE</td>\n",
              "      <td>65000.0</td>\n",
              "      <td>Source Verified</td>\n",
              "      <td>2018-03-01</td>\n",
              "      <td>Current</td>\n",
              "      <td>n</td>\n",
              "      <td>https://lendingclub.com/browse/loanDetail.acti...</td>\n",
              "      <td>NaN</td>\n",
              "      <td>debt_consolidation</td>\n",
              "      <td>Debt consolidation</td>\n",
              "      <td>361xx</td>\n",
              "      <td>AL</td>\n",
              "      <td>12.89</td>\n",
              "      <td>1.0</td>\n",
              "      <td>Mar-1995</td>\n",
              "      <td>665.0</td>\n",
              "      <td>669.0</td>\n",
              "      <td>1.0</td>\n",
              "      <td>22.0</td>\n",
              "      <td>NaN</td>\n",
              "      <td>7.0</td>\n",
              "      <td>0.0</td>\n",
              "      <td>8657.0</td>\n",
              "      <td>98.4</td>\n",
              "      <td>16.0</td>\n",
              "      <td>w</td>\n",
              "      <td>22188.73</td>\n",
              "      <td>22188.73</td>\n",
              "      <td>...</td>\n",
              "      <td>101234.0</td>\n",
              "      <td>17039.0</td>\n",
              "      <td>3300.0</td>\n",
              "      <td>10220.0</td>\n",
              "      <td>NaN</td>\n",
              "      <td>NaN</td>\n",
              "      <td>NaN</td>\n",
              "      <td>NaN</td>\n",
              "      <td>NaN</td>\n",
              "      <td>NaN</td>\n",
              "      <td>NaN</td>\n",
              "      <td>NaN</td>\n",
              "      <td>NaN</td>\n",
              "      <td>NaN</td>\n",
              "      <td>NaN</td>\n",
              "      <td>NaN</td>\n",
              "      <td>NaN</td>\n",
              "      <td>N</td>\n",
              "      <td>NaN</td>\n",
              "      <td>NaN</td>\n",
              "      <td>NaN</td>\n",
              "      <td>NaN</td>\n",
              "      <td>NaN</td>\n",
              "      <td>NaN</td>\n",
              "      <td>NaN</td>\n",
              "      <td>NaN</td>\n",
              "      <td>NaN</td>\n",
              "      <td>NaN</td>\n",
              "      <td>NaN</td>\n",
              "      <td>NaN</td>\n",
              "      <td>NaN</td>\n",
              "      <td>NaN</td>\n",
              "      <td>Cash</td>\n",
              "      <td>N</td>\n",
              "      <td>NaN</td>\n",
              "      <td>NaN</td>\n",
              "      <td>NaN</td>\n",
              "      <td>NaN</td>\n",
              "      <td>NaN</td>\n",
              "      <td>NaN</td>\n",
              "    </tr>\n",
              "    <tr>\n",
              "      <th>4</th>\n",
              "      <td>130956066</td>\n",
              "      <td>NaN</td>\n",
              "      <td>3000.0</td>\n",
              "      <td>3000.0</td>\n",
              "      <td>3000.0</td>\n",
              "      <td>36 months</td>\n",
              "      <td>7.34</td>\n",
              "      <td>93.10</td>\n",
              "      <td>A</td>\n",
              "      <td>A4</td>\n",
              "      <td>Scale Technician</td>\n",
              "      <td>9 years</td>\n",
              "      <td>RENT</td>\n",
              "      <td>52000.0</td>\n",
              "      <td>Source Verified</td>\n",
              "      <td>2018-03-01</td>\n",
              "      <td>Fully Paid</td>\n",
              "      <td>n</td>\n",
              "      <td>https://lendingclub.com/browse/loanDetail.acti...</td>\n",
              "      <td>NaN</td>\n",
              "      <td>major_purchase</td>\n",
              "      <td>Major purchase</td>\n",
              "      <td>988xx</td>\n",
              "      <td>WA</td>\n",
              "      <td>0.58</td>\n",
              "      <td>0.0</td>\n",
              "      <td>Jan-1998</td>\n",
              "      <td>760.0</td>\n",
              "      <td>764.0</td>\n",
              "      <td>0.0</td>\n",
              "      <td>26.0</td>\n",
              "      <td>NaN</td>\n",
              "      <td>7.0</td>\n",
              "      <td>0.0</td>\n",
              "      <td>141.0</td>\n",
              "      <td>0.5</td>\n",
              "      <td>30.0</td>\n",
              "      <td>w</td>\n",
              "      <td>0.00</td>\n",
              "      <td>0.00</td>\n",
              "      <td>...</td>\n",
              "      <td>191216.0</td>\n",
              "      <td>141.0</td>\n",
              "      <td>30500.0</td>\n",
              "      <td>0.0</td>\n",
              "      <td>NaN</td>\n",
              "      <td>NaN</td>\n",
              "      <td>NaN</td>\n",
              "      <td>NaN</td>\n",
              "      <td>NaN</td>\n",
              "      <td>NaN</td>\n",
              "      <td>NaN</td>\n",
              "      <td>NaN</td>\n",
              "      <td>NaN</td>\n",
              "      <td>NaN</td>\n",
              "      <td>NaN</td>\n",
              "      <td>NaN</td>\n",
              "      <td>NaN</td>\n",
              "      <td>N</td>\n",
              "      <td>NaN</td>\n",
              "      <td>NaN</td>\n",
              "      <td>NaN</td>\n",
              "      <td>NaN</td>\n",
              "      <td>NaN</td>\n",
              "      <td>NaN</td>\n",
              "      <td>NaN</td>\n",
              "      <td>NaN</td>\n",
              "      <td>NaN</td>\n",
              "      <td>NaN</td>\n",
              "      <td>NaN</td>\n",
              "      <td>NaN</td>\n",
              "      <td>NaN</td>\n",
              "      <td>NaN</td>\n",
              "      <td>Cash</td>\n",
              "      <td>N</td>\n",
              "      <td>NaN</td>\n",
              "      <td>NaN</td>\n",
              "      <td>NaN</td>\n",
              "      <td>NaN</td>\n",
              "      <td>NaN</td>\n",
              "      <td>NaN</td>\n",
              "    </tr>\n",
              "  </tbody>\n",
              "</table>\n",
              "<p>5 rows × 151 columns</p>\n",
              "</div>"
            ],
            "text/plain": [
              "          id  member_id  ...  settlement_percentage  settlement_term\n",
              "0  130954621        NaN  ...                    NaN              NaN\n",
              "1  130964697        NaN  ...                    NaN              NaN\n",
              "2  130955326        NaN  ...                    NaN              NaN\n",
              "3  130504052        NaN  ...                    NaN              NaN\n",
              "4  130956066        NaN  ...                    NaN              NaN\n",
              "\n",
              "[5 rows x 151 columns]"
            ]
          },
          "metadata": {
            "tags": []
          },
          "execution_count": 2
        }
      ]
    },
    {
      "cell_type": "code",
      "metadata": {
        "id": "0S8XfJJu4AxT",
        "outputId": "44c29c76-14d8-4c4b-a65e-bd8926be0e12",
        "colab": {
          "base_uri": "https://localhost:8080/",
          "height": 167
        }
      },
      "source": [
        "data.columns"
      ],
      "execution_count": null,
      "outputs": [
        {
          "output_type": "execute_result",
          "data": {
            "text/plain": [
              "Index(['id', 'member_id', 'loan_amnt', 'funded_amnt', 'funded_amnt_inv',\n",
              "       'term', 'int_rate', 'installment', 'grade', 'sub_grade',\n",
              "       ...\n",
              "       'hardship_payoff_balance_amount', 'hardship_last_payment_amount',\n",
              "       'disbursement_method', 'debt_settlement_flag',\n",
              "       'debt_settlement_flag_date', 'settlement_status', 'settlement_date',\n",
              "       'settlement_amount', 'settlement_percentage', 'settlement_term'],\n",
              "      dtype='object', length=151)"
            ]
          },
          "metadata": {
            "tags": []
          },
          "execution_count": 3
        }
      ]
    },
    {
      "cell_type": "code",
      "metadata": {
        "id": "vvOGY1kq_NQb",
        "outputId": "fd64ea0e-8da6-46d5-9e06-dd7b5e8c528a",
        "colab": {
          "base_uri": "https://localhost:8080/",
          "height": 111
        }
      },
      "source": [
        "data.info()"
      ],
      "execution_count": null,
      "outputs": [
        {
          "output_type": "stream",
          "text": [
            "<class 'pandas.core.frame.DataFrame'>\n",
            "RangeIndex: 495242 entries, 0 to 495241\n",
            "Columns: 151 entries, id to settlement_term\n",
            "dtypes: datetime64[ns](1), float64(113), object(37)\n",
            "memory usage: 570.5+ MB\n"
          ],
          "name": "stdout"
        }
      ]
    },
    {
      "cell_type": "code",
      "metadata": {
        "id": "a-gGiqVeEdTH",
        "outputId": "2d142650-f1bd-4614-aa8d-342b1df8cb96",
        "colab": {
          "base_uri": "https://localhost:8080/",
          "height": 36
        }
      },
      "source": [
        "data.shape"
      ],
      "execution_count": null,
      "outputs": [
        {
          "output_type": "execute_result",
          "data": {
            "text/plain": [
              "(495242, 151)"
            ]
          },
          "metadata": {
            "tags": []
          },
          "execution_count": 5
        }
      ]
    },
    {
      "cell_type": "code",
      "metadata": {
        "id": "fCnxRjNU_Qcg",
        "outputId": "a80d6521-a0fb-47d8-b017-c3228456dada",
        "colab": {
          "base_uri": "https://localhost:8080/",
          "height": 1000
        }
      },
      "source": [
        "data.dtypes"
      ],
      "execution_count": null,
      "outputs": [
        {
          "output_type": "execute_result",
          "data": {
            "text/plain": [
              "id                                                    object\n",
              "member_id                                            float64\n",
              "loan_amnt                                            float64\n",
              "funded_amnt                                          float64\n",
              "funded_amnt_inv                                      float64\n",
              "term                                                  object\n",
              "int_rate                                             float64\n",
              "installment                                          float64\n",
              "grade                                                 object\n",
              "sub_grade                                             object\n",
              "emp_title                                             object\n",
              "emp_length                                            object\n",
              "home_ownership                                        object\n",
              "annual_inc                                           float64\n",
              "verification_status                                   object\n",
              "issue_d                                       datetime64[ns]\n",
              "loan_status                                           object\n",
              "pymnt_plan                                            object\n",
              "url                                                   object\n",
              "desc                                                  object\n",
              "purpose                                               object\n",
              "title                                                 object\n",
              "zip_code                                              object\n",
              "addr_state                                            object\n",
              "dti                                                  float64\n",
              "delinq_2yrs                                          float64\n",
              "earliest_cr_line                                      object\n",
              "fico_range_low                                       float64\n",
              "fico_range_high                                      float64\n",
              "inq_last_6mths                                       float64\n",
              "mths_since_last_delinq                               float64\n",
              "mths_since_last_record                               float64\n",
              "open_acc                                             float64\n",
              "pub_rec                                              float64\n",
              "revol_bal                                            float64\n",
              "revol_util                                           float64\n",
              "total_acc                                            float64\n",
              "initial_list_status                                   object\n",
              "out_prncp                                            float64\n",
              "out_prncp_inv                                        float64\n",
              "total_pymnt                                          float64\n",
              "total_pymnt_inv                                      float64\n",
              "total_rec_prncp                                      float64\n",
              "total_rec_int                                        float64\n",
              "total_rec_late_fee                                   float64\n",
              "recoveries                                           float64\n",
              "collection_recovery_fee                              float64\n",
              "last_pymnt_d                                          object\n",
              "last_pymnt_amnt                                      float64\n",
              "next_pymnt_d                                          object\n",
              "last_credit_pull_d                                    object\n",
              "last_fico_range_high                                 float64\n",
              "last_fico_range_low                                  float64\n",
              "collections_12_mths_ex_med                           float64\n",
              "mths_since_last_major_derog                          float64\n",
              "policy_code                                          float64\n",
              "application_type                                      object\n",
              "annual_inc_joint                                     float64\n",
              "dti_joint                                            float64\n",
              "verification_status_joint                             object\n",
              "acc_now_delinq                                       float64\n",
              "tot_coll_amt                                         float64\n",
              "tot_cur_bal                                          float64\n",
              "open_acc_6m                                          float64\n",
              "open_act_il                                          float64\n",
              "open_il_12m                                          float64\n",
              "open_il_24m                                          float64\n",
              "mths_since_rcnt_il                                   float64\n",
              "total_bal_il                                         float64\n",
              "il_util                                              float64\n",
              "open_rv_12m                                          float64\n",
              "open_rv_24m                                          float64\n",
              "max_bal_bc                                           float64\n",
              "all_util                                             float64\n",
              "total_rev_hi_lim                                     float64\n",
              "inq_fi                                               float64\n",
              "total_cu_tl                                          float64\n",
              "inq_last_12m                                         float64\n",
              "acc_open_past_24mths                                 float64\n",
              "avg_cur_bal                                          float64\n",
              "bc_open_to_buy                                       float64\n",
              "bc_util                                              float64\n",
              "chargeoff_within_12_mths                             float64\n",
              "delinq_amnt                                          float64\n",
              "mo_sin_old_il_acct                                   float64\n",
              "mo_sin_old_rev_tl_op                                 float64\n",
              "mo_sin_rcnt_rev_tl_op                                float64\n",
              "mo_sin_rcnt_tl                                       float64\n",
              "mort_acc                                             float64\n",
              "mths_since_recent_bc                                 float64\n",
              "mths_since_recent_bc_dlq                             float64\n",
              "mths_since_recent_inq                                float64\n",
              "mths_since_recent_revol_delinq                       float64\n",
              "num_accts_ever_120_pd                                float64\n",
              "num_actv_bc_tl                                       float64\n",
              "num_actv_rev_tl                                      float64\n",
              "num_bc_sats                                          float64\n",
              "num_bc_tl                                            float64\n",
              "num_il_tl                                            float64\n",
              "num_op_rev_tl                                        float64\n",
              "num_rev_accts                                        float64\n",
              "num_rev_tl_bal_gt_0                                  float64\n",
              "num_sats                                             float64\n",
              "num_tl_120dpd_2m                                     float64\n",
              "num_tl_30dpd                                         float64\n",
              "num_tl_90g_dpd_24m                                   float64\n",
              "num_tl_op_past_12m                                   float64\n",
              "pct_tl_nvr_dlq                                       float64\n",
              "percent_bc_gt_75                                     float64\n",
              "pub_rec_bankruptcies                                 float64\n",
              "tax_liens                                            float64\n",
              "tot_hi_cred_lim                                      float64\n",
              "total_bal_ex_mort                                    float64\n",
              "total_bc_limit                                       float64\n",
              "total_il_high_credit_limit                           float64\n",
              "revol_bal_joint                                      float64\n",
              "sec_app_fico_range_low                               float64\n",
              "sec_app_fico_range_high                              float64\n",
              "sec_app_earliest_cr_line                              object\n",
              "sec_app_inq_last_6mths                               float64\n",
              "sec_app_mort_acc                                     float64\n",
              "sec_app_open_acc                                     float64\n",
              "sec_app_revol_util                                   float64\n",
              "sec_app_open_act_il                                  float64\n",
              "sec_app_num_rev_accts                                float64\n",
              "sec_app_chargeoff_within_12_mths                     float64\n",
              "sec_app_collections_12_mths_ex_med                   float64\n",
              "sec_app_mths_since_last_major_derog                  float64\n",
              "hardship_flag                                         object\n",
              "hardship_type                                         object\n",
              "hardship_reason                                       object\n",
              "hardship_status                                       object\n",
              "deferral_term                                        float64\n",
              "hardship_amount                                      float64\n",
              "hardship_start_date                                   object\n",
              "hardship_end_date                                     object\n",
              "payment_plan_start_date                               object\n",
              "hardship_length                                      float64\n",
              "hardship_dpd                                         float64\n",
              "hardship_loan_status                                  object\n",
              "orig_projected_additional_accrued_interest           float64\n",
              "hardship_payoff_balance_amount                       float64\n",
              "hardship_last_payment_amount                         float64\n",
              "disbursement_method                                   object\n",
              "debt_settlement_flag                                  object\n",
              "debt_settlement_flag_date                             object\n",
              "settlement_status                                     object\n",
              "settlement_date                                       object\n",
              "settlement_amount                                    float64\n",
              "settlement_percentage                                float64\n",
              "settlement_term                                      float64\n",
              "dtype: object"
            ]
          },
          "metadata": {
            "tags": []
          },
          "execution_count": 6
        }
      ]
    },
    {
      "cell_type": "code",
      "metadata": {
        "id": "QiaHdNP6IFwL"
      },
      "source": [
        "# Obtaining the columns with more nan values with 30% nul values"
      ],
      "execution_count": null,
      "outputs": []
    },
    {
      "cell_type": "code",
      "metadata": {
        "id": "uQctNiizA47n",
        "outputId": "7632437b-5d9a-4c13-a2b5-75795b8d7191",
        "colab": {
          "base_uri": "https://localhost:8080/",
          "height": 74
        }
      },
      "source": [
        "drop_null_col = data.isnull().sum()/len(data)*100\n",
        "drop_null_col = drop_null_col[drop_null_col.values >= 30 ]\n",
        "drop_null_col = drop_null_col.index.tolist()\n",
        "print(drop_null_col)\n",
        "len(drop_null_col)"
      ],
      "execution_count": null,
      "outputs": [
        {
          "output_type": "stream",
          "text": [
            "['member_id', 'desc', 'mths_since_last_delinq', 'mths_since_last_record', 'mths_since_last_major_derog', 'annual_inc_joint', 'dti_joint', 'verification_status_joint', 'mths_since_recent_bc_dlq', 'mths_since_recent_revol_delinq', 'revol_bal_joint', 'sec_app_fico_range_low', 'sec_app_fico_range_high', 'sec_app_earliest_cr_line', 'sec_app_inq_last_6mths', 'sec_app_mort_acc', 'sec_app_open_acc', 'sec_app_revol_util', 'sec_app_open_act_il', 'sec_app_num_rev_accts', 'sec_app_chargeoff_within_12_mths', 'sec_app_collections_12_mths_ex_med', 'sec_app_mths_since_last_major_derog', 'hardship_type', 'hardship_reason', 'hardship_status', 'deferral_term', 'hardship_amount', 'hardship_start_date', 'hardship_end_date', 'payment_plan_start_date', 'hardship_length', 'hardship_dpd', 'hardship_loan_status', 'orig_projected_additional_accrued_interest', 'hardship_payoff_balance_amount', 'hardship_last_payment_amount', 'debt_settlement_flag_date', 'settlement_status', 'settlement_date', 'settlement_amount', 'settlement_percentage', 'settlement_term']\n"
          ],
          "name": "stdout"
        },
        {
          "output_type": "execute_result",
          "data": {
            "text/plain": [
              "43"
            ]
          },
          "metadata": {
            "tags": []
          },
          "execution_count": 8
        }
      ]
    },
    {
      "cell_type": "code",
      "metadata": {
        "id": "oNeHvVKhBbS0",
        "outputId": "f692df32-0f06-4987-aba1-ca8bb66c4ffc",
        "colab": {
          "base_uri": "https://localhost:8080/",
          "height": 54
        }
      },
      "source": [
        "# dropping the drop_null_col list \n",
        "print('Dropping columns with more than 30% null values')\n",
        "data.drop(labels = drop_null_col,axis = 1,inplace = True)\n",
        "print(f'{len(drop_null_col)} columns dropped')"
      ],
      "execution_count": null,
      "outputs": [
        {
          "output_type": "stream",
          "text": [
            "Dropping columns with more than 30% null values\n",
            "43 columns dropped\n"
          ],
          "name": "stdout"
        }
      ]
    },
    {
      "cell_type": "code",
      "metadata": {
        "id": "JzbJ22EOLoIf"
      },
      "source": [
        "unique_counts = data.nunique()\n",
        "unique_counts = unique_counts[unique_counts.values == 1].index.tolist()\n",
        "# Dropping the single_unique columns \n",
        "data.drop(labels = unique_counts,axis =1, inplace=True)"
      ],
      "execution_count": null,
      "outputs": []
    },
    {
      "cell_type": "code",
      "metadata": {
        "id": "7iXQvwbfJ-hP"
      },
      "source": [
        "drop_list_1 = ['id','funded_amnt','funded_amnt_inv','sub_grade','emp_title','issue_d']\n",
        "data.drop(labels = drop_list_1,axis = 1,inplace = True)"
      ],
      "execution_count": null,
      "outputs": []
    },
    {
      "cell_type": "code",
      "metadata": {
        "id": "mU4qSdkkS_gM"
      },
      "source": [
        "drop_list_2 = ['url','zip_code','inq_last_6mths','out_prncp','out_prncp_inv','total_rec_prncp',\n",
        "               'total_rec_int','total_rec_late_fee','recoveries','collection_recovery_fee',\n",
        "                'last_pymnt_d','last_pymnt_amnt','next_pymnt_d','last_credit_pull_d']"
      ],
      "execution_count": null,
      "outputs": []
    },
    {
      "cell_type": "code",
      "metadata": {
        "id": "HHt3uCnnQc8i"
      },
      "source": [
        "data.drop(labels = drop_list_2,axis = 1,inplace = True)"
      ],
      "execution_count": null,
      "outputs": []
    },
    {
      "cell_type": "code",
      "metadata": {
        "id": "tMb6bagfEnyV"
      },
      "source": [
        "drop_list_3 = ['mo_sin_old_rev_tl_op','mo_sin_rcnt_rev_tl_op','mo_sin_rcnt_tl','mort_acc','mths_since_recent_bc',\n",
        "               'mths_since_recent_inq',         \n",
        "                'num_accts_ever_120_pd',             \n",
        "                'num_actv_bc_tl',                    \n",
        "                'num_actv_rev_tl',                   \n",
        "                'num_bc_sats',                       \n",
        "                'num_bc_tl',                         \n",
        "                'num_il_tl',                         \n",
        "                'num_op_rev_tl',                     \n",
        "                'num_rev_accts',                     \n",
        "                'num_rev_tl_bal_gt_0',               \n",
        "                'num_sats',                          \n",
        "                'num_tl_30dpd',                      \n",
        "                'num_tl_90g_dpd_24m',                \n",
        "                'num_tl_op_past_12m',                \n",
        "                'pct_tl_nvr_dlq',                    \n",
        "                'percent_bc_gt_75',\n",
        "                'mo_sin_old_il_acct',\n",
        "               'last_fico_range_high',\n",
        "               'last_fico_range_low',\n",
        "                   ]  "
      ],
      "execution_count": null,
      "outputs": []
    },
    {
      "cell_type": "code",
      "metadata": {
        "id": "DvTh9AxbFQ8-"
      },
      "source": [
        "data.drop(labels = drop_list_3,axis=1,inplace = True)"
      ],
      "execution_count": null,
      "outputs": []
    },
    {
      "cell_type": "code",
      "metadata": {
        "id": "PMqgS3b-Hq8P"
      },
      "source": [
        "drop_list_4 = ['total_pymnt',\n",
        " 'total_pymnt_inv',\n",
        " 'collections_12_mths_ex_med',\n",
        "     'acc_now_delinq',\n",
        " 'tot_coll_amt',\n",
        " 'tot_cur_bal',\n",
        " 'open_acc_6m',\n",
        " 'open_act_il',\n",
        " 'open_il_12m',\n",
        " 'open_il_24m',\n",
        " 'mths_since_rcnt_il',\n",
        " 'total_bal_il',\n",
        " 'il_util',\n",
        " 'open_rv_12m',\n",
        " 'open_rv_24m',\n",
        " 'max_bal_bc',\n",
        " 'all_util',\n",
        " 'total_rev_hi_lim',\n",
        " 'inq_fi',\n",
        " 'total_cu_tl',\n",
        " 'inq_last_12m',\n",
        " 'acc_open_past_24mths',\n",
        " 'avg_cur_bal',\n",
        " 'bc_open_to_buy',\n",
        " 'bc_util',\n",
        " 'chargeoff_within_12_mths',\n",
        " ]"
      ],
      "execution_count": null,
      "outputs": []
    },
    {
      "cell_type": "code",
      "metadata": {
        "id": "htusW0K4JwyE"
      },
      "source": [
        "data.drop(labels = drop_list_4,axis = 1,inplace =True)"
      ],
      "execution_count": null,
      "outputs": []
    },
    {
      "cell_type": "code",
      "metadata": {
        "id": "WjDTIbstJ9JH"
      },
      "source": [
        "drop_list_5 = ['tax_liens',\n",
        " 'tot_hi_cred_lim',\n",
        " 'total_bal_ex_mort',\n",
        " 'total_bc_limit',\n",
        " 'total_il_high_credit_limit',\n",
        " 'hardship_flag',\n",
        " 'disbursement_method',\n",
        " 'debt_settlement_flag']"
      ],
      "execution_count": null,
      "outputs": []
    },
    {
      "cell_type": "code",
      "metadata": {
        "id": "wxiiSxPfKHTN"
      },
      "source": [
        "data.drop(labels = drop_list_5,axis = 1,inplace = True)"
      ],
      "execution_count": null,
      "outputs": []
    },
    {
      "cell_type": "code",
      "metadata": {
        "id": "baefoEUvOUhY",
        "outputId": "d17e4f1a-ff07-4321-aef1-a70f5e240974",
        "colab": {
          "base_uri": "https://localhost:8080/",
          "height": 167
        }
      },
      "source": [
        "data.columns"
      ],
      "execution_count": null,
      "outputs": [
        {
          "output_type": "execute_result",
          "data": {
            "text/plain": [
              "Index(['loan_amnt', 'term', 'int_rate', 'installment', 'grade', 'emp_length',\n",
              "       'home_ownership', 'annual_inc', 'verification_status', 'loan_status',\n",
              "       'pymnt_plan', 'purpose', 'title', 'addr_state', 'dti', 'delinq_2yrs',\n",
              "       'earliest_cr_line', 'fico_range_low', 'fico_range_high', 'open_acc',\n",
              "       'pub_rec', 'revol_bal', 'revol_util', 'total_acc',\n",
              "       'initial_list_status', 'application_type', 'delinq_amnt',\n",
              "       'pub_rec_bankruptcies'],\n",
              "      dtype='object')"
            ]
          },
          "metadata": {
            "tags": []
          },
          "execution_count": 20
        }
      ]
    },
    {
      "cell_type": "code",
      "metadata": {
        "id": "BSiDmjWBOatd",
        "outputId": "a35ac9a9-c307-4a02-8c88-7cf78dd75f86",
        "colab": {
          "base_uri": "https://localhost:8080/",
          "height": 1000
        }
      },
      "source": [
        "!pip install https://github.com/pandas-profiling/pandas-profiling/archive/master.zip"
      ],
      "execution_count": null,
      "outputs": [
        {
          "output_type": "stream",
          "text": [
            "Collecting https://github.com/pandas-profiling/pandas-profiling/archive/master.zip\n",
            "  Using cached https://github.com/pandas-profiling/pandas-profiling/archive/master.zip\n",
            "Requirement already satisfied (use --upgrade to upgrade): pandas-profiling==2.9.0 from https://github.com/pandas-profiling/pandas-profiling/archive/master.zip in /usr/local/lib/python3.6/dist-packages\n",
            "Requirement already satisfied: joblib in /usr/local/lib/python3.6/dist-packages (from pandas-profiling==2.9.0) (0.16.0)\n",
            "Requirement already satisfied: scipy>=1.4.1 in /usr/local/lib/python3.6/dist-packages (from pandas-profiling==2.9.0) (1.4.1)\n",
            "Requirement already satisfied: pandas!=1.0.0,!=1.0.1,!=1.0.2,!=1.1.0,>=0.25.3 in /usr/local/lib/python3.6/dist-packages (from pandas-profiling==2.9.0) (1.1.2)\n",
            "Requirement already satisfied: matplotlib>=3.2.0 in /usr/local/lib/python3.6/dist-packages (from pandas-profiling==2.9.0) (3.2.2)\n",
            "Requirement already satisfied: confuse>=1.0.0 in /usr/local/lib/python3.6/dist-packages (from pandas-profiling==2.9.0) (1.3.0)\n",
            "Requirement already satisfied: jinja2>=2.11.1 in /usr/local/lib/python3.6/dist-packages (from pandas-profiling==2.9.0) (2.11.2)\n",
            "Requirement already satisfied: visions[type_image_path]==0.5.0 in /usr/local/lib/python3.6/dist-packages (from pandas-profiling==2.9.0) (0.5.0)\n",
            "Requirement already satisfied: numpy>=1.16.0 in /usr/local/lib/python3.6/dist-packages (from pandas-profiling==2.9.0) (1.18.5)\n",
            "Requirement already satisfied: attrs>=19.3.0 in /usr/local/lib/python3.6/dist-packages (from pandas-profiling==2.9.0) (20.2.0)\n",
            "Requirement already satisfied: htmlmin>=0.1.12 in /usr/local/lib/python3.6/dist-packages (from pandas-profiling==2.9.0) (0.1.12)\n",
            "Requirement already satisfied: missingno>=0.4.2 in /usr/local/lib/python3.6/dist-packages (from pandas-profiling==2.9.0) (0.4.2)\n",
            "Requirement already satisfied: phik>=0.9.10 in /usr/local/lib/python3.6/dist-packages (from pandas-profiling==2.9.0) (0.10.0)\n",
            "Requirement already satisfied: tangled-up-in-unicode>=0.0.6 in /usr/local/lib/python3.6/dist-packages (from pandas-profiling==2.9.0) (0.0.6)\n",
            "Requirement already satisfied: requests>=2.23.0 in /usr/local/lib/python3.6/dist-packages (from pandas-profiling==2.9.0) (2.23.0)\n",
            "Requirement already satisfied: tqdm>=4.43.0 in /usr/local/lib/python3.6/dist-packages (from pandas-profiling==2.9.0) (4.50.2)\n",
            "Requirement already satisfied: ipywidgets>=7.5.1 in /usr/local/lib/python3.6/dist-packages (from pandas-profiling==2.9.0) (7.5.1)\n",
            "Requirement already satisfied: seaborn>=0.10.1 in /usr/local/lib/python3.6/dist-packages (from pandas-profiling==2.9.0) (0.11.0)\n",
            "Requirement already satisfied: python-dateutil>=2.7.3 in /usr/local/lib/python3.6/dist-packages (from pandas!=1.0.0,!=1.0.1,!=1.0.2,!=1.1.0,>=0.25.3->pandas-profiling==2.9.0) (2.8.1)\n",
            "Requirement already satisfied: pytz>=2017.2 in /usr/local/lib/python3.6/dist-packages (from pandas!=1.0.0,!=1.0.1,!=1.0.2,!=1.1.0,>=0.25.3->pandas-profiling==2.9.0) (2018.9)\n",
            "Requirement already satisfied: pyparsing!=2.0.4,!=2.1.2,!=2.1.6,>=2.0.1 in /usr/local/lib/python3.6/dist-packages (from matplotlib>=3.2.0->pandas-profiling==2.9.0) (2.4.7)\n",
            "Requirement already satisfied: cycler>=0.10 in /usr/local/lib/python3.6/dist-packages (from matplotlib>=3.2.0->pandas-profiling==2.9.0) (0.10.0)\n",
            "Requirement already satisfied: kiwisolver>=1.0.1 in /usr/local/lib/python3.6/dist-packages (from matplotlib>=3.2.0->pandas-profiling==2.9.0) (1.2.0)\n",
            "Requirement already satisfied: pyyaml in /usr/local/lib/python3.6/dist-packages (from confuse>=1.0.0->pandas-profiling==2.9.0) (3.13)\n",
            "Requirement already satisfied: MarkupSafe>=0.23 in /usr/local/lib/python3.6/dist-packages (from jinja2>=2.11.1->pandas-profiling==2.9.0) (1.1.1)\n",
            "Requirement already satisfied: networkx>=2.4 in /usr/local/lib/python3.6/dist-packages (from visions[type_image_path]==0.5.0->pandas-profiling==2.9.0) (2.5)\n",
            "Requirement already satisfied: Pillow; extra == \"type_image_path\" in /usr/local/lib/python3.6/dist-packages (from visions[type_image_path]==0.5.0->pandas-profiling==2.9.0) (7.0.0)\n",
            "Requirement already satisfied: imagehash; extra == \"type_image_path\" in /usr/local/lib/python3.6/dist-packages (from visions[type_image_path]==0.5.0->pandas-profiling==2.9.0) (4.1.0)\n",
            "Requirement already satisfied: numba>=0.38.1 in /usr/local/lib/python3.6/dist-packages (from phik>=0.9.10->pandas-profiling==2.9.0) (0.48.0)\n",
            "Requirement already satisfied: certifi>=2017.4.17 in /usr/local/lib/python3.6/dist-packages (from requests>=2.23.0->pandas-profiling==2.9.0) (2020.6.20)\n",
            "Requirement already satisfied: chardet<4,>=3.0.2 in /usr/local/lib/python3.6/dist-packages (from requests>=2.23.0->pandas-profiling==2.9.0) (3.0.4)\n",
            "Requirement already satisfied: urllib3!=1.25.0,!=1.25.1,<1.26,>=1.21.1 in /usr/local/lib/python3.6/dist-packages (from requests>=2.23.0->pandas-profiling==2.9.0) (1.24.3)\n",
            "Requirement already satisfied: idna<3,>=2.5 in /usr/local/lib/python3.6/dist-packages (from requests>=2.23.0->pandas-profiling==2.9.0) (2.10)\n",
            "Requirement already satisfied: widgetsnbextension~=3.5.0 in /usr/local/lib/python3.6/dist-packages (from ipywidgets>=7.5.1->pandas-profiling==2.9.0) (3.5.1)\n",
            "Requirement already satisfied: ipython>=4.0.0; python_version >= \"3.3\" in /usr/local/lib/python3.6/dist-packages (from ipywidgets>=7.5.1->pandas-profiling==2.9.0) (5.5.0)\n",
            "Requirement already satisfied: traitlets>=4.3.1 in /usr/local/lib/python3.6/dist-packages (from ipywidgets>=7.5.1->pandas-profiling==2.9.0) (4.3.3)\n",
            "Requirement already satisfied: nbformat>=4.2.0 in /usr/local/lib/python3.6/dist-packages (from ipywidgets>=7.5.1->pandas-profiling==2.9.0) (5.0.7)\n",
            "Requirement already satisfied: ipykernel>=4.5.1 in /usr/local/lib/python3.6/dist-packages (from ipywidgets>=7.5.1->pandas-profiling==2.9.0) (4.10.1)\n",
            "Requirement already satisfied: six>=1.5 in /usr/local/lib/python3.6/dist-packages (from python-dateutil>=2.7.3->pandas!=1.0.0,!=1.0.1,!=1.0.2,!=1.1.0,>=0.25.3->pandas-profiling==2.9.0) (1.15.0)\n",
            "Requirement already satisfied: decorator>=4.3.0 in /usr/local/lib/python3.6/dist-packages (from networkx>=2.4->visions[type_image_path]==0.5.0->pandas-profiling==2.9.0) (4.4.2)\n",
            "Requirement already satisfied: PyWavelets in /usr/local/lib/python3.6/dist-packages (from imagehash; extra == \"type_image_path\"->visions[type_image_path]==0.5.0->pandas-profiling==2.9.0) (1.1.1)\n",
            "Requirement already satisfied: llvmlite<0.32.0,>=0.31.0dev0 in /usr/local/lib/python3.6/dist-packages (from numba>=0.38.1->phik>=0.9.10->pandas-profiling==2.9.0) (0.31.0)\n",
            "Requirement already satisfied: setuptools in /usr/local/lib/python3.6/dist-packages (from numba>=0.38.1->phik>=0.9.10->pandas-profiling==2.9.0) (50.3.0)\n",
            "Requirement already satisfied: notebook>=4.4.1 in /usr/local/lib/python3.6/dist-packages (from widgetsnbextension~=3.5.0->ipywidgets>=7.5.1->pandas-profiling==2.9.0) (5.3.1)\n",
            "Requirement already satisfied: simplegeneric>0.8 in /usr/local/lib/python3.6/dist-packages (from ipython>=4.0.0; python_version >= \"3.3\"->ipywidgets>=7.5.1->pandas-profiling==2.9.0) (0.8.1)\n",
            "Requirement already satisfied: pexpect; sys_platform != \"win32\" in /usr/local/lib/python3.6/dist-packages (from ipython>=4.0.0; python_version >= \"3.3\"->ipywidgets>=7.5.1->pandas-profiling==2.9.0) (4.8.0)\n",
            "Requirement already satisfied: prompt-toolkit<2.0.0,>=1.0.4 in /usr/local/lib/python3.6/dist-packages (from ipython>=4.0.0; python_version >= \"3.3\"->ipywidgets>=7.5.1->pandas-profiling==2.9.0) (1.0.18)\n",
            "Requirement already satisfied: pickleshare in /usr/local/lib/python3.6/dist-packages (from ipython>=4.0.0; python_version >= \"3.3\"->ipywidgets>=7.5.1->pandas-profiling==2.9.0) (0.7.5)\n",
            "Requirement already satisfied: pygments in /usr/local/lib/python3.6/dist-packages (from ipython>=4.0.0; python_version >= \"3.3\"->ipywidgets>=7.5.1->pandas-profiling==2.9.0) (2.6.1)\n",
            "Requirement already satisfied: ipython-genutils in /usr/local/lib/python3.6/dist-packages (from traitlets>=4.3.1->ipywidgets>=7.5.1->pandas-profiling==2.9.0) (0.2.0)\n",
            "Requirement already satisfied: jupyter-core in /usr/local/lib/python3.6/dist-packages (from nbformat>=4.2.0->ipywidgets>=7.5.1->pandas-profiling==2.9.0) (4.6.3)\n",
            "Requirement already satisfied: jsonschema!=2.5.0,>=2.4 in /usr/local/lib/python3.6/dist-packages (from nbformat>=4.2.0->ipywidgets>=7.5.1->pandas-profiling==2.9.0) (2.6.0)\n",
            "Requirement already satisfied: tornado>=4.0 in /usr/local/lib/python3.6/dist-packages (from ipykernel>=4.5.1->ipywidgets>=7.5.1->pandas-profiling==2.9.0) (5.1.1)\n",
            "Requirement already satisfied: jupyter-client in /usr/local/lib/python3.6/dist-packages (from ipykernel>=4.5.1->ipywidgets>=7.5.1->pandas-profiling==2.9.0) (5.3.5)\n",
            "Requirement already satisfied: nbconvert in /usr/local/lib/python3.6/dist-packages (from notebook>=4.4.1->widgetsnbextension~=3.5.0->ipywidgets>=7.5.1->pandas-profiling==2.9.0) (5.6.1)\n",
            "Requirement already satisfied: Send2Trash in /usr/local/lib/python3.6/dist-packages (from notebook>=4.4.1->widgetsnbextension~=3.5.0->ipywidgets>=7.5.1->pandas-profiling==2.9.0) (1.5.0)\n",
            "Requirement already satisfied: terminado>=0.8.1 in /usr/local/lib/python3.6/dist-packages (from notebook>=4.4.1->widgetsnbextension~=3.5.0->ipywidgets>=7.5.1->pandas-profiling==2.9.0) (0.9.1)\n",
            "Requirement already satisfied: ptyprocess>=0.5 in /usr/local/lib/python3.6/dist-packages (from pexpect; sys_platform != \"win32\"->ipython>=4.0.0; python_version >= \"3.3\"->ipywidgets>=7.5.1->pandas-profiling==2.9.0) (0.6.0)\n",
            "Requirement already satisfied: wcwidth in /usr/local/lib/python3.6/dist-packages (from prompt-toolkit<2.0.0,>=1.0.4->ipython>=4.0.0; python_version >= \"3.3\"->ipywidgets>=7.5.1->pandas-profiling==2.9.0) (0.2.5)\n",
            "Requirement already satisfied: pyzmq>=13 in /usr/local/lib/python3.6/dist-packages (from jupyter-client->ipykernel>=4.5.1->ipywidgets>=7.5.1->pandas-profiling==2.9.0) (19.0.2)\n",
            "Requirement already satisfied: pandocfilters>=1.4.1 in /usr/local/lib/python3.6/dist-packages (from nbconvert->notebook>=4.4.1->widgetsnbextension~=3.5.0->ipywidgets>=7.5.1->pandas-profiling==2.9.0) (1.4.2)\n",
            "Requirement already satisfied: testpath in /usr/local/lib/python3.6/dist-packages (from nbconvert->notebook>=4.4.1->widgetsnbextension~=3.5.0->ipywidgets>=7.5.1->pandas-profiling==2.9.0) (0.4.4)\n",
            "Requirement already satisfied: entrypoints>=0.2.2 in /usr/local/lib/python3.6/dist-packages (from nbconvert->notebook>=4.4.1->widgetsnbextension~=3.5.0->ipywidgets>=7.5.1->pandas-profiling==2.9.0) (0.3)\n",
            "Requirement already satisfied: bleach in /usr/local/lib/python3.6/dist-packages (from nbconvert->notebook>=4.4.1->widgetsnbextension~=3.5.0->ipywidgets>=7.5.1->pandas-profiling==2.9.0) (3.2.1)\n",
            "Requirement already satisfied: defusedxml in /usr/local/lib/python3.6/dist-packages (from nbconvert->notebook>=4.4.1->widgetsnbextension~=3.5.0->ipywidgets>=7.5.1->pandas-profiling==2.9.0) (0.6.0)\n",
            "Requirement already satisfied: mistune<2,>=0.8.1 in /usr/local/lib/python3.6/dist-packages (from nbconvert->notebook>=4.4.1->widgetsnbextension~=3.5.0->ipywidgets>=7.5.1->pandas-profiling==2.9.0) (0.8.4)\n",
            "Requirement already satisfied: webencodings in /usr/local/lib/python3.6/dist-packages (from bleach->nbconvert->notebook>=4.4.1->widgetsnbextension~=3.5.0->ipywidgets>=7.5.1->pandas-profiling==2.9.0) (0.5.1)\n",
            "Requirement already satisfied: packaging in /usr/local/lib/python3.6/dist-packages (from bleach->nbconvert->notebook>=4.4.1->widgetsnbextension~=3.5.0->ipywidgets>=7.5.1->pandas-profiling==2.9.0) (20.4)\n",
            "Building wheels for collected packages: pandas-profiling\n",
            "  Building wheel for pandas-profiling (setup.py) ... \u001b[?25l\u001b[?25hdone\n",
            "  Created wheel for pandas-profiling: filename=pandas_profiling-2.9.0-py2.py3-none-any.whl size=258952 sha256=f26a485184d896ae51b47d3264345afb2188f2e6f35cd27c89abd2c178696004\n",
            "  Stored in directory: /tmp/pip-ephem-wheel-cache-qw0n2del/wheels/56/c2/dd/8d945b0443c35df7d5f62fa9e9ae105a2d8b286302b92e0109\n",
            "Successfully built pandas-profiling\n"
          ],
          "name": "stdout"
        }
      ]
    },
    {
      "cell_type": "code",
      "metadata": {
        "id": "p9DJ8N_lOimM"
      },
      "source": [
        "from pandas_profiling import ProfileReport\n",
        "#profile = ProfileReport(data, title='Pandas Profiling Report', explorative=True)\n",
        "#profile.to_widgets()"
      ],
      "execution_count": null,
      "outputs": []
    },
    {
      "cell_type": "code",
      "metadata": {
        "id": "B63Vx9HDLAwR"
      },
      "source": [
        "#profile.to_file(\"/content/drive/My Drive/Loan Defaulters.html\")"
      ],
      "execution_count": null,
      "outputs": []
    },
    {
      "cell_type": "code",
      "metadata": {
        "id": "wToeevGMVsOi"
      },
      "source": [
        "loan = data.loc[data['loan_status'].isin(['Fully Paid','Charged Off'])]"
      ],
      "execution_count": null,
      "outputs": []
    },
    {
      "cell_type": "code",
      "metadata": {
        "id": "APMNe8VaV5dp"
      },
      "source": [
        "#profile = ProfileReport(loan, title='Pandas Profiling Report 2 ', explorative=True)\n",
        "#profile.to_file('/content/drive/My Drive/Loan Defaulters.html')"
      ],
      "execution_count": null,
      "outputs": []
    },
    {
      "cell_type": "code",
      "metadata": {
        "id": "E2LunTlhWVtf"
      },
      "source": [
        "loan.drop(labels = 'pymnt_plan',axis = 1,inplace = True)"
      ],
      "execution_count": null,
      "outputs": []
    },
    {
      "cell_type": "code",
      "metadata": {
        "id": "o1HR2Q4RYDbm"
      },
      "source": [
        "# Treating the fico sccores \n",
        "# Changing the values by taking an average to form an average column \n",
        "fico_col = ['fico_range_low','fico_range_high']\n",
        "loan['fico_average'] = (loan['fico_range_low'] + loan['fico_range_high']) /2\n"
      ],
      "execution_count": null,
      "outputs": []
    },
    {
      "cell_type": "code",
      "metadata": {
        "id": "MGbrl9XDYP2o"
      },
      "source": [
        "loan.drop(labels = fico_col,axis = 1,inplace= True)"
      ],
      "execution_count": null,
      "outputs": []
    },
    {
      "cell_type": "code",
      "metadata": {
        "id": "12gBjsFGY3aT",
        "outputId": "e0df8b63-e20c-4574-a45d-e21db0f2c6af",
        "colab": {
          "base_uri": "https://localhost:8080/",
          "height": 220,
          "referenced_widgets": [
            "1ef0e61841334c009de0c51cb3a41d99",
            "31255413fb2e485c8e0f681cc562ec21",
            "9b1cefb3ef0c4a4bb21ed2fb603b42da",
            "cf203bb08d504327b46031b16343ae3a"
          ]
        }
      },
      "source": [
        "profile = ProfileReport(loan, title='Pandas Profiling Report  ', explorative=True)\n",
        "profile.to_file('/content/drive/My Drive/Loan Defaulters.html')"
      ],
      "execution_count": null,
      "outputs": [
        {
          "output_type": "display_data",
          "data": {
            "application/vnd.jupyter.widget-view+json": {
              "model_id": "1ef0e61841334c009de0c51cb3a41d99",
              "version_major": 2,
              "version_minor": 0
            },
            "text/plain": [
              "HBox(children=(HTML(value='Summarize dataset'), FloatProgress(value=0.0, max=41.0), HTML(value='')))"
            ]
          },
          "metadata": {
            "tags": []
          }
        },
        {
          "output_type": "stream",
          "text": [
            "\n"
          ],
          "name": "stdout"
        },
        {
          "output_type": "display_data",
          "data": {
            "application/vnd.jupyter.widget-view+json": {
              "model_id": "31255413fb2e485c8e0f681cc562ec21",
              "version_major": 2,
              "version_minor": 0
            },
            "text/plain": [
              "HBox(children=(HTML(value='Generate report structure'), FloatProgress(value=0.0, max=1.0), HTML(value='')))"
            ]
          },
          "metadata": {
            "tags": []
          }
        },
        {
          "output_type": "stream",
          "text": [
            "\n"
          ],
          "name": "stdout"
        },
        {
          "output_type": "display_data",
          "data": {
            "application/vnd.jupyter.widget-view+json": {
              "model_id": "9b1cefb3ef0c4a4bb21ed2fb603b42da",
              "version_major": 2,
              "version_minor": 0
            },
            "text/plain": [
              "HBox(children=(HTML(value='Render HTML'), FloatProgress(value=0.0, max=1.0), HTML(value='')))"
            ]
          },
          "metadata": {
            "tags": []
          }
        },
        {
          "output_type": "stream",
          "text": [
            "\n"
          ],
          "name": "stdout"
        },
        {
          "output_type": "display_data",
          "data": {
            "application/vnd.jupyter.widget-view+json": {
              "model_id": "cf203bb08d504327b46031b16343ae3a",
              "version_major": 2,
              "version_minor": 0
            },
            "text/plain": [
              "HBox(children=(HTML(value='Export report to file'), FloatProgress(value=0.0, max=1.0), HTML(value='')))"
            ]
          },
          "metadata": {
            "tags": []
          }
        },
        {
          "output_type": "stream",
          "text": [
            "\n"
          ],
          "name": "stdout"
        }
      ]
    },
    {
      "cell_type": "code",
      "metadata": {
        "id": "MUIFv1b_ZZHU"
      },
      "source": [
        "loan['loan_status'].replace(to_replace=['Fully Paid','Charged Off'],value=[1,0],inplace = True )"
      ],
      "execution_count": null,
      "outputs": []
    },
    {
      "cell_type": "code",
      "metadata": {
        "id": "KtlckUZpZhQa"
      },
      "source": [
        "# Tackling the loan_amnt column\n",
        "def plot_var(col):\n",
        "  fig,ax = plt.subplots(1,2,figsize=(12,3))\n",
        "  sns.boxplot(y = col,x = 'loan_status',data = loan,ax = ax[0])\n",
        "  sns.distplot(loan[col].dropna(),bins = 50,kde = False,ax = ax[1])"
      ],
      "execution_count": null,
      "outputs": []
    },
    {
      "cell_type": "code",
      "metadata": {
        "id": "JKY3QlNLcpsN",
        "outputId": "60a5c992-de24-42d2-fae4-714d98669138",
        "colab": {
          "base_uri": "https://localhost:8080/",
          "height": 226
        }
      },
      "source": [
        "plot_var('loan_amnt')"
      ],
      "execution_count": null,
      "outputs": [
        {
          "output_type": "display_data",
          "data": {
            "image/png": "[encoded data removed]",
            "text/plain": [
              "<Figure size 864x216 with 2 Axes>"
            ]
          },
          "metadata": {
            "tags": []
          }
        }
      ]
    },
    {
      "cell_type": "code",
      "metadata": {
        "id": "JaxqmV4Ua5BX",
        "outputId": "00ab5ec3-cb80-454a-85b7-0d0d9d42d6d5",
        "colab": {
          "base_uri": "https://localhost:8080/",
          "height": 143
        }
      },
      "source": [
        "loan.groupby('loan_status')['loan_amnt'].describe()"
      ],
      "execution_count": null,
      "outputs": [
        {
          "output_type": "execute_result",
          "data": {
            "text/html": [
              "<div>\n",
              "<style scoped>\n",
              "    .dataframe tbody tr th:only-of-type {\n",
              "        vertical-align: middle;\n",
              "    }\n",
              "\n",
              "    .dataframe tbody tr th {\n",
              "        vertical-align: top;\n",
              "    }\n",
              "\n",
              "    .dataframe thead th {\n",
              "        text-align: right;\n",
              "    }\n",
              "</style>\n",
              "<table border=\"1\" class=\"dataframe\">\n",
              "  <thead>\n",
              "    <tr style=\"text-align: right;\">\n",
              "      <th></th>\n",
              "      <th>count</th>\n",
              "      <th>mean</th>\n",
              "      <th>std</th>\n",
              "      <th>min</th>\n",
              "      <th>25%</th>\n",
              "      <th>50%</th>\n",
              "      <th>75%</th>\n",
              "      <th>max</th>\n",
              "    </tr>\n",
              "    <tr>\n",
              "      <th>loan_status</th>\n",
              "      <th></th>\n",
              "      <th></th>\n",
              "      <th></th>\n",
              "      <th></th>\n",
              "      <th></th>\n",
              "      <th></th>\n",
              "      <th></th>\n",
              "      <th></th>\n",
              "    </tr>\n",
              "  </thead>\n",
              "  <tbody>\n",
              "    <tr>\n",
              "      <th>0</th>\n",
              "      <td>8867.0</td>\n",
              "      <td>17032.581482</td>\n",
              "      <td>10355.099451</td>\n",
              "      <td>1000.0</td>\n",
              "      <td>9600.0</td>\n",
              "      <td>15000.0</td>\n",
              "      <td>25000.0</td>\n",
              "      <td>40000.0</td>\n",
              "    </tr>\n",
              "    <tr>\n",
              "      <th>1</th>\n",
              "      <td>47444.0</td>\n",
              "      <td>14479.312980</td>\n",
              "      <td>10040.924029</td>\n",
              "      <td>1000.0</td>\n",
              "      <td>6500.0</td>\n",
              "      <td>12000.0</td>\n",
              "      <td>20000.0</td>\n",
              "      <td>40000.0</td>\n",
              "    </tr>\n",
              "  </tbody>\n",
              "</table>\n",
              "</div>"
            ],
            "text/plain": [
              "               count          mean           std  ...      50%      75%      max\n",
              "loan_status                                       ...                           \n",
              "0             8867.0  17032.581482  10355.099451  ...  15000.0  25000.0  40000.0\n",
              "1            47444.0  14479.312980  10040.924029  ...  12000.0  20000.0  40000.0\n",
              "\n",
              "[2 rows x 8 columns]"
            ]
          },
          "metadata": {
            "tags": []
          },
          "execution_count": 33
        }
      ]
    },
    {
      "cell_type": "code",
      "metadata": {
        "id": "1w-Ex2Yle9fy"
      },
      "source": [
        "loan['term'] = loan['term'].apply(lambda s: np.int8(s.split()[0]))"
      ],
      "execution_count": null,
      "outputs": []
    },
    {
      "cell_type": "code",
      "metadata": {
        "id": "OoubWtvXl4sc",
        "outputId": "f896b01a-ffb5-4e2e-d0eb-a35ec8e17460",
        "colab": {
          "base_uri": "https://localhost:8080/",
          "height": 73
        }
      },
      "source": [
        "loan['term'].value_counts(normalize=True)"
      ],
      "execution_count": null,
      "outputs": [
        {
          "output_type": "execute_result",
          "data": {
            "text/plain": [
              "36    0.732859\n",
              "60    0.267141\n",
              "Name: term, dtype: float64"
            ]
          },
          "metadata": {
            "tags": []
          },
          "execution_count": 35
        }
      ]
    },
    {
      "cell_type": "code",
      "metadata": {
        "id": "CaJqDxfrmaSy"
      },
      "source": [
        "grp_loan = loan.groupby('loan_status')"
      ],
      "execution_count": null,
      "outputs": []
    },
    {
      "cell_type": "code",
      "metadata": {
        "id": "gshh_CfSmeb6",
        "outputId": "5929b868-b4ff-4693-8e50-0c2444b88f36",
        "colab": {
          "base_uri": "https://localhost:8080/",
          "height": 167
        }
      },
      "source": [
        "print('Those who were able to pay the loans\\n',grp_loan.get_group(1)['term'].value_counts(normalize = True))\n",
        "print('Those who could not pay the the loan \\n',grp_loan.get_group(0)['term'].value_counts(normalize = True))"
      ],
      "execution_count": null,
      "outputs": [
        {
          "output_type": "stream",
          "text": [
            "Those who were able to pay the loans\n",
            " 36    0.754658\n",
            "60    0.245342\n",
            "Name: term, dtype: float64\n",
            "Those who could not pay the the loan \n",
            " 36    0.616217\n",
            "60    0.383783\n",
            "Name: term, dtype: float64\n"
          ],
          "name": "stdout"
        }
      ]
    },
    {
      "cell_type": "code",
      "metadata": {
        "id": "mZfOyYC6t6IW",
        "outputId": "e5e2eb32-1238-4daf-dcfc-86697381e11c",
        "colab": {
          "base_uri": "https://localhost:8080/",
          "height": 104
        }
      },
      "source": [
        "pd.crosstab(loan['term'],loan['loan_status'],normalize = 'columns',margins=True).style.background_gradient(cmap='magma')"
      ],
      "execution_count": null,
      "outputs": [
        {
          "output_type": "execute_result",
          "data": {
            "text/html": [
              "<style  type=\"text/css\" >\n",
              "#T_7f82c290_09be_11eb_ab73_0242ac1c0002row0_col0,#T_7f82c290_09be_11eb_ab73_0242ac1c0002row0_col1,#T_7f82c290_09be_11eb_ab73_0242ac1c0002row0_col2{\n",
              "            background-color:  #fcfdbf;\n",
              "            color:  #000000;\n",
              "        }#T_7f82c290_09be_11eb_ab73_0242ac1c0002row1_col0,#T_7f82c290_09be_11eb_ab73_0242ac1c0002row1_col1,#T_7f82c290_09be_11eb_ab73_0242ac1c0002row1_col2{\n",
              "            background-color:  #000004;\n",
              "            color:  #f1f1f1;\n",
              "        }</style><table id=\"T_7f82c290_09be_11eb_ab73_0242ac1c0002\" ><thead>    <tr>        <th class=\"index_name level0\" >loan_status</th>        <th class=\"col_heading level0 col0\" >0</th>        <th class=\"col_heading level0 col1\" >1</th>        <th class=\"col_heading level0 col2\" >All</th>    </tr>    <tr>        <th class=\"index_name level0\" >term</th>        <th class=\"blank\" ></th>        <th class=\"blank\" ></th>        <th class=\"blank\" ></th>    </tr></thead><tbody>\n",
              "                <tr>\n",
              "                        <th id=\"T_7f82c290_09be_11eb_ab73_0242ac1c0002level0_row0\" class=\"row_heading level0 row0\" >36</th>\n",
              "                        <td id=\"T_7f82c290_09be_11eb_ab73_0242ac1c0002row0_col0\" class=\"data row0 col0\" >0.616217</td>\n",
              "                        <td id=\"T_7f82c290_09be_11eb_ab73_0242ac1c0002row0_col1\" class=\"data row0 col1\" >0.754658</td>\n",
              "                        <td id=\"T_7f82c290_09be_11eb_ab73_0242ac1c0002row0_col2\" class=\"data row0 col2\" >0.732859</td>\n",
              "            </tr>\n",
              "            <tr>\n",
              "                        <th id=\"T_7f82c290_09be_11eb_ab73_0242ac1c0002level0_row1\" class=\"row_heading level0 row1\" >60</th>\n",
              "                        <td id=\"T_7f82c290_09be_11eb_ab73_0242ac1c0002row1_col0\" class=\"data row1 col0\" >0.383783</td>\n",
              "                        <td id=\"T_7f82c290_09be_11eb_ab73_0242ac1c0002row1_col1\" class=\"data row1 col1\" >0.245342</td>\n",
              "                        <td id=\"T_7f82c290_09be_11eb_ab73_0242ac1c0002row1_col2\" class=\"data row1 col2\" >0.267141</td>\n",
              "            </tr>\n",
              "    </tbody></table>"
            ],
            "text/plain": [
              "<pandas.io.formats.style.Styler at 0x7f807be4be80>"
            ]
          },
          "metadata": {
            "tags": []
          },
          "execution_count": 38
        }
      ]
    },
    {
      "cell_type": "code",
      "metadata": {
        "id": "9WCsvuZS0-H5",
        "outputId": "5419ceb9-0fbd-420f-f0ec-9c3a9702b569",
        "colab": {
          "base_uri": "https://localhost:8080/",
          "height": 230
        }
      },
      "source": [
        "plot_var('installment')"
      ],
      "execution_count": null,
      "outputs": [
        {
          "output_type": "display_data",
          "data": {
            "image/png": "[encoded data removed]",
            "text/plain": [
              "<Figure size 864x216 with 2 Axes>"
            ]
          },
          "metadata": {
            "tags": []
          }
        }
      ]
    },
    {
      "cell_type": "code",
      "metadata": {
        "id": "uhzhWBHU41iz",
        "outputId": "55bbde79-ca04-4fe7-e339-5919658b170e",
        "colab": {
          "base_uri": "https://localhost:8080/",
          "height": 143
        }
      },
      "source": [
        "loan.groupby('loan_status')['installment'].describe()"
      ],
      "execution_count": null,
      "outputs": [
        {
          "output_type": "execute_result",
          "data": {
            "text/html": [
              "<div>\n",
              "<style scoped>\n",
              "    .dataframe tbody tr th:only-of-type {\n",
              "        vertical-align: middle;\n",
              "    }\n",
              "\n",
              "    .dataframe tbody tr th {\n",
              "        vertical-align: top;\n",
              "    }\n",
              "\n",
              "    .dataframe thead th {\n",
              "        text-align: right;\n",
              "    }\n",
              "</style>\n",
              "<table border=\"1\" class=\"dataframe\">\n",
              "  <thead>\n",
              "    <tr style=\"text-align: right;\">\n",
              "      <th></th>\n",
              "      <th>count</th>\n",
              "      <th>mean</th>\n",
              "      <th>std</th>\n",
              "      <th>min</th>\n",
              "      <th>25%</th>\n",
              "      <th>50%</th>\n",
              "      <th>75%</th>\n",
              "      <th>max</th>\n",
              "    </tr>\n",
              "    <tr>\n",
              "      <th>loan_status</th>\n",
              "      <th></th>\n",
              "      <th></th>\n",
              "      <th></th>\n",
              "      <th></th>\n",
              "      <th></th>\n",
              "      <th></th>\n",
              "      <th></th>\n",
              "      <th></th>\n",
              "    </tr>\n",
              "  </thead>\n",
              "  <tbody>\n",
              "    <tr>\n",
              "      <th>0</th>\n",
              "      <td>8867.0</td>\n",
              "      <td>511.057564</td>\n",
              "      <td>301.932763</td>\n",
              "      <td>30.12</td>\n",
              "      <td>275.19</td>\n",
              "      <td>445.47</td>\n",
              "      <td>703.105</td>\n",
              "      <td>1587.23</td>\n",
              "    </tr>\n",
              "    <tr>\n",
              "      <th>1</th>\n",
              "      <td>47444.0</td>\n",
              "      <td>431.950850</td>\n",
              "      <td>289.569695</td>\n",
              "      <td>30.12</td>\n",
              "      <td>213.56</td>\n",
              "      <td>350.22</td>\n",
              "      <td>593.225</td>\n",
              "      <td>1628.08</td>\n",
              "    </tr>\n",
              "  </tbody>\n",
              "</table>\n",
              "</div>"
            ],
            "text/plain": [
              "               count        mean         std  ...     50%      75%      max\n",
              "loan_status                                   ...                          \n",
              "0             8867.0  511.057564  301.932763  ...  445.47  703.105  1587.23\n",
              "1            47444.0  431.950850  289.569695  ...  350.22  593.225  1628.08\n",
              "\n",
              "[2 rows x 8 columns]"
            ]
          },
          "metadata": {
            "tags": []
          },
          "execution_count": 40
        }
      ]
    },
    {
      "cell_type": "code",
      "metadata": {
        "id": "kpolqnGp5EEp",
        "outputId": "16d6b3ec-bd36-49c3-ae01-062bac467294",
        "colab": {
          "base_uri": "https://localhost:8080/",
          "height": 211
        }
      },
      "source": [
        "# grade\n",
        "pd.crosstab(loan['grade'],loan['loan_status'],normalize = 'columns',margins=True,dropna = True).style.background_gradient(cmap='magma')"
      ],
      "execution_count": null,
      "outputs": [
        {
          "output_type": "execute_result",
          "data": {
            "text/html": [
              "<style  type=\"text/css\" >\n",
              "#T_7fec4c06_09be_11eb_ab73_0242ac1c0002row0_col0{\n",
              "            background-color:  #451077;\n",
              "            color:  #f1f1f1;\n",
              "        }#T_7fec4c06_09be_11eb_ab73_0242ac1c0002row0_col1,#T_7fec4c06_09be_11eb_ab73_0242ac1c0002row3_col0{\n",
              "            background-color:  #fed194;\n",
              "            color:  #000000;\n",
              "        }#T_7fec4c06_09be_11eb_ab73_0242ac1c0002row0_col2{\n",
              "            background-color:  #feb47b;\n",
              "            color:  #000000;\n",
              "        }#T_7fec4c06_09be_11eb_ab73_0242ac1c0002row1_col0{\n",
              "            background-color:  #eb5760;\n",
              "            color:  #000000;\n",
              "        }#T_7fec4c06_09be_11eb_ab73_0242ac1c0002row1_col1,#T_7fec4c06_09be_11eb_ab73_0242ac1c0002row1_col2,#T_7fec4c06_09be_11eb_ab73_0242ac1c0002row2_col0{\n",
              "            background-color:  #fcfdbf;\n",
              "            color:  #000000;\n",
              "        }#T_7fec4c06_09be_11eb_ab73_0242ac1c0002row2_col1{\n",
              "            background-color:  #fecc8f;\n",
              "            color:  #000000;\n",
              "        }#T_7fec4c06_09be_11eb_ab73_0242ac1c0002row2_col2{\n",
              "            background-color:  #fceeb0;\n",
              "            color:  #000000;\n",
              "        }#T_7fec4c06_09be_11eb_ab73_0242ac1c0002row3_col1{\n",
              "            background-color:  #c23b75;\n",
              "            color:  #f1f1f1;\n",
              "        }#T_7fec4c06_09be_11eb_ab73_0242ac1c0002row3_col2{\n",
              "            background-color:  #e85362;\n",
              "            color:  #000000;\n",
              "        }#T_7fec4c06_09be_11eb_ab73_0242ac1c0002row4_col0{\n",
              "            background-color:  #671b80;\n",
              "            color:  #f1f1f1;\n",
              "        }#T_7fec4c06_09be_11eb_ab73_0242ac1c0002row4_col1{\n",
              "            background-color:  #271258;\n",
              "            color:  #f1f1f1;\n",
              "        }#T_7fec4c06_09be_11eb_ab73_0242ac1c0002row4_col2{\n",
              "            background-color:  #38106c;\n",
              "            color:  #f1f1f1;\n",
              "        }#T_7fec4c06_09be_11eb_ab73_0242ac1c0002row5_col0{\n",
              "            background-color:  #0b0924;\n",
              "            color:  #f1f1f1;\n",
              "        }#T_7fec4c06_09be_11eb_ab73_0242ac1c0002row5_col1{\n",
              "            background-color:  #02020d;\n",
              "            color:  #f1f1f1;\n",
              "        }#T_7fec4c06_09be_11eb_ab73_0242ac1c0002row5_col2{\n",
              "            background-color:  #030312;\n",
              "            color:  #f1f1f1;\n",
              "        }#T_7fec4c06_09be_11eb_ab73_0242ac1c0002row6_col0,#T_7fec4c06_09be_11eb_ab73_0242ac1c0002row6_col1,#T_7fec4c06_09be_11eb_ab73_0242ac1c0002row6_col2{\n",
              "            background-color:  #000004;\n",
              "            color:  #f1f1f1;\n",
              "        }</style><table id=\"T_7fec4c06_09be_11eb_ab73_0242ac1c0002\" ><thead>    <tr>        <th class=\"index_name level0\" >loan_status</th>        <th class=\"col_heading level0 col0\" >0</th>        <th class=\"col_heading level0 col1\" >1</th>        <th class=\"col_heading level0 col2\" >All</th>    </tr>    <tr>        <th class=\"index_name level0\" >grade</th>        <th class=\"blank\" ></th>        <th class=\"blank\" ></th>        <th class=\"blank\" ></th>    </tr></thead><tbody>\n",
              "                <tr>\n",
              "                        <th id=\"T_7fec4c06_09be_11eb_ab73_0242ac1c0002level0_row0\" class=\"row_heading level0 row0\" >A</th>\n",
              "                        <td id=\"T_7fec4c06_09be_11eb_ab73_0242ac1c0002row0_col0\" class=\"data row0 col0\" >0.074546</td>\n",
              "                        <td id=\"T_7fec4c06_09be_11eb_ab73_0242ac1c0002row0_col1\" class=\"data row0 col1\" >0.256281</td>\n",
              "                        <td id=\"T_7fec4c06_09be_11eb_ab73_0242ac1c0002row0_col2\" class=\"data row0 col2\" >0.227664</td>\n",
              "            </tr>\n",
              "            <tr>\n",
              "                        <th id=\"T_7fec4c06_09be_11eb_ab73_0242ac1c0002level0_row1\" class=\"row_heading level0 row1\" >B</th>\n",
              "                        <td id=\"T_7fec4c06_09be_11eb_ab73_0242ac1c0002row1_col0\" class=\"data row1 col0\" >0.201195</td>\n",
              "                        <td id=\"T_7fec4c06_09be_11eb_ab73_0242ac1c0002row1_col1\" class=\"data row1 col1\" >0.283450</td>\n",
              "                        <td id=\"T_7fec4c06_09be_11eb_ab73_0242ac1c0002row1_col2\" class=\"data row1 col2\" >0.270498</td>\n",
              "            </tr>\n",
              "            <tr>\n",
              "                        <th id=\"T_7fec4c06_09be_11eb_ab73_0242ac1c0002level0_row2\" class=\"row_heading level0 row2\" >C</th>\n",
              "                        <td id=\"T_7fec4c06_09be_11eb_ab73_0242ac1c0002row2_col0\" class=\"data row2 col0\" >0.310251</td>\n",
              "                        <td id=\"T_7fec4c06_09be_11eb_ab73_0242ac1c0002row2_col1\" class=\"data row2 col1\" >0.253014</td>\n",
              "                        <td id=\"T_7fec4c06_09be_11eb_ab73_0242ac1c0002row2_col2\" class=\"data row2 col2\" >0.262027</td>\n",
              "            </tr>\n",
              "            <tr>\n",
              "                        <th id=\"T_7fec4c06_09be_11eb_ab73_0242ac1c0002level0_row3\" class=\"row_heading level0 row3\" >D</th>\n",
              "                        <td id=\"T_7fec4c06_09be_11eb_ab73_0242ac1c0002row3_col0\" class=\"data row3 col0\" >0.281042</td>\n",
              "                        <td id=\"T_7fec4c06_09be_11eb_ab73_0242ac1c0002row3_col1\" class=\"data row3 col1\" >0.151273</td>\n",
              "                        <td id=\"T_7fec4c06_09be_11eb_ab73_0242ac1c0002row3_col2\" class=\"data row3 col2\" >0.171707</td>\n",
              "            </tr>\n",
              "            <tr>\n",
              "                        <th id=\"T_7fec4c06_09be_11eb_ab73_0242ac1c0002level0_row4\" class=\"row_heading level0 row4\" >E</th>\n",
              "                        <td id=\"T_7fec4c06_09be_11eb_ab73_0242ac1c0002row4_col0\" class=\"data row4 col0\" >0.099583</td>\n",
              "                        <td id=\"T_7fec4c06_09be_11eb_ab73_0242ac1c0002row4_col1\" class=\"data row4 col1\" >0.045296</td>\n",
              "                        <td id=\"T_7fec4c06_09be_11eb_ab73_0242ac1c0002row4_col2\" class=\"data row4 col2\" >0.053844</td>\n",
              "            </tr>\n",
              "            <tr>\n",
              "                        <th id=\"T_7fec4c06_09be_11eb_ab73_0242ac1c0002level0_row5\" class=\"row_heading level0 row5\" >F</th>\n",
              "                        <td id=\"T_7fec4c06_09be_11eb_ab73_0242ac1c0002row5_col0\" class=\"data row5 col0\" >0.027067</td>\n",
              "                        <td id=\"T_7fec4c06_09be_11eb_ab73_0242ac1c0002row5_col1\" class=\"data row5 col1\" >0.008853</td>\n",
              "                        <td id=\"T_7fec4c06_09be_11eb_ab73_0242ac1c0002row5_col2\" class=\"data row5 col2\" >0.011721</td>\n",
              "            </tr>\n",
              "            <tr>\n",
              "                        <th id=\"T_7fec4c06_09be_11eb_ab73_0242ac1c0002level0_row6\" class=\"row_heading level0 row6\" >G</th>\n",
              "                        <td id=\"T_7fec4c06_09be_11eb_ab73_0242ac1c0002row6_col0\" class=\"data row6 col0\" >0.006316</td>\n",
              "                        <td id=\"T_7fec4c06_09be_11eb_ab73_0242ac1c0002row6_col1\" class=\"data row6 col1\" >0.001834</td>\n",
              "                        <td id=\"T_7fec4c06_09be_11eb_ab73_0242ac1c0002row6_col2\" class=\"data row6 col2\" >0.002539</td>\n",
              "            </tr>\n",
              "    </tbody></table>"
            ],
            "text/plain": [
              "<pandas.io.formats.style.Styler at 0x7f807be0d358>"
            ]
          },
          "metadata": {
            "tags": []
          },
          "execution_count": 41
        }
      ]
    },
    {
      "cell_type": "code",
      "metadata": {
        "id": "lvHAh6oA7D7S",
        "outputId": "bcace2b7-7ac9-4183-e94c-617ffb47ba3a",
        "colab": {
          "base_uri": "https://localhost:8080/",
          "height": 300
        }
      },
      "source": [
        "sns.countplot(x = 'grade',data = loan,hue = 'loan_status')"
      ],
      "execution_count": null,
      "outputs": [
        {
          "output_type": "execute_result",
          "data": {
            "text/plain": [
              "<matplotlib.axes._subplots.AxesSubplot at 0x7f807bcd1940>"
            ]
          },
          "metadata": {
            "tags": []
          },
          "execution_count": 42
        },
        {
          "output_type": "display_data",
          "data": {
            "image/png": "[encoded data removed]",
            "text/plain": [
              "<Figure size 432x288 with 1 Axes>"
            ]
          },
          "metadata": {
            "tags": []
          }
        }
      ]
    },
    {
      "cell_type": "code",
      "metadata": {
        "id": "Tzda6hXJPHF9"
      },
      "source": [
        "loan['emp_length'].replace(to_replace = ['10+ years','< 1 year'],value = ['10 years','0 years'], inplace = True)"
      ],
      "execution_count": null,
      "outputs": []
    },
    {
      "cell_type": "code",
      "metadata": {
        "id": "i3Iu3xzhPqGQ"
      },
      "source": [
        "  loan['emp_length'] = loan['emp_length'].astype(str)\n",
        "  def convert_int(s):\n",
        "    if pd.isnull(s):\n",
        "      return s\n",
        "    else:\n",
        "      return s.split()[0]\n",
        "\n",
        "  loan['emp_length'] = loan['emp_length'].apply(lambda s :convert_int(s) )"
      ],
      "execution_count": null,
      "outputs": []
    },
    {
      "cell_type": "code",
      "metadata": {
        "id": "t3y4TbAv58ou",
        "outputId": "7cb75758-4747-4f00-a0d5-755d21520b8f",
        "colab": {
          "base_uri": "https://localhost:8080/",
          "height": 299
        }
      },
      "source": [
        "sns.countplot(x = 'emp_length',data = loan,hue = 'loan_status')\n",
        "#plt.xticks(rotation = 45)"
      ],
      "execution_count": null,
      "outputs": [
        {
          "output_type": "execute_result",
          "data": {
            "text/plain": [
              "<matplotlib.axes._subplots.AxesSubplot at 0x7f807b9f7400>"
            ]
          },
          "metadata": {
            "tags": []
          },
          "execution_count": 45
        },
        {
          "output_type": "display_data",
          "data": {
            "image/png": "[encoded data removed]",
            "text/plain": [
              "<Figure size 432x288 with 1 Axes>"
            ]
          },
          "metadata": {
            "tags": []
          }
        }
      ]
    },
    {
      "cell_type": "code",
      "metadata": {
        "id": "spt27nIkWfgB",
        "outputId": "7232fe6e-a158-448b-d9dc-cd8e4a0ca365",
        "colab": {
          "base_uri": "https://localhost:8080/",
          "height": 318
        }
      },
      "source": [
        "# emp_length\n",
        "pd.crosstab(loan['emp_length'],loan['loan_status'],normalize = 'columns',margins=True,dropna = True).style.background_gradient(cmap='magma')"
      ],
      "execution_count": null,
      "outputs": [
        {
          "output_type": "execute_result",
          "data": {
            "text/html": [
              "<style  type=\"text/css\" >\n",
              "#T_8160fd20_09be_11eb_ab73_0242ac1c0002row0_col0{\n",
              "            background-color:  #36106b;\n",
              "            color:  #f1f1f1;\n",
              "        }#T_8160fd20_09be_11eb_ab73_0242ac1c0002row0_col1{\n",
              "            background-color:  #29115a;\n",
              "            color:  #f1f1f1;\n",
              "        }#T_8160fd20_09be_11eb_ab73_0242ac1c0002row0_col2{\n",
              "            background-color:  #2a115c;\n",
              "            color:  #f1f1f1;\n",
              "        }#T_8160fd20_09be_11eb_ab73_0242ac1c0002row1_col0,#T_8160fd20_09be_11eb_ab73_0242ac1c0002row4_col2{\n",
              "            background-color:  #311165;\n",
              "            color:  #f1f1f1;\n",
              "        }#T_8160fd20_09be_11eb_ab73_0242ac1c0002row1_col1,#T_8160fd20_09be_11eb_ab73_0242ac1c0002row6_col2{\n",
              "            background-color:  #19103f;\n",
              "            color:  #f1f1f1;\n",
              "        }#T_8160fd20_09be_11eb_ab73_0242ac1c0002row1_col2,#T_8160fd20_09be_11eb_ab73_0242ac1c0002row5_col2{\n",
              "            background-color:  #1c1044;\n",
              "            color:  #f1f1f1;\n",
              "        }#T_8160fd20_09be_11eb_ab73_0242ac1c0002row2_col0,#T_8160fd20_09be_11eb_ab73_0242ac1c0002row2_col1,#T_8160fd20_09be_11eb_ab73_0242ac1c0002row2_col2{\n",
              "            background-color:  #fcfdbf;\n",
              "            color:  #000000;\n",
              "        }#T_8160fd20_09be_11eb_ab73_0242ac1c0002row3_col0{\n",
              "            background-color:  #59157e;\n",
              "            color:  #f1f1f1;\n",
              "        }#T_8160fd20_09be_11eb_ab73_0242ac1c0002row3_col1,#T_8160fd20_09be_11eb_ab73_0242ac1c0002row11_col2{\n",
              "            background-color:  #390f6e;\n",
              "            color:  #f1f1f1;\n",
              "        }#T_8160fd20_09be_11eb_ab73_0242ac1c0002row3_col2{\n",
              "            background-color:  #3d0f71;\n",
              "            color:  #f1f1f1;\n",
              "        }#T_8160fd20_09be_11eb_ab73_0242ac1c0002row4_col0{\n",
              "            background-color:  #4a1079;\n",
              "            color:  #f1f1f1;\n",
              "        }#T_8160fd20_09be_11eb_ab73_0242ac1c0002row4_col1{\n",
              "            background-color:  #2d1161;\n",
              "            color:  #f1f1f1;\n",
              "        }#T_8160fd20_09be_11eb_ab73_0242ac1c0002row5_col0{\n",
              "            background-color:  #271258;\n",
              "            color:  #f1f1f1;\n",
              "        }#T_8160fd20_09be_11eb_ab73_0242ac1c0002row5_col1{\n",
              "            background-color:  #1a1042;\n",
              "            color:  #f1f1f1;\n",
              "        }#T_8160fd20_09be_11eb_ab73_0242ac1c0002row6_col0{\n",
              "            background-color:  #21114e;\n",
              "            color:  #f1f1f1;\n",
              "        }#T_8160fd20_09be_11eb_ab73_0242ac1c0002row6_col1{\n",
              "            background-color:  #180f3d;\n",
              "            color:  #f1f1f1;\n",
              "        }#T_8160fd20_09be_11eb_ab73_0242ac1c0002row7_col0{\n",
              "            background-color:  #0a0822;\n",
              "            color:  #f1f1f1;\n",
              "        }#T_8160fd20_09be_11eb_ab73_0242ac1c0002row7_col1,#T_8160fd20_09be_11eb_ab73_0242ac1c0002row7_col2{\n",
              "            background-color:  #08071e;\n",
              "            color:  #f1f1f1;\n",
              "        }#T_8160fd20_09be_11eb_ab73_0242ac1c0002row8_col0{\n",
              "            background-color:  #06051a;\n",
              "            color:  #f1f1f1;\n",
              "        }#T_8160fd20_09be_11eb_ab73_0242ac1c0002row8_col1,#T_8160fd20_09be_11eb_ab73_0242ac1c0002row8_col2,#T_8160fd20_09be_11eb_ab73_0242ac1c0002row9_col0{\n",
              "            background-color:  #030312;\n",
              "            color:  #f1f1f1;\n",
              "        }#T_8160fd20_09be_11eb_ab73_0242ac1c0002row9_col1{\n",
              "            background-color:  #020109;\n",
              "            color:  #f1f1f1;\n",
              "        }#T_8160fd20_09be_11eb_ab73_0242ac1c0002row9_col2{\n",
              "            background-color:  #02020b;\n",
              "            color:  #f1f1f1;\n",
              "        }#T_8160fd20_09be_11eb_ab73_0242ac1c0002row10_col0,#T_8160fd20_09be_11eb_ab73_0242ac1c0002row10_col1,#T_8160fd20_09be_11eb_ab73_0242ac1c0002row10_col2{\n",
              "            background-color:  #000004;\n",
              "            color:  #f1f1f1;\n",
              "        }#T_8160fd20_09be_11eb_ab73_0242ac1c0002row11_col0{\n",
              "            background-color:  #962c80;\n",
              "            color:  #f1f1f1;\n",
              "        }#T_8160fd20_09be_11eb_ab73_0242ac1c0002row11_col1{\n",
              "            background-color:  #2c115f;\n",
              "            color:  #f1f1f1;\n",
              "        }</style><table id=\"T_8160fd20_09be_11eb_ab73_0242ac1c0002\" ><thead>    <tr>        <th class=\"index_name level0\" >loan_status</th>        <th class=\"col_heading level0 col0\" >0</th>        <th class=\"col_heading level0 col1\" >1</th>        <th class=\"col_heading level0 col2\" >All</th>    </tr>    <tr>        <th class=\"index_name level0\" >emp_length</th>        <th class=\"blank\" ></th>        <th class=\"blank\" ></th>        <th class=\"blank\" ></th>    </tr></thead><tbody>\n",
              "                <tr>\n",
              "                        <th id=\"T_8160fd20_09be_11eb_ab73_0242ac1c0002level0_row0\" class=\"row_heading level0 row0\" >0</th>\n",
              "                        <td id=\"T_8160fd20_09be_11eb_ab73_0242ac1c0002row0_col0\" class=\"data row0 col0\" >0.073757</td>\n",
              "                        <td id=\"T_8160fd20_09be_11eb_ab73_0242ac1c0002row0_col1\" class=\"data row0 col1\" >0.076870</td>\n",
              "                        <td id=\"T_8160fd20_09be_11eb_ab73_0242ac1c0002row0_col2\" class=\"data row0 col2\" >0.076379</td>\n",
              "            </tr>\n",
              "            <tr>\n",
              "                        <th id=\"T_8160fd20_09be_11eb_ab73_0242ac1c0002level0_row1\" class=\"row_heading level0 row1\" >1</th>\n",
              "                        <td id=\"T_8160fd20_09be_11eb_ab73_0242ac1c0002row1_col0\" class=\"data row1 col0\" >0.070486</td>\n",
              "                        <td id=\"T_8160fd20_09be_11eb_ab73_0242ac1c0002row1_col1\" class=\"data row1 col1\" >0.063401</td>\n",
              "                        <td id=\"T_8160fd20_09be_11eb_ab73_0242ac1c0002row1_col2\" class=\"data row1 col2\" >0.064517</td>\n",
              "            </tr>\n",
              "            <tr>\n",
              "                        <th id=\"T_8160fd20_09be_11eb_ab73_0242ac1c0002level0_row2\" class=\"row_heading level0 row2\" >10</th>\n",
              "                        <td id=\"T_8160fd20_09be_11eb_ab73_0242ac1c0002row2_col0\" class=\"data row2 col0\" >0.282621</td>\n",
              "                        <td id=\"T_8160fd20_09be_11eb_ab73_0242ac1c0002row2_col1\" class=\"data row2 col1\" >0.342804</td>\n",
              "                        <td id=\"T_8160fd20_09be_11eb_ab73_0242ac1c0002row2_col2\" class=\"data row2 col2\" >0.333327</td>\n",
              "            </tr>\n",
              "            <tr>\n",
              "                        <th id=\"T_8160fd20_09be_11eb_ab73_0242ac1c0002level0_row3\" class=\"row_heading level0 row3\" >2</th>\n",
              "                        <td id=\"T_8160fd20_09be_11eb_ab73_0242ac1c0002row3_col0\" class=\"data row3 col0\" >0.094169</td>\n",
              "                        <td id=\"T_8160fd20_09be_11eb_ab73_0242ac1c0002row3_col1\" class=\"data row3 col1\" >0.089052</td>\n",
              "                        <td id=\"T_8160fd20_09be_11eb_ab73_0242ac1c0002row3_col2\" class=\"data row3 col2\" >0.089858</td>\n",
              "            </tr>\n",
              "            <tr>\n",
              "                        <th id=\"T_8160fd20_09be_11eb_ab73_0242ac1c0002level0_row4\" class=\"row_heading level0 row4\" >3</th>\n",
              "                        <td id=\"T_8160fd20_09be_11eb_ab73_0242ac1c0002row4_col0\" class=\"data row4 col0\" >0.085824</td>\n",
              "                        <td id=\"T_8160fd20_09be_11eb_ab73_0242ac1c0002row4_col1\" class=\"data row4 col1\" >0.080495</td>\n",
              "                        <td id=\"T_8160fd20_09be_11eb_ab73_0242ac1c0002row4_col2\" class=\"data row4 col2\" >0.081334</td>\n",
              "            </tr>\n",
              "            <tr>\n",
              "                        <th id=\"T_8160fd20_09be_11eb_ab73_0242ac1c0002level0_row5\" class=\"row_heading level0 row5\" >4</th>\n",
              "                        <td id=\"T_8160fd20_09be_11eb_ab73_0242ac1c0002row5_col0\" class=\"data row5 col0\" >0.063945</td>\n",
              "                        <td id=\"T_8160fd20_09be_11eb_ab73_0242ac1c0002row5_col1\" class=\"data row5 col1\" >0.064497</td>\n",
              "                        <td id=\"T_8160fd20_09be_11eb_ab73_0242ac1c0002row5_col2\" class=\"data row5 col2\" >0.064410</td>\n",
              "            </tr>\n",
              "            <tr>\n",
              "                        <th id=\"T_8160fd20_09be_11eb_ab73_0242ac1c0002level0_row6\" class=\"row_heading level0 row6\" >5</th>\n",
              "                        <td id=\"T_8160fd20_09be_11eb_ab73_0242ac1c0002row6_col0\" class=\"data row6 col0\" >0.060223</td>\n",
              "                        <td id=\"T_8160fd20_09be_11eb_ab73_0242ac1c0002row6_col1\" class=\"data row6 col1\" >0.062305</td>\n",
              "                        <td id=\"T_8160fd20_09be_11eb_ab73_0242ac1c0002row6_col2\" class=\"data row6 col2\" >0.061977</td>\n",
              "            </tr>\n",
              "            <tr>\n",
              "                        <th id=\"T_8160fd20_09be_11eb_ab73_0242ac1c0002level0_row7\" class=\"row_heading level0 row7\" >6</th>\n",
              "                        <td id=\"T_8160fd20_09be_11eb_ab73_0242ac1c0002row7_col0\" class=\"data row7 col0\" >0.040826</td>\n",
              "                        <td id=\"T_8160fd20_09be_11eb_ab73_0242ac1c0002row7_col1\" class=\"data row7 col1\" >0.044600</td>\n",
              "                        <td id=\"T_8160fd20_09be_11eb_ab73_0242ac1c0002row7_col2\" class=\"data row7 col2\" >0.044006</td>\n",
              "            </tr>\n",
              "            <tr>\n",
              "                        <th id=\"T_8160fd20_09be_11eb_ab73_0242ac1c0002level0_row8\" class=\"row_heading level0 row8\" >7</th>\n",
              "                        <td id=\"T_8160fd20_09be_11eb_ab73_0242ac1c0002row8_col0\" class=\"data row8 col0\" >0.036878</td>\n",
              "                        <td id=\"T_8160fd20_09be_11eb_ab73_0242ac1c0002row8_col1\" class=\"data row8 col1\" >0.037307</td>\n",
              "                        <td id=\"T_8160fd20_09be_11eb_ab73_0242ac1c0002row8_col2\" class=\"data row8 col2\" >0.037240</td>\n",
              "            </tr>\n",
              "            <tr>\n",
              "                        <th id=\"T_8160fd20_09be_11eb_ab73_0242ac1c0002level0_row9\" class=\"row_heading level0 row9\" >8</th>\n",
              "                        <td id=\"T_8160fd20_09be_11eb_ab73_0242ac1c0002row9_col0\" class=\"data row9 col0\" >0.033382</td>\n",
              "                        <td id=\"T_8160fd20_09be_11eb_ab73_0242ac1c0002row9_col1\" class=\"data row9 col1\" >0.032670</td>\n",
              "                        <td id=\"T_8160fd20_09be_11eb_ab73_0242ac1c0002row9_col2\" class=\"data row9 col2\" >0.032782</td>\n",
              "            </tr>\n",
              "            <tr>\n",
              "                        <th id=\"T_8160fd20_09be_11eb_ab73_0242ac1c0002level0_row10\" class=\"row_heading level0 row10\" >9</th>\n",
              "                        <td id=\"T_8160fd20_09be_11eb_ab73_0242ac1c0002row10_col0\" class=\"data row10 col0\" >0.024360</td>\n",
              "                        <td id=\"T_8160fd20_09be_11eb_ab73_0242ac1c0002row10_col1\" class=\"data row10 col1\" >0.026958</td>\n",
              "                        <td id=\"T_8160fd20_09be_11eb_ab73_0242ac1c0002row10_col2\" class=\"data row10 col2\" >0.026549</td>\n",
              "            </tr>\n",
              "            <tr>\n",
              "                        <th id=\"T_8160fd20_09be_11eb_ab73_0242ac1c0002level0_row11\" class=\"row_heading level0 row11\" >nan</th>\n",
              "                        <td id=\"T_8160fd20_09be_11eb_ab73_0242ac1c0002row11_col0\" class=\"data row11 col0\" >0.133529</td>\n",
              "                        <td id=\"T_8160fd20_09be_11eb_ab73_0242ac1c0002row11_col1\" class=\"data row11 col1\" >0.079041</td>\n",
              "                        <td id=\"T_8160fd20_09be_11eb_ab73_0242ac1c0002row11_col2\" class=\"data row11 col2\" >0.087621</td>\n",
              "            </tr>\n",
              "    </tbody></table>"
            ],
            "text/plain": [
              "<pandas.io.formats.style.Styler at 0x7f807bd65710>"
            ]
          },
          "metadata": {
            "tags": []
          },
          "execution_count": 46
        }
      ]
    },
    {
      "cell_type": "code",
      "metadata": {
        "id": "BataL3GJWzSJ",
        "outputId": "f096c4ba-6f4d-4a64-ba77-22c366d3fbf8",
        "colab": {
          "base_uri": "https://localhost:8080/",
          "height": 147
        }
      },
      "source": [
        "# home ownership\n",
        "pd.crosstab(loan['home_ownership'],loan['loan_status'],normalize = 'columns',margins=True,dropna = True).style.background_gradient(cmap='magma')"
      ],
      "execution_count": null,
      "outputs": [
        {
          "output_type": "execute_result",
          "data": {
            "text/html": [
              "<style  type=\"text/css\" >\n",
              "#T_816dd428_09be_11eb_ab73_0242ac1c0002row0_col0,#T_816dd428_09be_11eb_ab73_0242ac1c0002row0_col1,#T_816dd428_09be_11eb_ab73_0242ac1c0002row0_col2{\n",
              "            background-color:  #000004;\n",
              "            color:  #f1f1f1;\n",
              "        }#T_816dd428_09be_11eb_ab73_0242ac1c0002row1_col0{\n",
              "            background-color:  #fea36f;\n",
              "            color:  #000000;\n",
              "        }#T_816dd428_09be_11eb_ab73_0242ac1c0002row1_col1,#T_816dd428_09be_11eb_ab73_0242ac1c0002row1_col2,#T_816dd428_09be_11eb_ab73_0242ac1c0002row3_col0{\n",
              "            background-color:  #fcfdbf;\n",
              "            color:  #000000;\n",
              "        }#T_816dd428_09be_11eb_ab73_0242ac1c0002row2_col0{\n",
              "            background-color:  #671b80;\n",
              "            color:  #f1f1f1;\n",
              "        }#T_816dd428_09be_11eb_ab73_0242ac1c0002row2_col1{\n",
              "            background-color:  #4f127b;\n",
              "            color:  #f1f1f1;\n",
              "        }#T_816dd428_09be_11eb_ab73_0242ac1c0002row2_col2{\n",
              "            background-color:  #56147d;\n",
              "            color:  #f1f1f1;\n",
              "        }#T_816dd428_09be_11eb_ab73_0242ac1c0002row3_col1{\n",
              "            background-color:  #ea5661;\n",
              "            color:  #000000;\n",
              "        }#T_816dd428_09be_11eb_ab73_0242ac1c0002row3_col2{\n",
              "            background-color:  #f8745c;\n",
              "            color:  #000000;\n",
              "        }</style><table id=\"T_816dd428_09be_11eb_ab73_0242ac1c0002\" ><thead>    <tr>        <th class=\"index_name level0\" >loan_status</th>        <th class=\"col_heading level0 col0\" >0</th>        <th class=\"col_heading level0 col1\" >1</th>        <th class=\"col_heading level0 col2\" >All</th>    </tr>    <tr>        <th class=\"index_name level0\" >home_ownership</th>        <th class=\"blank\" ></th>        <th class=\"blank\" ></th>        <th class=\"blank\" ></th>    </tr></thead><tbody>\n",
              "                <tr>\n",
              "                        <th id=\"T_816dd428_09be_11eb_ab73_0242ac1c0002level0_row0\" class=\"row_heading level0 row0\" >ANY</th>\n",
              "                        <td id=\"T_816dd428_09be_11eb_ab73_0242ac1c0002row0_col0\" class=\"data row0 col0\" >0.000338</td>\n",
              "                        <td id=\"T_816dd428_09be_11eb_ab73_0242ac1c0002row0_col1\" class=\"data row0 col1\" >0.000422</td>\n",
              "                        <td id=\"T_816dd428_09be_11eb_ab73_0242ac1c0002row0_col2\" class=\"data row0 col2\" >0.000408</td>\n",
              "            </tr>\n",
              "            <tr>\n",
              "                        <th id=\"T_816dd428_09be_11eb_ab73_0242ac1c0002level0_row1\" class=\"row_heading level0 row1\" >MORTGAGE</th>\n",
              "                        <td id=\"T_816dd428_09be_11eb_ab73_0242ac1c0002row1_col0\" class=\"data row1 col0\" >0.382204</td>\n",
              "                        <td id=\"T_816dd428_09be_11eb_ab73_0242ac1c0002row1_col1\" class=\"data row1 col1\" >0.529656</td>\n",
              "                        <td id=\"T_816dd428_09be_11eb_ab73_0242ac1c0002row1_col2\" class=\"data row1 col2\" >0.506437</td>\n",
              "            </tr>\n",
              "            <tr>\n",
              "                        <th id=\"T_816dd428_09be_11eb_ab73_0242ac1c0002level0_row2\" class=\"row_heading level0 row2\" >OWN</th>\n",
              "                        <td id=\"T_816dd428_09be_11eb_ab73_0242ac1c0002row2_col0\" class=\"data row2 col0\" >0.144581</td>\n",
              "                        <td id=\"T_816dd428_09be_11eb_ab73_0242ac1c0002row2_col1\" class=\"data row2 col1\" >0.131502</td>\n",
              "                        <td id=\"T_816dd428_09be_11eb_ab73_0242ac1c0002row2_col2\" class=\"data row2 col2\" >0.133562</td>\n",
              "            </tr>\n",
              "            <tr>\n",
              "                        <th id=\"T_816dd428_09be_11eb_ab73_0242ac1c0002level0_row3\" class=\"row_heading level0 row3\" >RENT</th>\n",
              "                        <td id=\"T_816dd428_09be_11eb_ab73_0242ac1c0002row3_col0\" class=\"data row3 col0\" >0.472877</td>\n",
              "                        <td id=\"T_816dd428_09be_11eb_ab73_0242ac1c0002row3_col1\" class=\"data row3 col1\" >0.338420</td>\n",
              "                        <td id=\"T_816dd428_09be_11eb_ab73_0242ac1c0002row3_col2\" class=\"data row3 col2\" >0.359592</td>\n",
              "            </tr>\n",
              "    </tbody></table>"
            ],
            "text/plain": [
              "<pandas.io.formats.style.Styler at 0x7f807bcb8da0>"
            ]
          },
          "metadata": {
            "tags": []
          },
          "execution_count": 47
        }
      ]
    },
    {
      "cell_type": "code",
      "metadata": {
        "id": "bYeT6bwK75oF",
        "outputId": "5580dd6a-af77-4b40-eec8-f757092cbcea",
        "colab": {
          "base_uri": "https://localhost:8080/",
          "height": 337
        }
      },
      "source": [
        "sns.countplot(x = 'home_ownership',data = loan,hue = 'loan_status')\n",
        "plt.xticks(rotation = 45)"
      ],
      "execution_count": null,
      "outputs": [
        {
          "output_type": "execute_result",
          "data": {
            "text/plain": [
              "(array([0, 1, 2, 3]), <a list of 4 Text major ticklabel objects>)"
            ]
          },
          "metadata": {
            "tags": []
          },
          "execution_count": 48
        },
        {
          "output_type": "display_data",
          "data": {
            "image/png": "[encoded data removed]",
            "text/plain": [
              "<Figure size 432x288 with 1 Axes>"
            ]
          },
          "metadata": {
            "tags": []
          }
        }
      ]
    },
    {
      "cell_type": "code",
      "metadata": {
        "id": "kJh8N7EGX5JA",
        "outputId": "c467282e-842c-40d5-890b-9563348bc3a8",
        "colab": {
          "base_uri": "https://localhost:8080/",
          "height": 126
        }
      },
      "source": [
        "#verification status \n",
        "pd.crosstab(loan['verification_status'],loan['loan_status'],normalize = 'columns',margins=True,dropna = True).style.background_gradient(cmap='magma')"
      ],
      "execution_count": null,
      "outputs": [
        {
          "output_type": "execute_result",
          "data": {
            "text/html": [
              "<style  type=\"text/css\" >\n",
              "#T_82256638_09be_11eb_ab73_0242ac1c0002row0_col0,#T_82256638_09be_11eb_ab73_0242ac1c0002row2_col1,#T_82256638_09be_11eb_ab73_0242ac1c0002row2_col2{\n",
              "            background-color:  #000004;\n",
              "            color:  #f1f1f1;\n",
              "        }#T_82256638_09be_11eb_ab73_0242ac1c0002row0_col1{\n",
              "            background-color:  #fde7a9;\n",
              "            color:  #000000;\n",
              "        }#T_82256638_09be_11eb_ab73_0242ac1c0002row0_col2{\n",
              "            background-color:  #feb47b;\n",
              "            color:  #000000;\n",
              "        }#T_82256638_09be_11eb_ab73_0242ac1c0002row1_col0,#T_82256638_09be_11eb_ab73_0242ac1c0002row1_col1,#T_82256638_09be_11eb_ab73_0242ac1c0002row1_col2{\n",
              "            background-color:  #fcfdbf;\n",
              "            color:  #000000;\n",
              "        }#T_82256638_09be_11eb_ab73_0242ac1c0002row2_col0{\n",
              "            background-color:  #7c2382;\n",
              "            color:  #f1f1f1;\n",
              "        }</style><table id=\"T_82256638_09be_11eb_ab73_0242ac1c0002\" ><thead>    <tr>        <th class=\"index_name level0\" >loan_status</th>        <th class=\"col_heading level0 col0\" >0</th>        <th class=\"col_heading level0 col1\" >1</th>        <th class=\"col_heading level0 col2\" >All</th>    </tr>    <tr>        <th class=\"index_name level0\" >verification_status</th>        <th class=\"blank\" ></th>        <th class=\"blank\" ></th>        <th class=\"blank\" ></th>    </tr></thead><tbody>\n",
              "                <tr>\n",
              "                        <th id=\"T_82256638_09be_11eb_ab73_0242ac1c0002level0_row0\" class=\"row_heading level0 row0\" >Not Verified</th>\n",
              "                        <td id=\"T_82256638_09be_11eb_ab73_0242ac1c0002row0_col0\" class=\"data row0 col0\" >0.277659</td>\n",
              "                        <td id=\"T_82256638_09be_11eb_ab73_0242ac1c0002row0_col1\" class=\"data row0 col1\" >0.390987</td>\n",
              "                        <td id=\"T_82256638_09be_11eb_ab73_0242ac1c0002row0_col2\" class=\"data row0 col2\" >0.373142</td>\n",
              "            </tr>\n",
              "            <tr>\n",
              "                        <th id=\"T_82256638_09be_11eb_ab73_0242ac1c0002level0_row1\" class=\"row_heading level0 row1\" >Source Verified</th>\n",
              "                        <td id=\"T_82256638_09be_11eb_ab73_0242ac1c0002row1_col0\" class=\"data row1 col0\" >0.400474</td>\n",
              "                        <td id=\"T_82256638_09be_11eb_ab73_0242ac1c0002row1_col1\" class=\"data row1 col1\" >0.400325</td>\n",
              "                        <td id=\"T_82256638_09be_11eb_ab73_0242ac1c0002row1_col2\" class=\"data row1 col2\" >0.400348</td>\n",
              "            </tr>\n",
              "            <tr>\n",
              "                        <th id=\"T_82256638_09be_11eb_ab73_0242ac1c0002level0_row2\" class=\"row_heading level0 row2\" >Verified</th>\n",
              "                        <td id=\"T_82256638_09be_11eb_ab73_0242ac1c0002row2_col0\" class=\"data row2 col0\" >0.321868</td>\n",
              "                        <td id=\"T_82256638_09be_11eb_ab73_0242ac1c0002row2_col1\" class=\"data row2 col1\" >0.208688</td>\n",
              "                        <td id=\"T_82256638_09be_11eb_ab73_0242ac1c0002row2_col2\" class=\"data row2 col2\" >0.226510</td>\n",
              "            </tr>\n",
              "    </tbody></table>"
            ],
            "text/plain": [
              "<pandas.io.formats.style.Styler at 0x7f807b924518>"
            ]
          },
          "metadata": {
            "tags": []
          },
          "execution_count": 49
        }
      ]
    },
    {
      "cell_type": "code",
      "metadata": {
        "id": "mEXTyTjWAn5t",
        "outputId": "43457572-65ad-4e80-8a59-21f43bc3563c",
        "colab": {
          "base_uri": "https://localhost:8080/",
          "height": 350
        }
      },
      "source": [
        "sns.countplot(x = 'verification_status',data = loan,hue = 'loan_status')\n",
        "plt.xticks(rotation = 45)"
      ],
      "execution_count": null,
      "outputs": [
        {
          "output_type": "execute_result",
          "data": {
            "text/plain": [
              "(array([0, 1, 2]), <a list of 3 Text major ticklabel objects>)"
            ]
          },
          "metadata": {
            "tags": []
          },
          "execution_count": 50
        },
        {
          "output_type": "display_data",
          "data": {
            "image/png": "[encoded data removed]",
            "text/plain": [
              "<Figure size 432x288 with 1 Axes>"
            ]
          },
          "metadata": {
            "tags": []
          }
        }
      ]
    },
    {
      "cell_type": "code",
      "metadata": {
        "id": "Nv7qmt8OBUhN",
        "outputId": "eeb47056-ae88-477c-ec48-5590e0b70fc8",
        "colab": {
          "base_uri": "https://localhost:8080/",
          "height": 340
        }
      },
      "source": [
        "pd.crosstab(loan['purpose'],loan['loan_status'],normalize = 'index').style.background_gradient(cmap='magma')"
      ],
      "execution_count": null,
      "outputs": [
        {
          "output_type": "execute_result",
          "data": {
            "text/html": [
              "<style  type=\"text/css\" >\n",
              "#T_82d5624a_09be_11eb_ab73_0242ac1c0002row0_col0,#T_82d5624a_09be_11eb_ab73_0242ac1c0002row12_col1{\n",
              "            background-color:  #000004;\n",
              "            color:  #f1f1f1;\n",
              "        }#T_82d5624a_09be_11eb_ab73_0242ac1c0002row0_col1,#T_82d5624a_09be_11eb_ab73_0242ac1c0002row12_col0{\n",
              "            background-color:  #fcfdbf;\n",
              "            color:  #000000;\n",
              "        }#T_82d5624a_09be_11eb_ab73_0242ac1c0002row1_col0{\n",
              "            background-color:  #010005;\n",
              "            color:  #f1f1f1;\n",
              "        }#T_82d5624a_09be_11eb_ab73_0242ac1c0002row1_col1{\n",
              "            background-color:  #fcfbbd;\n",
              "            color:  #000000;\n",
              "        }#T_82d5624a_09be_11eb_ab73_0242ac1c0002row2_col0{\n",
              "            background-color:  #160f3b;\n",
              "            color:  #f1f1f1;\n",
              "        }#T_82d5624a_09be_11eb_ab73_0242ac1c0002row2_col1{\n",
              "            background-color:  #fecc8f;\n",
              "            color:  #000000;\n",
              "        }#T_82d5624a_09be_11eb_ab73_0242ac1c0002row3_col0{\n",
              "            background-color:  #06051a;\n",
              "            color:  #f1f1f1;\n",
              "        }#T_82d5624a_09be_11eb_ab73_0242ac1c0002row3_col1{\n",
              "            background-color:  #fde7a9;\n",
              "            color:  #000000;\n",
              "        }#T_82d5624a_09be_11eb_ab73_0242ac1c0002row4_col0{\n",
              "            background-color:  #251255;\n",
              "            color:  #f1f1f1;\n",
              "        }#T_82d5624a_09be_11eb_ab73_0242ac1c0002row4_col1{\n",
              "            background-color:  #feb77e;\n",
              "            color:  #000000;\n",
              "        }#T_82d5624a_09be_11eb_ab73_0242ac1c0002row5_col0{\n",
              "            background-color:  #36106b;\n",
              "            color:  #f1f1f1;\n",
              "        }#T_82d5624a_09be_11eb_ab73_0242ac1c0002row5_col1{\n",
              "            background-color:  #fea571;\n",
              "            color:  #000000;\n",
              "        }#T_82d5624a_09be_11eb_ab73_0242ac1c0002row6_col0{\n",
              "            background-color:  #451077;\n",
              "            color:  #f1f1f1;\n",
              "        }#T_82d5624a_09be_11eb_ab73_0242ac1c0002row6_col1{\n",
              "            background-color:  #fd9467;\n",
              "            color:  #000000;\n",
              "        }#T_82d5624a_09be_11eb_ab73_0242ac1c0002row7_col0{\n",
              "            background-color:  #471078;\n",
              "            color:  #f1f1f1;\n",
              "        }#T_82d5624a_09be_11eb_ab73_0242ac1c0002row7_col1{\n",
              "            background-color:  #fd9266;\n",
              "            color:  #000000;\n",
              "        }#T_82d5624a_09be_11eb_ab73_0242ac1c0002row8_col0{\n",
              "            background-color:  #271258;\n",
              "            color:  #f1f1f1;\n",
              "        }#T_82d5624a_09be_11eb_ab73_0242ac1c0002row8_col1{\n",
              "            background-color:  #feb67c;\n",
              "            color:  #000000;\n",
              "        }#T_82d5624a_09be_11eb_ab73_0242ac1c0002row9_col0{\n",
              "            background-color:  #130d34;\n",
              "            color:  #f1f1f1;\n",
              "        }#T_82d5624a_09be_11eb_ab73_0242ac1c0002row9_col1{\n",
              "            background-color:  #fed194;\n",
              "            color:  #000000;\n",
              "        }#T_82d5624a_09be_11eb_ab73_0242ac1c0002row10_col0{\n",
              "            background-color:  #bf3a77;\n",
              "            color:  #f1f1f1;\n",
              "        }#T_82d5624a_09be_11eb_ab73_0242ac1c0002row10_col1{\n",
              "            background-color:  #ad347c;\n",
              "            color:  #f1f1f1;\n",
              "        }#T_82d5624a_09be_11eb_ab73_0242ac1c0002row11_col0{\n",
              "            background-color:  #1e1149;\n",
              "            color:  #f1f1f1;\n",
              "        }#T_82d5624a_09be_11eb_ab73_0242ac1c0002row11_col1{\n",
              "            background-color:  #fec185;\n",
              "            color:  #000000;\n",
              "        }</style><table id=\"T_82d5624a_09be_11eb_ab73_0242ac1c0002\" ><thead>    <tr>        <th class=\"index_name level0\" >loan_status</th>        <th class=\"col_heading level0 col0\" >0</th>        <th class=\"col_heading level0 col1\" >1</th>    </tr>    <tr>        <th class=\"index_name level0\" >purpose</th>        <th class=\"blank\" ></th>        <th class=\"blank\" ></th>    </tr></thead><tbody>\n",
              "                <tr>\n",
              "                        <th id=\"T_82d5624a_09be_11eb_ab73_0242ac1c0002level0_row0\" class=\"row_heading level0 row0\" >car</th>\n",
              "                        <td id=\"T_82d5624a_09be_11eb_ab73_0242ac1c0002row0_col0\" class=\"data row0 col0\" >0.121134</td>\n",
              "                        <td id=\"T_82d5624a_09be_11eb_ab73_0242ac1c0002row0_col1\" class=\"data row0 col1\" >0.878866</td>\n",
              "            </tr>\n",
              "            <tr>\n",
              "                        <th id=\"T_82d5624a_09be_11eb_ab73_0242ac1c0002level0_row1\" class=\"row_heading level0 row1\" >credit_card</th>\n",
              "                        <td id=\"T_82d5624a_09be_11eb_ab73_0242ac1c0002row1_col0\" class=\"data row1 col0\" >0.123552</td>\n",
              "                        <td id=\"T_82d5624a_09be_11eb_ab73_0242ac1c0002row1_col1\" class=\"data row1 col1\" >0.876448</td>\n",
              "            </tr>\n",
              "            <tr>\n",
              "                        <th id=\"T_82d5624a_09be_11eb_ab73_0242ac1c0002level0_row2\" class=\"row_heading level0 row2\" >debt_consolidation</th>\n",
              "                        <td id=\"T_82d5624a_09be_11eb_ab73_0242ac1c0002row2_col0\" class=\"data row2 col0\" >0.161498</td>\n",
              "                        <td id=\"T_82d5624a_09be_11eb_ab73_0242ac1c0002row2_col1\" class=\"data row2 col1\" >0.838502</td>\n",
              "            </tr>\n",
              "            <tr>\n",
              "                        <th id=\"T_82d5624a_09be_11eb_ab73_0242ac1c0002level0_row3\" class=\"row_heading level0 row3\" >home_improvement</th>\n",
              "                        <td id=\"T_82d5624a_09be_11eb_ab73_0242ac1c0002row3_col0\" class=\"data row3 col0\" >0.140013</td>\n",
              "                        <td id=\"T_82d5624a_09be_11eb_ab73_0242ac1c0002row3_col1\" class=\"data row3 col1\" >0.859987</td>\n",
              "            </tr>\n",
              "            <tr>\n",
              "                        <th id=\"T_82d5624a_09be_11eb_ab73_0242ac1c0002level0_row4\" class=\"row_heading level0 row4\" >house</th>\n",
              "                        <td id=\"T_82d5624a_09be_11eb_ab73_0242ac1c0002row4_col0\" class=\"data row4 col0\" >0.178536</td>\n",
              "                        <td id=\"T_82d5624a_09be_11eb_ab73_0242ac1c0002row4_col1\" class=\"data row4 col1\" >0.821464</td>\n",
              "            </tr>\n",
              "            <tr>\n",
              "                        <th id=\"T_82d5624a_09be_11eb_ab73_0242ac1c0002level0_row5\" class=\"row_heading level0 row5\" >major_purchase</th>\n",
              "                        <td id=\"T_82d5624a_09be_11eb_ab73_0242ac1c0002row5_col0\" class=\"data row5 col0\" >0.193245</td>\n",
              "                        <td id=\"T_82d5624a_09be_11eb_ab73_0242ac1c0002row5_col1\" class=\"data row5 col1\" >0.806755</td>\n",
              "            </tr>\n",
              "            <tr>\n",
              "                        <th id=\"T_82d5624a_09be_11eb_ab73_0242ac1c0002level0_row6\" class=\"row_heading level0 row6\" >medical</th>\n",
              "                        <td id=\"T_82d5624a_09be_11eb_ab73_0242ac1c0002row6_col0\" class=\"data row6 col0\" >0.205626</td>\n",
              "                        <td id=\"T_82d5624a_09be_11eb_ab73_0242ac1c0002row6_col1\" class=\"data row6 col1\" >0.794374</td>\n",
              "            </tr>\n",
              "            <tr>\n",
              "                        <th id=\"T_82d5624a_09be_11eb_ab73_0242ac1c0002level0_row7\" class=\"row_heading level0 row7\" >moving</th>\n",
              "                        <td id=\"T_82d5624a_09be_11eb_ab73_0242ac1c0002row7_col0\" class=\"data row7 col0\" >0.207101</td>\n",
              "                        <td id=\"T_82d5624a_09be_11eb_ab73_0242ac1c0002row7_col1\" class=\"data row7 col1\" >0.792899</td>\n",
              "            </tr>\n",
              "            <tr>\n",
              "                        <th id=\"T_82d5624a_09be_11eb_ab73_0242ac1c0002level0_row8\" class=\"row_heading level0 row8\" >other</th>\n",
              "                        <td id=\"T_82d5624a_09be_11eb_ab73_0242ac1c0002row8_col0\" class=\"data row8 col0\" >0.179345</td>\n",
              "                        <td id=\"T_82d5624a_09be_11eb_ab73_0242ac1c0002row8_col1\" class=\"data row8 col1\" >0.820655</td>\n",
              "            </tr>\n",
              "            <tr>\n",
              "                        <th id=\"T_82d5624a_09be_11eb_ab73_0242ac1c0002level0_row9\" class=\"row_heading level0 row9\" >renewable_energy</th>\n",
              "                        <td id=\"T_82d5624a_09be_11eb_ab73_0242ac1c0002row9_col0\" class=\"data row9 col0\" >0.157895</td>\n",
              "                        <td id=\"T_82d5624a_09be_11eb_ab73_0242ac1c0002row9_col1\" class=\"data row9 col1\" >0.842105</td>\n",
              "            </tr>\n",
              "            <tr>\n",
              "                        <th id=\"T_82d5624a_09be_11eb_ab73_0242ac1c0002level0_row10\" class=\"row_heading level0 row10\" >small_business</th>\n",
              "                        <td id=\"T_82d5624a_09be_11eb_ab73_0242ac1c0002row10_col0\" class=\"data row10 col0\" >0.318102</td>\n",
              "                        <td id=\"T_82d5624a_09be_11eb_ab73_0242ac1c0002row10_col1\" class=\"data row10 col1\" >0.681898</td>\n",
              "            </tr>\n",
              "            <tr>\n",
              "                        <th id=\"T_82d5624a_09be_11eb_ab73_0242ac1c0002level0_row11\" class=\"row_heading level0 row11\" >vacation</th>\n",
              "                        <td id=\"T_82d5624a_09be_11eb_ab73_0242ac1c0002row11_col0\" class=\"data row11 col0\" >0.170412</td>\n",
              "                        <td id=\"T_82d5624a_09be_11eb_ab73_0242ac1c0002row11_col1\" class=\"data row11 col1\" >0.829588</td>\n",
              "            </tr>\n",
              "            <tr>\n",
              "                        <th id=\"T_82d5624a_09be_11eb_ab73_0242ac1c0002level0_row12\" class=\"row_heading level0 row12\" >wedding</th>\n",
              "                        <td id=\"T_82d5624a_09be_11eb_ab73_0242ac1c0002row12_col0\" class=\"data row12 col0\" >0.500000</td>\n",
              "                        <td id=\"T_82d5624a_09be_11eb_ab73_0242ac1c0002row12_col1\" class=\"data row12 col1\" >0.500000</td>\n",
              "            </tr>\n",
              "    </tbody></table>"
            ],
            "text/plain": [
              "<pandas.io.formats.style.Styler at 0x7f807b985a58>"
            ]
          },
          "metadata": {
            "tags": []
          },
          "execution_count": 51
        }
      ]
    },
    {
      "cell_type": "code",
      "metadata": {
        "id": "Je2Irz-7HrcL",
        "outputId": "8be3486f-b303-4a80-e67a-73ed7b5a2243",
        "colab": {
          "base_uri": "https://localhost:8080/",
          "height": 298
        }
      },
      "source": [
        "loan.groupby('purpose')['loan_status'].value_counts(normalize=True).loc[:,0].sort_values()"
      ],
      "execution_count": null,
      "outputs": [
        {
          "output_type": "execute_result",
          "data": {
            "text/plain": [
              "purpose\n",
              "car                   0.121134\n",
              "credit_card           0.123552\n",
              "home_improvement      0.140013\n",
              "renewable_energy      0.157895\n",
              "debt_consolidation    0.161498\n",
              "vacation              0.170412\n",
              "house                 0.178536\n",
              "other                 0.179345\n",
              "major_purchase        0.193245\n",
              "medical               0.205626\n",
              "moving                0.207101\n",
              "small_business        0.318102\n",
              "wedding               0.500000\n",
              "Name: loan_status, dtype: float64"
            ]
          },
          "metadata": {
            "tags": []
          },
          "execution_count": 52
        }
      ]
    },
    {
      "cell_type": "code",
      "metadata": {
        "id": "GtVucGiGBY2s",
        "outputId": "b715721b-98a1-48bb-92bf-35dbb06e3a85",
        "colab": {
          "base_uri": "https://localhost:8080/",
          "height": 186
        }
      },
      "source": [
        "loan['annual_inc'].describe()"
      ],
      "execution_count": null,
      "outputs": [
        {
          "output_type": "execute_result",
          "data": {
            "text/plain": [
              "count    5.631100e+04\n",
              "mean     8.007494e+04\n",
              "std      7.923974e+04\n",
              "min      0.000000e+00\n",
              "25%      4.684200e+04\n",
              "50%      6.700000e+04\n",
              "75%      9.500000e+04\n",
              "max      9.300000e+06\n",
              "Name: annual_inc, dtype: float64"
            ]
          },
          "metadata": {
            "tags": []
          },
          "execution_count": 53
        }
      ]
    },
    {
      "cell_type": "code",
      "metadata": {
        "id": "ER9O83Y-an9r"
      },
      "source": [
        "loan['log_annual_inc'] = loan['annual_inc'].apply(lambda x : np.log10(x+1))"
      ],
      "execution_count": null,
      "outputs": []
    },
    {
      "cell_type": "code",
      "metadata": {
        "id": "QNj9WgCtbLcZ"
      },
      "source": [
        "loan.drop('annual_inc',axis = 1,inplace = True)"
      ],
      "execution_count": null,
      "outputs": []
    },
    {
      "cell_type": "code",
      "metadata": {
        "id": "7MEtjsZtbAp_",
        "outputId": "1b350e35-def3-4846-e30a-0507e834c0a4",
        "colab": {
          "base_uri": "https://localhost:8080/",
          "height": 299
        }
      },
      "source": [
        "sns.distplot(loan['log_annual_inc'],bins=50,kde=False)"
      ],
      "execution_count": null,
      "outputs": [
        {
          "output_type": "execute_result",
          "data": {
            "text/plain": [
              "<matplotlib.axes._subplots.AxesSubplot at 0x7f807b841cc0>"
            ]
          },
          "metadata": {
            "tags": []
          },
          "execution_count": 56
        },
        {
          "output_type": "display_data",
          "data": {
            "image/png": "[encoded data removed]",
            "text/plain": [
              "<Figure size 432x288 with 1 Axes>"
            ]
          },
          "metadata": {
            "tags": []
          }
        }
      ]
    },
    {
      "cell_type": "code",
      "metadata": {
        "id": "G-yu8-O8b6qy",
        "outputId": "5aa5787f-981d-4b6a-c635-6755bccae182",
        "colab": {
          "base_uri": "https://localhost:8080/",
          "height": 226
        }
      },
      "source": [
        "plot_var('log_annual_inc')"
      ],
      "execution_count": null,
      "outputs": [
        {
          "output_type": "display_data",
          "data": {
            "image/png": "[encoded data removed]",
            "text/plain": [
              "<Figure size 864x216 with 2 Axes>"
            ]
          },
          "metadata": {
            "tags": []
          }
        }
      ]
    },
    {
      "cell_type": "code",
      "metadata": {
        "id": "zkGs1rsQcMWp",
        "outputId": "e74b3a33-c57f-48d1-c1c2-9124701b0da0",
        "colab": {
          "base_uri": "https://localhost:8080/",
          "height": 186
        }
      },
      "source": [
        "loan['log_annual_inc'].describe()"
      ],
      "execution_count": null,
      "outputs": [
        {
          "output_type": "execute_result",
          "data": {
            "text/plain": [
              "count    56311.000000\n",
              "mean         4.811892\n",
              "std          0.356861\n",
              "min          0.000000\n",
              "25%          4.670645\n",
              "50%          4.826081\n",
              "75%          4.977728\n",
              "max          6.968483\n",
              "Name: log_annual_inc, dtype: float64"
            ]
          },
          "metadata": {
            "tags": []
          },
          "execution_count": 58
        }
      ]
    },
    {
      "cell_type": "code",
      "metadata": {
        "id": "7QedD_N5drae",
        "outputId": "30dd12a2-191e-4cc6-a2c3-2f2ba4645fd3",
        "colab": {
          "base_uri": "https://localhost:8080/",
          "height": 143
        }
      },
      "source": [
        "loan.groupby('loan_status')['log_annual_inc'].describe()"
      ],
      "execution_count": null,
      "outputs": [
        {
          "output_type": "execute_result",
          "data": {
            "text/html": [
              "<div>\n",
              "<style scoped>\n",
              "    .dataframe tbody tr th:only-of-type {\n",
              "        vertical-align: middle;\n",
              "    }\n",
              "\n",
              "    .dataframe tbody tr th {\n",
              "        vertical-align: top;\n",
              "    }\n",
              "\n",
              "    .dataframe thead th {\n",
              "        text-align: right;\n",
              "    }\n",
              "</style>\n",
              "<table border=\"1\" class=\"dataframe\">\n",
              "  <thead>\n",
              "    <tr style=\"text-align: right;\">\n",
              "      <th></th>\n",
              "      <th>count</th>\n",
              "      <th>mean</th>\n",
              "      <th>std</th>\n",
              "      <th>min</th>\n",
              "      <th>25%</th>\n",
              "      <th>50%</th>\n",
              "      <th>75%</th>\n",
              "      <th>max</th>\n",
              "    </tr>\n",
              "    <tr>\n",
              "      <th>loan_status</th>\n",
              "      <th></th>\n",
              "      <th></th>\n",
              "      <th></th>\n",
              "      <th></th>\n",
              "      <th></th>\n",
              "      <th></th>\n",
              "      <th></th>\n",
              "      <th></th>\n",
              "    </tr>\n",
              "  </thead>\n",
              "  <tbody>\n",
              "    <tr>\n",
              "      <th>0</th>\n",
              "      <td>8867.0</td>\n",
              "      <td>4.769414</td>\n",
              "      <td>0.348711</td>\n",
              "      <td>0.0</td>\n",
              "      <td>4.619844</td>\n",
              "      <td>4.778158</td>\n",
              "      <td>4.939524</td>\n",
              "      <td>6.629411</td>\n",
              "    </tr>\n",
              "    <tr>\n",
              "      <th>1</th>\n",
              "      <td>47444.0</td>\n",
              "      <td>4.819830</td>\n",
              "      <td>0.357808</td>\n",
              "      <td>0.0</td>\n",
              "      <td>4.681250</td>\n",
              "      <td>4.832515</td>\n",
              "      <td>4.986776</td>\n",
              "      <td>6.968483</td>\n",
              "    </tr>\n",
              "  </tbody>\n",
              "</table>\n",
              "</div>"
            ],
            "text/plain": [
              "               count      mean       std  ...       50%       75%       max\n",
              "loan_status                               ...                              \n",
              "0             8867.0  4.769414  0.348711  ...  4.778158  4.939524  6.629411\n",
              "1            47444.0  4.819830  0.357808  ...  4.832515  4.986776  6.968483\n",
              "\n",
              "[2 rows x 8 columns]"
            ]
          },
          "metadata": {
            "tags": []
          },
          "execution_count": 59
        }
      ]
    },
    {
      "cell_type": "code",
      "metadata": {
        "id": "n5T0LUl5fAqG"
      },
      "source": [
        "# drop the title column \n",
        "loan.drop(labels = 'title',axis = 1,inplace = True)"
      ],
      "execution_count": null,
      "outputs": []
    },
    {
      "cell_type": "code",
      "metadata": {
        "id": "rpD7Zk1eDA0Z"
      },
      "source": [
        "loan.drop(labels = 'addr_state',axis = 1,inplace = True)"
      ],
      "execution_count": null,
      "outputs": []
    },
    {
      "cell_type": "code",
      "metadata": {
        "id": "KvC1ZI2GQZin",
        "outputId": "1401d389-2e9a-4e03-8222-c57972cc14a8",
        "colab": {
          "base_uri": "https://localhost:8080/",
          "height": 226
        }
      },
      "source": [
        "plot_var('dti')"
      ],
      "execution_count": null,
      "outputs": [
        {
          "output_type": "display_data",
          "data": {
            "image/png": "[encoded data removed]",
            "text/plain": [
              "<Figure size 864x216 with 2 Axes>"
            ]
          },
          "metadata": {
            "tags": []
          }
        }
      ]
    },
    {
      "cell_type": "code",
      "metadata": {
        "id": "wHEgO57IQ2Dj",
        "outputId": "bbf9627b-6c66-43b4-cbf0-236ec57aac84",
        "colab": {
          "base_uri": "https://localhost:8080/",
          "height": 129
        }
      },
      "source": [
        "loan['dti'].sample(5)"
      ],
      "execution_count": null,
      "outputs": [
        {
          "output_type": "execute_result",
          "data": {
            "text/plain": [
              "24534     27.57\n",
              "4054      38.57\n",
              "35765     28.11\n",
              "196590     9.49\n",
              "468413    36.45\n",
              "Name: dti, dtype: float64"
            ]
          },
          "metadata": {
            "tags": []
          },
          "execution_count": 63
        }
      ]
    },
    {
      "cell_type": "code",
      "metadata": {
        "id": "-bIKNfceRlV0",
        "outputId": "8030ab5b-e9fc-42c7-fb16-2380be3fb92b",
        "colab": {
          "base_uri": "https://localhost:8080/",
          "height": 317
        }
      },
      "source": [
        "plt.figure(figsize=(8,3), dpi=90)\n",
        "sns.distplot(loan.loc[loan['dti'].notnull() & (loan['dti']<60), 'dti'], kde=False)\n",
        "plt.xlabel('Debt-to-income Ratio')\n",
        "plt.ylabel('Count')\n",
        "plt.title('Debt-to-income Ratio')"
      ],
      "execution_count": null,
      "outputs": [
        {
          "output_type": "execute_result",
          "data": {
            "text/plain": [
              "Text(0.5, 1.0, 'Debt-to-income Ratio')"
            ]
          },
          "metadata": {
            "tags": []
          },
          "execution_count": 64
        },
        {
          "output_type": "display_data",
          "data": {
            "image/png": "[encoded data removed]",
            "text/plain": [
              "<Figure size 720x270 with 1 Axes>"
            ]
          },
          "metadata": {
            "tags": []
          }
        }
      ]
    },
    {
      "cell_type": "code",
      "metadata": {
        "id": "9HxxyLFGSJAi",
        "outputId": "ac9c9a32-c3ef-4d6c-d8dc-4a471305ca67",
        "colab": {
          "base_uri": "https://localhost:8080/",
          "height": 143
        }
      },
      "source": [
        "loan.groupby('loan_status')['dti'].describe()"
      ],
      "execution_count": null,
      "outputs": [
        {
          "output_type": "execute_result",
          "data": {
            "text/html": [
              "<div>\n",
              "<style scoped>\n",
              "    .dataframe tbody tr th:only-of-type {\n",
              "        vertical-align: middle;\n",
              "    }\n",
              "\n",
              "    .dataframe tbody tr th {\n",
              "        vertical-align: top;\n",
              "    }\n",
              "\n",
              "    .dataframe thead th {\n",
              "        text-align: right;\n",
              "    }\n",
              "</style>\n",
              "<table border=\"1\" class=\"dataframe\">\n",
              "  <thead>\n",
              "    <tr style=\"text-align: right;\">\n",
              "      <th></th>\n",
              "      <th>count</th>\n",
              "      <th>mean</th>\n",
              "      <th>std</th>\n",
              "      <th>min</th>\n",
              "      <th>25%</th>\n",
              "      <th>50%</th>\n",
              "      <th>75%</th>\n",
              "      <th>max</th>\n",
              "    </tr>\n",
              "    <tr>\n",
              "      <th>loan_status</th>\n",
              "      <th></th>\n",
              "      <th></th>\n",
              "      <th></th>\n",
              "      <th></th>\n",
              "      <th></th>\n",
              "      <th></th>\n",
              "      <th></th>\n",
              "      <th></th>\n",
              "    </tr>\n",
              "  </thead>\n",
              "  <tbody>\n",
              "    <tr>\n",
              "      <th>0</th>\n",
              "      <td>8846.0</td>\n",
              "      <td>19.759132</td>\n",
              "      <td>18.909829</td>\n",
              "      <td>0.0</td>\n",
              "      <td>10.76</td>\n",
              "      <td>18.095</td>\n",
              "      <td>26.0075</td>\n",
              "      <td>999.0</td>\n",
              "    </tr>\n",
              "    <tr>\n",
              "      <th>1</th>\n",
              "      <td>47314.0</td>\n",
              "      <td>18.231164</td>\n",
              "      <td>19.057171</td>\n",
              "      <td>0.0</td>\n",
              "      <td>10.26</td>\n",
              "      <td>16.430</td>\n",
              "      <td>23.4875</td>\n",
              "      <td>999.0</td>\n",
              "    </tr>\n",
              "  </tbody>\n",
              "</table>\n",
              "</div>"
            ],
            "text/plain": [
              "               count       mean        std  min    25%     50%      75%    max\n",
              "loan_status                                                                   \n",
              "0             8846.0  19.759132  18.909829  0.0  10.76  18.095  26.0075  999.0\n",
              "1            47314.0  18.231164  19.057171  0.0  10.26  16.430  23.4875  999.0"
            ]
          },
          "metadata": {
            "tags": []
          },
          "execution_count": 65
        }
      ]
    },
    {
      "cell_type": "code",
      "metadata": {
        "id": "DzWa-oNvScdy"
      },
      "source": [
        "loan['earliest_cr_line'] = loan['earliest_cr_line'].apply(lambda s: int(s[-4:]))"
      ],
      "execution_count": null,
      "outputs": []
    },
    {
      "cell_type": "code",
      "metadata": {
        "id": "Atq3sErdWYYC",
        "outputId": "e76b3194-f7b5-4b6b-f841-34e598ecfadb",
        "colab": {
          "base_uri": "https://localhost:8080/",
          "height": 92
        }
      },
      "source": [
        "loan['earliest_cr_line'].sample(3)"
      ],
      "execution_count": null,
      "outputs": [
        {
          "output_type": "execute_result",
          "data": {
            "text/plain": [
              "494077    2001\n",
              "194002    2006\n",
              "161507    2012\n",
              "Name: earliest_cr_line, dtype: int64"
            ]
          },
          "metadata": {
            "tags": []
          },
          "execution_count": 67
        }
      ]
    },
    {
      "cell_type": "code",
      "metadata": {
        "id": "p-vexIQFXHuq",
        "outputId": "ca5be982-f221-4939-a5ee-330737cac898",
        "colab": {
          "base_uri": "https://localhost:8080/",
          "height": 226
        }
      },
      "source": [
        "plot_var('earliest_cr_line')"
      ],
      "execution_count": null,
      "outputs": [
        {
          "output_type": "display_data",
          "data": {
            "image/png": "[encoded data removed]",
            "text/plain": [
              "<Figure size 864x216 with 2 Axes>"
            ]
          },
          "metadata": {
            "tags": []
          }
        }
      ]
    },
    {
      "cell_type": "code",
      "metadata": {
        "id": "fhHJunQBeH0H",
        "outputId": "4c2e0ccd-c899-4e9d-c5a3-ac0a173ce9e3",
        "colab": {
          "base_uri": "https://localhost:8080/",
          "height": 226
        }
      },
      "source": [
        "plot_var('fico_average')"
      ],
      "execution_count": null,
      "outputs": [
        {
          "output_type": "display_data",
          "data": {
            "image/png": "[encoded data removed]",
            "text/plain": [
              "<Figure size 864x216 with 2 Axes>"
            ]
          },
          "metadata": {
            "tags": []
          }
        }
      ]
    },
    {
      "cell_type": "code",
      "metadata": {
        "id": "BRYHlEtIeZx9",
        "outputId": "fdc044d6-b787-4aae-c941-a4fbe2fe524c",
        "colab": {
          "base_uri": "https://localhost:8080/",
          "height": 143
        }
      },
      "source": [
        "loan.groupby('loan_status')['fico_average'].describe()"
      ],
      "execution_count": null,
      "outputs": [
        {
          "output_type": "execute_result",
          "data": {
            "text/html": [
              "<div>\n",
              "<style scoped>\n",
              "    .dataframe tbody tr th:only-of-type {\n",
              "        vertical-align: middle;\n",
              "    }\n",
              "\n",
              "    .dataframe tbody tr th {\n",
              "        vertical-align: top;\n",
              "    }\n",
              "\n",
              "    .dataframe thead th {\n",
              "        text-align: right;\n",
              "    }\n",
              "</style>\n",
              "<table border=\"1\" class=\"dataframe\">\n",
              "  <thead>\n",
              "    <tr style=\"text-align: right;\">\n",
              "      <th></th>\n",
              "      <th>count</th>\n",
              "      <th>mean</th>\n",
              "      <th>std</th>\n",
              "      <th>min</th>\n",
              "      <th>25%</th>\n",
              "      <th>50%</th>\n",
              "      <th>75%</th>\n",
              "      <th>max</th>\n",
              "    </tr>\n",
              "    <tr>\n",
              "      <th>loan_status</th>\n",
              "      <th></th>\n",
              "      <th></th>\n",
              "      <th></th>\n",
              "      <th></th>\n",
              "      <th></th>\n",
              "      <th></th>\n",
              "      <th></th>\n",
              "      <th></th>\n",
              "    </tr>\n",
              "  </thead>\n",
              "  <tbody>\n",
              "    <tr>\n",
              "      <th>0</th>\n",
              "      <td>8867.0</td>\n",
              "      <td>701.725499</td>\n",
              "      <td>34.135000</td>\n",
              "      <td>662.0</td>\n",
              "      <td>677.0</td>\n",
              "      <td>692.0</td>\n",
              "      <td>717.0</td>\n",
              "      <td>847.5</td>\n",
              "    </tr>\n",
              "    <tr>\n",
              "      <th>1</th>\n",
              "      <td>47444.0</td>\n",
              "      <td>712.078861</td>\n",
              "      <td>38.353229</td>\n",
              "      <td>662.0</td>\n",
              "      <td>682.0</td>\n",
              "      <td>707.0</td>\n",
              "      <td>737.0</td>\n",
              "      <td>847.5</td>\n",
              "    </tr>\n",
              "  </tbody>\n",
              "</table>\n",
              "</div>"
            ],
            "text/plain": [
              "               count        mean        std    min    25%    50%    75%    max\n",
              "loan_status                                                                   \n",
              "0             8867.0  701.725499  34.135000  662.0  677.0  692.0  717.0  847.5\n",
              "1            47444.0  712.078861  38.353229  662.0  682.0  707.0  737.0  847.5"
            ]
          },
          "metadata": {
            "tags": []
          },
          "execution_count": 70
        }
      ]
    },
    {
      "cell_type": "code",
      "metadata": {
        "id": "li_Iho5pfZT8",
        "outputId": "49a524d4-e316-4669-8dd4-7464d927a11d",
        "colab": {
          "base_uri": "https://localhost:8080/",
          "height": 226
        }
      },
      "source": [
        "plot_var('open_acc')"
      ],
      "execution_count": null,
      "outputs": [
        {
          "output_type": "display_data",
          "data": {
            "image/png": "[encoded data removed]",
            "text/plain": [
              "<Figure size 864x216 with 2 Axes>"
            ]
          },
          "metadata": {
            "tags": []
          }
        }
      ]
    },
    {
      "cell_type": "code",
      "metadata": {
        "id": "qcePwDf-hWoM",
        "outputId": "77eb0994-7173-43bb-9aa0-9f23feb18048",
        "colab": {
          "base_uri": "https://localhost:8080/",
          "height": 143
        }
      },
      "source": [
        "loan.groupby('loan_status')['open_acc'].describe()"
      ],
      "execution_count": null,
      "outputs": [
        {
          "output_type": "execute_result",
          "data": {
            "text/html": [
              "<div>\n",
              "<style scoped>\n",
              "    .dataframe tbody tr th:only-of-type {\n",
              "        vertical-align: middle;\n",
              "    }\n",
              "\n",
              "    .dataframe tbody tr th {\n",
              "        vertical-align: top;\n",
              "    }\n",
              "\n",
              "    .dataframe thead th {\n",
              "        text-align: right;\n",
              "    }\n",
              "</style>\n",
              "<table border=\"1\" class=\"dataframe\">\n",
              "  <thead>\n",
              "    <tr style=\"text-align: right;\">\n",
              "      <th></th>\n",
              "      <th>count</th>\n",
              "      <th>mean</th>\n",
              "      <th>std</th>\n",
              "      <th>min</th>\n",
              "      <th>25%</th>\n",
              "      <th>50%</th>\n",
              "      <th>75%</th>\n",
              "      <th>max</th>\n",
              "    </tr>\n",
              "    <tr>\n",
              "      <th>loan_status</th>\n",
              "      <th></th>\n",
              "      <th></th>\n",
              "      <th></th>\n",
              "      <th></th>\n",
              "      <th></th>\n",
              "      <th></th>\n",
              "      <th></th>\n",
              "      <th></th>\n",
              "    </tr>\n",
              "  </thead>\n",
              "  <tbody>\n",
              "    <tr>\n",
              "      <th>0</th>\n",
              "      <td>8867.0</td>\n",
              "      <td>10.810872</td>\n",
              "      <td>5.758347</td>\n",
              "      <td>0.0</td>\n",
              "      <td>7.0</td>\n",
              "      <td>10.0</td>\n",
              "      <td>14.0</td>\n",
              "      <td>54.0</td>\n",
              "    </tr>\n",
              "    <tr>\n",
              "      <th>1</th>\n",
              "      <td>47444.0</td>\n",
              "      <td>11.511593</td>\n",
              "      <td>5.931156</td>\n",
              "      <td>0.0</td>\n",
              "      <td>7.0</td>\n",
              "      <td>10.0</td>\n",
              "      <td>14.0</td>\n",
              "      <td>65.0</td>\n",
              "    </tr>\n",
              "  </tbody>\n",
              "</table>\n",
              "</div>"
            ],
            "text/plain": [
              "               count       mean       std  min  25%   50%   75%   max\n",
              "loan_status                                                          \n",
              "0             8867.0  10.810872  5.758347  0.0  7.0  10.0  14.0  54.0\n",
              "1            47444.0  11.511593  5.931156  0.0  7.0  10.0  14.0  65.0"
            ]
          },
          "metadata": {
            "tags": []
          },
          "execution_count": 72
        }
      ]
    },
    {
      "cell_type": "code",
      "metadata": {
        "id": "dv3kEzSeh3oe",
        "outputId": "25130479-548d-4695-c49a-f6e2a069acef",
        "colab": {
          "base_uri": "https://localhost:8080/",
          "height": 143
        }
      },
      "source": [
        "loan.groupby('loan_status')['pub_rec'].describe()"
      ],
      "execution_count": null,
      "outputs": [
        {
          "output_type": "execute_result",
          "data": {
            "text/html": [
              "<div>\n",
              "<style scoped>\n",
              "    .dataframe tbody tr th:only-of-type {\n",
              "        vertical-align: middle;\n",
              "    }\n",
              "\n",
              "    .dataframe tbody tr th {\n",
              "        vertical-align: top;\n",
              "    }\n",
              "\n",
              "    .dataframe thead th {\n",
              "        text-align: right;\n",
              "    }\n",
              "</style>\n",
              "<table border=\"1\" class=\"dataframe\">\n",
              "  <thead>\n",
              "    <tr style=\"text-align: right;\">\n",
              "      <th></th>\n",
              "      <th>count</th>\n",
              "      <th>mean</th>\n",
              "      <th>std</th>\n",
              "      <th>min</th>\n",
              "      <th>25%</th>\n",
              "      <th>50%</th>\n",
              "      <th>75%</th>\n",
              "      <th>max</th>\n",
              "    </tr>\n",
              "    <tr>\n",
              "      <th>loan_status</th>\n",
              "      <th></th>\n",
              "      <th></th>\n",
              "      <th></th>\n",
              "      <th></th>\n",
              "      <th></th>\n",
              "      <th></th>\n",
              "      <th></th>\n",
              "      <th></th>\n",
              "    </tr>\n",
              "  </thead>\n",
              "  <tbody>\n",
              "    <tr>\n",
              "      <th>0</th>\n",
              "      <td>8867.0</td>\n",
              "      <td>0.168039</td>\n",
              "      <td>0.425027</td>\n",
              "      <td>0.0</td>\n",
              "      <td>0.0</td>\n",
              "      <td>0.0</td>\n",
              "      <td>0.0</td>\n",
              "      <td>5.0</td>\n",
              "    </tr>\n",
              "    <tr>\n",
              "      <th>1</th>\n",
              "      <td>47444.0</td>\n",
              "      <td>0.155763</td>\n",
              "      <td>0.401264</td>\n",
              "      <td>0.0</td>\n",
              "      <td>0.0</td>\n",
              "      <td>0.0</td>\n",
              "      <td>0.0</td>\n",
              "      <td>8.0</td>\n",
              "    </tr>\n",
              "  </tbody>\n",
              "</table>\n",
              "</div>"
            ],
            "text/plain": [
              "               count      mean       std  min  25%  50%  75%  max\n",
              "loan_status                                                      \n",
              "0             8867.0  0.168039  0.425027  0.0  0.0  0.0  0.0  5.0\n",
              "1            47444.0  0.155763  0.401264  0.0  0.0  0.0  0.0  8.0"
            ]
          },
          "metadata": {
            "tags": []
          },
          "execution_count": 73
        }
      ]
    },
    {
      "cell_type": "code",
      "metadata": {
        "id": "mJZYuPKEieEp",
        "outputId": "abc77b24-94f3-4038-e004-6f4168a05868",
        "colab": {
          "base_uri": "https://localhost:8080/",
          "height": 254
        }
      },
      "source": [
        "pd.crosstab(loan['pub_rec'],loan['loan_status'],normalize = 'columns').style.background_gradient(cmap='magma')"
      ],
      "execution_count": null,
      "outputs": [
        {
          "output_type": "execute_result",
          "data": {
            "text/html": [
              "<style  type=\"text/css\" >\n",
              "#T_85374d6e_09be_11eb_ab73_0242ac1c0002row0_col0,#T_85374d6e_09be_11eb_ab73_0242ac1c0002row0_col1{\n",
              "            background-color:  #fcfdbf;\n",
              "            color:  #000000;\n",
              "        }#T_85374d6e_09be_11eb_ab73_0242ac1c0002row1_col0{\n",
              "            background-color:  #2d1161;\n",
              "            color:  #f1f1f1;\n",
              "        }#T_85374d6e_09be_11eb_ab73_0242ac1c0002row1_col1{\n",
              "            background-color:  #2c115f;\n",
              "            color:  #f1f1f1;\n",
              "        }#T_85374d6e_09be_11eb_ab73_0242ac1c0002row2_col0{\n",
              "            background-color:  #010106;\n",
              "            color:  #f1f1f1;\n",
              "        }#T_85374d6e_09be_11eb_ab73_0242ac1c0002row2_col1{\n",
              "            background-color:  #010005;\n",
              "            color:  #f1f1f1;\n",
              "        }#T_85374d6e_09be_11eb_ab73_0242ac1c0002row3_col0,#T_85374d6e_09be_11eb_ab73_0242ac1c0002row3_col1,#T_85374d6e_09be_11eb_ab73_0242ac1c0002row4_col0,#T_85374d6e_09be_11eb_ab73_0242ac1c0002row4_col1,#T_85374d6e_09be_11eb_ab73_0242ac1c0002row5_col0,#T_85374d6e_09be_11eb_ab73_0242ac1c0002row5_col1,#T_85374d6e_09be_11eb_ab73_0242ac1c0002row6_col0,#T_85374d6e_09be_11eb_ab73_0242ac1c0002row6_col1,#T_85374d6e_09be_11eb_ab73_0242ac1c0002row7_col0,#T_85374d6e_09be_11eb_ab73_0242ac1c0002row7_col1,#T_85374d6e_09be_11eb_ab73_0242ac1c0002row8_col0,#T_85374d6e_09be_11eb_ab73_0242ac1c0002row8_col1{\n",
              "            background-color:  #000004;\n",
              "            color:  #f1f1f1;\n",
              "        }</style><table id=\"T_85374d6e_09be_11eb_ab73_0242ac1c0002\" ><thead>    <tr>        <th class=\"index_name level0\" >loan_status</th>        <th class=\"col_heading level0 col0\" >0</th>        <th class=\"col_heading level0 col1\" >1</th>    </tr>    <tr>        <th class=\"index_name level0\" >pub_rec</th>        <th class=\"blank\" ></th>        <th class=\"blank\" ></th>    </tr></thead><tbody>\n",
              "                <tr>\n",
              "                        <th id=\"T_85374d6e_09be_11eb_ab73_0242ac1c0002level0_row0\" class=\"row_heading level0 row0\" >0.0</th>\n",
              "                        <td id=\"T_85374d6e_09be_11eb_ab73_0242ac1c0002row0_col0\" class=\"data row0 col0\" >0.845946</td>\n",
              "                        <td id=\"T_85374d6e_09be_11eb_ab73_0242ac1c0002row0_col1\" class=\"data row0 col1\" >0.853343</td>\n",
              "            </tr>\n",
              "            <tr>\n",
              "                        <th id=\"T_85374d6e_09be_11eb_ab73_0242ac1c0002level0_row1\" class=\"row_heading level0 row1\" >1.0</th>\n",
              "                        <td id=\"T_85374d6e_09be_11eb_ab73_0242ac1c0002row1_col0\" class=\"data row1 col0\" >0.144355</td>\n",
              "                        <td id=\"T_85374d6e_09be_11eb_ab73_0242ac1c0002row1_col1\" class=\"data row1 col1\" >0.140755</td>\n",
              "            </tr>\n",
              "            <tr>\n",
              "                        <th id=\"T_85374d6e_09be_11eb_ab73_0242ac1c0002level0_row2\" class=\"row_heading level0 row2\" >2.0</th>\n",
              "                        <td id=\"T_85374d6e_09be_11eb_ab73_0242ac1c0002row2_col0\" class=\"data row2 col0\" >0.007218</td>\n",
              "                        <td id=\"T_85374d6e_09be_11eb_ab73_0242ac1c0002row2_col1\" class=\"data row2 col1\" >0.004068</td>\n",
              "            </tr>\n",
              "            <tr>\n",
              "                        <th id=\"T_85374d6e_09be_11eb_ab73_0242ac1c0002level0_row3\" class=\"row_heading level0 row3\" >3.0</th>\n",
              "                        <td id=\"T_85374d6e_09be_11eb_ab73_0242ac1c0002row3_col0\" class=\"data row3 col0\" >0.001015</td>\n",
              "                        <td id=\"T_85374d6e_09be_11eb_ab73_0242ac1c0002row3_col1\" class=\"data row3 col1\" >0.001159</td>\n",
              "            </tr>\n",
              "            <tr>\n",
              "                        <th id=\"T_85374d6e_09be_11eb_ab73_0242ac1c0002level0_row4\" class=\"row_heading level0 row4\" >4.0</th>\n",
              "                        <td id=\"T_85374d6e_09be_11eb_ab73_0242ac1c0002row4_col0\" class=\"data row4 col0\" >0.001128</td>\n",
              "                        <td id=\"T_85374d6e_09be_11eb_ab73_0242ac1c0002row4_col1\" class=\"data row4 col1\" >0.000253</td>\n",
              "            </tr>\n",
              "            <tr>\n",
              "                        <th id=\"T_85374d6e_09be_11eb_ab73_0242ac1c0002level0_row5\" class=\"row_heading level0 row5\" >5.0</th>\n",
              "                        <td id=\"T_85374d6e_09be_11eb_ab73_0242ac1c0002row5_col0\" class=\"data row5 col0\" >0.000338</td>\n",
              "                        <td id=\"T_85374d6e_09be_11eb_ab73_0242ac1c0002row5_col1\" class=\"data row5 col1\" >0.000232</td>\n",
              "            </tr>\n",
              "            <tr>\n",
              "                        <th id=\"T_85374d6e_09be_11eb_ab73_0242ac1c0002level0_row6\" class=\"row_heading level0 row6\" >6.0</th>\n",
              "                        <td id=\"T_85374d6e_09be_11eb_ab73_0242ac1c0002row6_col0\" class=\"data row6 col0\" >0.000000</td>\n",
              "                        <td id=\"T_85374d6e_09be_11eb_ab73_0242ac1c0002row6_col1\" class=\"data row6 col1\" >0.000126</td>\n",
              "            </tr>\n",
              "            <tr>\n",
              "                        <th id=\"T_85374d6e_09be_11eb_ab73_0242ac1c0002level0_row7\" class=\"row_heading level0 row7\" >7.0</th>\n",
              "                        <td id=\"T_85374d6e_09be_11eb_ab73_0242ac1c0002row7_col0\" class=\"data row7 col0\" >0.000000</td>\n",
              "                        <td id=\"T_85374d6e_09be_11eb_ab73_0242ac1c0002row7_col1\" class=\"data row7 col1\" >0.000042</td>\n",
              "            </tr>\n",
              "            <tr>\n",
              "                        <th id=\"T_85374d6e_09be_11eb_ab73_0242ac1c0002level0_row8\" class=\"row_heading level0 row8\" >8.0</th>\n",
              "                        <td id=\"T_85374d6e_09be_11eb_ab73_0242ac1c0002row8_col0\" class=\"data row8 col0\" >0.000000</td>\n",
              "                        <td id=\"T_85374d6e_09be_11eb_ab73_0242ac1c0002row8_col1\" class=\"data row8 col1\" >0.000021</td>\n",
              "            </tr>\n",
              "    </tbody></table>"
            ],
            "text/plain": [
              "<pandas.io.formats.style.Styler at 0x7f807b042358>"
            ]
          },
          "metadata": {
            "tags": []
          },
          "execution_count": 74
        }
      ]
    },
    {
      "cell_type": "code",
      "metadata": {
        "id": "m7daJLp_jynC",
        "outputId": "6bb91502-cf00-4e57-f71d-fc6155252624",
        "colab": {
          "base_uri": "https://localhost:8080/",
          "height": 186
        }
      },
      "source": [
        "loan['revol_bal'].describe()"
      ],
      "execution_count": null,
      "outputs": [
        {
          "output_type": "execute_result",
          "data": {
            "text/plain": [
              "count     56311.000000\n",
              "mean      14374.930014\n",
              "std       21489.868776\n",
              "min           0.000000\n",
              "25%        4096.000000\n",
              "50%        9084.000000\n",
              "75%       17412.000000\n",
              "max      925589.000000\n",
              "Name: revol_bal, dtype: float64"
            ]
          },
          "metadata": {
            "tags": []
          },
          "execution_count": 75
        }
      ]
    },
    {
      "cell_type": "code",
      "metadata": {
        "id": "ElTBRuTiktBZ"
      },
      "source": [
        "loan['log_revol_bal'] = loan['revol_bal'].apply(lambda x : np.log10(x+1))"
      ],
      "execution_count": null,
      "outputs": []
    },
    {
      "cell_type": "code",
      "metadata": {
        "id": "vBzN1_mEk0zY",
        "outputId": "43a95724-7cff-412b-bf38-83d0b60c80b5",
        "colab": {
          "base_uri": "https://localhost:8080/",
          "height": 226
        }
      },
      "source": [
        "plot_var('log_revol_bal')"
      ],
      "execution_count": null,
      "outputs": [
        {
          "output_type": "display_data",
          "data": {
            "image/png": "[encoded data removed]",
            "text/plain": [
              "<Figure size 864x216 with 2 Axes>"
            ]
          },
          "metadata": {
            "tags": []
          }
        }
      ]
    },
    {
      "cell_type": "code",
      "metadata": {
        "id": "UNQIc26wlc-K",
        "outputId": "9411d925-d33a-4a26-8e19-6c5dec7da754",
        "colab": {
          "base_uri": "https://localhost:8080/",
          "height": 143
        }
      },
      "source": [
        "loan.groupby('loan_status')['log_revol_bal'].describe()"
      ],
      "execution_count": null,
      "outputs": [
        {
          "output_type": "execute_result",
          "data": {
            "text/html": [
              "<div>\n",
              "<style scoped>\n",
              "    .dataframe tbody tr th:only-of-type {\n",
              "        vertical-align: middle;\n",
              "    }\n",
              "\n",
              "    .dataframe tbody tr th {\n",
              "        vertical-align: top;\n",
              "    }\n",
              "\n",
              "    .dataframe thead th {\n",
              "        text-align: right;\n",
              "    }\n",
              "</style>\n",
              "<table border=\"1\" class=\"dataframe\">\n",
              "  <thead>\n",
              "    <tr style=\"text-align: right;\">\n",
              "      <th></th>\n",
              "      <th>count</th>\n",
              "      <th>mean</th>\n",
              "      <th>std</th>\n",
              "      <th>min</th>\n",
              "      <th>25%</th>\n",
              "      <th>50%</th>\n",
              "      <th>75%</th>\n",
              "      <th>max</th>\n",
              "    </tr>\n",
              "    <tr>\n",
              "      <th>loan_status</th>\n",
              "      <th></th>\n",
              "      <th></th>\n",
              "      <th></th>\n",
              "      <th></th>\n",
              "      <th></th>\n",
              "      <th></th>\n",
              "      <th></th>\n",
              "      <th></th>\n",
              "    </tr>\n",
              "  </thead>\n",
              "  <tbody>\n",
              "    <tr>\n",
              "      <th>0</th>\n",
              "      <td>8867.0</td>\n",
              "      <td>3.788959</td>\n",
              "      <td>0.802838</td>\n",
              "      <td>0.0</td>\n",
              "      <td>3.580583</td>\n",
              "      <td>3.950267</td>\n",
              "      <td>4.230219</td>\n",
              "      <td>5.590494</td>\n",
              "    </tr>\n",
              "    <tr>\n",
              "      <th>1</th>\n",
              "      <td>47444.0</td>\n",
              "      <td>3.838518</td>\n",
              "      <td>0.728992</td>\n",
              "      <td>0.0</td>\n",
              "      <td>3.618257</td>\n",
              "      <td>3.959614</td>\n",
              "      <td>4.243757</td>\n",
              "      <td>5.966419</td>\n",
              "    </tr>\n",
              "  </tbody>\n",
              "</table>\n",
              "</div>"
            ],
            "text/plain": [
              "               count      mean       std  ...       50%       75%       max\n",
              "loan_status                               ...                              \n",
              "0             8867.0  3.788959  0.802838  ...  3.950267  4.230219  5.590494\n",
              "1            47444.0  3.838518  0.728992  ...  3.959614  4.243757  5.966419\n",
              "\n",
              "[2 rows x 8 columns]"
            ]
          },
          "metadata": {
            "tags": []
          },
          "execution_count": 78
        }
      ]
    },
    {
      "cell_type": "code",
      "metadata": {
        "id": "-ezE5_kNmI6O",
        "outputId": "1c6ccf37-68e5-4e5c-b0b7-ad6adbec63db",
        "colab": {
          "base_uri": "https://localhost:8080/",
          "height": 227
        }
      },
      "source": [
        "plot_var('revol_util')"
      ],
      "execution_count": null,
      "outputs": [
        {
          "output_type": "display_data",
          "data": {
            "image/png": "[encoded data removed]",
            "text/plain": [
              "<Figure size 864x216 with 2 Axes>"
            ]
          },
          "metadata": {
            "tags": []
          }
        }
      ]
    },
    {
      "cell_type": "code",
      "metadata": {
        "id": "GYS_CkpynCOn",
        "outputId": "55ede27d-074b-471c-c47b-4948f2bb6242",
        "colab": {
          "base_uri": "https://localhost:8080/",
          "height": 143
        }
      },
      "source": [
        "loan.groupby('loan_status')['revol_util'].describe()"
      ],
      "execution_count": null,
      "outputs": [
        {
          "output_type": "execute_result",
          "data": {
            "text/html": [
              "<div>\n",
              "<style scoped>\n",
              "    .dataframe tbody tr th:only-of-type {\n",
              "        vertical-align: middle;\n",
              "    }\n",
              "\n",
              "    .dataframe tbody tr th {\n",
              "        vertical-align: top;\n",
              "    }\n",
              "\n",
              "    .dataframe thead th {\n",
              "        text-align: right;\n",
              "    }\n",
              "</style>\n",
              "<table border=\"1\" class=\"dataframe\">\n",
              "  <thead>\n",
              "    <tr style=\"text-align: right;\">\n",
              "      <th></th>\n",
              "      <th>count</th>\n",
              "      <th>mean</th>\n",
              "      <th>std</th>\n",
              "      <th>min</th>\n",
              "      <th>25%</th>\n",
              "      <th>50%</th>\n",
              "      <th>75%</th>\n",
              "      <th>max</th>\n",
              "    </tr>\n",
              "    <tr>\n",
              "      <th>loan_status</th>\n",
              "      <th></th>\n",
              "      <th></th>\n",
              "      <th></th>\n",
              "      <th></th>\n",
              "      <th></th>\n",
              "      <th></th>\n",
              "      <th></th>\n",
              "      <th></th>\n",
              "    </tr>\n",
              "  </thead>\n",
              "  <tbody>\n",
              "    <tr>\n",
              "      <th>0</th>\n",
              "      <td>8853.0</td>\n",
              "      <td>43.157517</td>\n",
              "      <td>26.186102</td>\n",
              "      <td>0.0</td>\n",
              "      <td>22.3</td>\n",
              "      <td>42.0</td>\n",
              "      <td>62.7</td>\n",
              "      <td>115.6</td>\n",
              "    </tr>\n",
              "    <tr>\n",
              "      <th>1</th>\n",
              "      <td>47384.0</td>\n",
              "      <td>38.610160</td>\n",
              "      <td>25.445574</td>\n",
              "      <td>0.0</td>\n",
              "      <td>17.7</td>\n",
              "      <td>35.4</td>\n",
              "      <td>56.9</td>\n",
              "      <td>132.2</td>\n",
              "    </tr>\n",
              "  </tbody>\n",
              "</table>\n",
              "</div>"
            ],
            "text/plain": [
              "               count       mean        std  min   25%   50%   75%    max\n",
              "loan_status                                                             \n",
              "0             8853.0  43.157517  26.186102  0.0  22.3  42.0  62.7  115.6\n",
              "1            47384.0  38.610160  25.445574  0.0  17.7  35.4  56.9  132.2"
            ]
          },
          "metadata": {
            "tags": []
          },
          "execution_count": 80
        }
      ]
    },
    {
      "cell_type": "code",
      "metadata": {
        "id": "dprGdKIAnIXG",
        "outputId": "72f20721-13b3-43cd-d403-cc06ac8c1316",
        "colab": {
          "base_uri": "https://localhost:8080/",
          "height": 226
        }
      },
      "source": [
        "plot_var('total_acc')"
      ],
      "execution_count": null,
      "outputs": [
        {
          "output_type": "display_data",
          "data": {
            "image/png": "[encoded data removed]",
            "text/plain": [
              "<Figure size 864x216 with 2 Axes>"
            ]
          },
          "metadata": {
            "tags": []
          }
        }
      ]
    },
    {
      "cell_type": "code",
      "metadata": {
        "id": "JkrWJcG7nk3Y",
        "outputId": "58a4213d-1b69-46e2-9978-0237b65f5a36",
        "colab": {
          "base_uri": "https://localhost:8080/",
          "height": 143
        }
      },
      "source": [
        "loan.groupby('loan_status')['total_acc'].describe()"
      ],
      "execution_count": null,
      "outputs": [
        {
          "output_type": "execute_result",
          "data": {
            "text/html": [
              "<div>\n",
              "<style scoped>\n",
              "    .dataframe tbody tr th:only-of-type {\n",
              "        vertical-align: middle;\n",
              "    }\n",
              "\n",
              "    .dataframe tbody tr th {\n",
              "        vertical-align: top;\n",
              "    }\n",
              "\n",
              "    .dataframe thead th {\n",
              "        text-align: right;\n",
              "    }\n",
              "</style>\n",
              "<table border=\"1\" class=\"dataframe\">\n",
              "  <thead>\n",
              "    <tr style=\"text-align: right;\">\n",
              "      <th></th>\n",
              "      <th>count</th>\n",
              "      <th>mean</th>\n",
              "      <th>std</th>\n",
              "      <th>min</th>\n",
              "      <th>25%</th>\n",
              "      <th>50%</th>\n",
              "      <th>75%</th>\n",
              "      <th>max</th>\n",
              "    </tr>\n",
              "    <tr>\n",
              "      <th>loan_status</th>\n",
              "      <th></th>\n",
              "      <th></th>\n",
              "      <th></th>\n",
              "      <th></th>\n",
              "      <th></th>\n",
              "      <th></th>\n",
              "      <th></th>\n",
              "      <th></th>\n",
              "    </tr>\n",
              "  </thead>\n",
              "  <tbody>\n",
              "    <tr>\n",
              "      <th>0</th>\n",
              "      <td>8867.0</td>\n",
              "      <td>21.734634</td>\n",
              "      <td>12.289631</td>\n",
              "      <td>2.0</td>\n",
              "      <td>13.0</td>\n",
              "      <td>20.0</td>\n",
              "      <td>28.0</td>\n",
              "      <td>97.0</td>\n",
              "    </tr>\n",
              "    <tr>\n",
              "      <th>1</th>\n",
              "      <td>47444.0</td>\n",
              "      <td>24.531321</td>\n",
              "      <td>12.784466</td>\n",
              "      <td>2.0</td>\n",
              "      <td>15.0</td>\n",
              "      <td>22.0</td>\n",
              "      <td>31.0</td>\n",
              "      <td>125.0</td>\n",
              "    </tr>\n",
              "  </tbody>\n",
              "</table>\n",
              "</div>"
            ],
            "text/plain": [
              "               count       mean        std  min   25%   50%   75%    max\n",
              "loan_status                                                             \n",
              "0             8867.0  21.734634  12.289631  2.0  13.0  20.0  28.0   97.0\n",
              "1            47444.0  24.531321  12.784466  2.0  15.0  22.0  31.0  125.0"
            ]
          },
          "metadata": {
            "tags": []
          },
          "execution_count": 82
        }
      ]
    },
    {
      "cell_type": "code",
      "metadata": {
        "id": "8KZoMnQMnxiI",
        "outputId": "7a0df275-d353-48b8-86d6-70aac029f5df",
        "colab": {
          "base_uri": "https://localhost:8080/",
          "height": 104
        }
      },
      "source": [
        "pd.crosstab(loan['initial_list_status'],loan['loan_status'],normalize = 'all').style.background_gradient(cmap='magma')"
      ],
      "execution_count": null,
      "outputs": [
        {
          "output_type": "execute_result",
          "data": {
            "text/html": [
              "<style  type=\"text/css\" >\n",
              "#T_866a7c60_09be_11eb_ab73_0242ac1c0002row0_col0,#T_866a7c60_09be_11eb_ab73_0242ac1c0002row0_col1{\n",
              "            background-color:  #000004;\n",
              "            color:  #f1f1f1;\n",
              "        }#T_866a7c60_09be_11eb_ab73_0242ac1c0002row1_col0,#T_866a7c60_09be_11eb_ab73_0242ac1c0002row1_col1{\n",
              "            background-color:  #fcfdbf;\n",
              "            color:  #000000;\n",
              "        }</style><table id=\"T_866a7c60_09be_11eb_ab73_0242ac1c0002\" ><thead>    <tr>        <th class=\"index_name level0\" >loan_status</th>        <th class=\"col_heading level0 col0\" >0</th>        <th class=\"col_heading level0 col1\" >1</th>    </tr>    <tr>        <th class=\"index_name level0\" >initial_list_status</th>        <th class=\"blank\" ></th>        <th class=\"blank\" ></th>    </tr></thead><tbody>\n",
              "                <tr>\n",
              "                        <th id=\"T_866a7c60_09be_11eb_ab73_0242ac1c0002level0_row0\" class=\"row_heading level0 row0\" >f</th>\n",
              "                        <td id=\"T_866a7c60_09be_11eb_ab73_0242ac1c0002row0_col0\" class=\"data row0 col0\" >0.030172</td>\n",
              "                        <td id=\"T_866a7c60_09be_11eb_ab73_0242ac1c0002row0_col1\" class=\"data row0 col1\" >0.139546</td>\n",
              "            </tr>\n",
              "            <tr>\n",
              "                        <th id=\"T_866a7c60_09be_11eb_ab73_0242ac1c0002level0_row1\" class=\"row_heading level0 row1\" >w</th>\n",
              "                        <td id=\"T_866a7c60_09be_11eb_ab73_0242ac1c0002row1_col0\" class=\"data row1 col0\" >0.127293</td>\n",
              "                        <td id=\"T_866a7c60_09be_11eb_ab73_0242ac1c0002row1_col1\" class=\"data row1 col1\" >0.702989</td>\n",
              "            </tr>\n",
              "    </tbody></table>"
            ],
            "text/plain": [
              "<pandas.io.formats.style.Styler at 0x7f807ad34128>"
            ]
          },
          "metadata": {
            "tags": []
          },
          "execution_count": 83
        }
      ]
    },
    {
      "cell_type": "code",
      "metadata": {
        "id": "_Yi2KPfDogSz",
        "outputId": "75d8bee0-c76f-4986-80b9-e96fe7ace063",
        "colab": {
          "base_uri": "https://localhost:8080/",
          "height": 104
        }
      },
      "source": [
        "pd.crosstab(loan['application_type'],loan['loan_status'],normalize = 'all').style.background_gradient(cmap='magma')"
      ],
      "execution_count": null,
      "outputs": [
        {
          "output_type": "execute_result",
          "data": {
            "text/html": [
              "<style  type=\"text/css\" >\n",
              "#T_8670f8e2_09be_11eb_ab73_0242ac1c0002row0_col0,#T_8670f8e2_09be_11eb_ab73_0242ac1c0002row0_col1{\n",
              "            background-color:  #fcfdbf;\n",
              "            color:  #000000;\n",
              "        }#T_8670f8e2_09be_11eb_ab73_0242ac1c0002row1_col0,#T_8670f8e2_09be_11eb_ab73_0242ac1c0002row1_col1{\n",
              "            background-color:  #000004;\n",
              "            color:  #f1f1f1;\n",
              "        }</style><table id=\"T_8670f8e2_09be_11eb_ab73_0242ac1c0002\" ><thead>    <tr>        <th class=\"index_name level0\" >loan_status</th>        <th class=\"col_heading level0 col0\" >0</th>        <th class=\"col_heading level0 col1\" >1</th>    </tr>    <tr>        <th class=\"index_name level0\" >application_type</th>        <th class=\"blank\" ></th>        <th class=\"blank\" ></th>    </tr></thead><tbody>\n",
              "                <tr>\n",
              "                        <th id=\"T_8670f8e2_09be_11eb_ab73_0242ac1c0002level0_row0\" class=\"row_heading level0 row0\" >Individual</th>\n",
              "                        <td id=\"T_8670f8e2_09be_11eb_ab73_0242ac1c0002row0_col0\" class=\"data row0 col0\" >0.132567</td>\n",
              "                        <td id=\"T_8670f8e2_09be_11eb_ab73_0242ac1c0002row0_col1\" class=\"data row0 col1\" >0.741596</td>\n",
              "            </tr>\n",
              "            <tr>\n",
              "                        <th id=\"T_8670f8e2_09be_11eb_ab73_0242ac1c0002level0_row1\" class=\"row_heading level0 row1\" >Joint App</th>\n",
              "                        <td id=\"T_8670f8e2_09be_11eb_ab73_0242ac1c0002row1_col0\" class=\"data row1 col0\" >0.024897</td>\n",
              "                        <td id=\"T_8670f8e2_09be_11eb_ab73_0242ac1c0002row1_col1\" class=\"data row1 col1\" >0.100939</td>\n",
              "            </tr>\n",
              "    </tbody></table>"
            ],
            "text/plain": [
              "<pandas.io.formats.style.Styler at 0x7f807acf7b70>"
            ]
          },
          "metadata": {
            "tags": []
          },
          "execution_count": 84
        }
      ]
    },
    {
      "cell_type": "code",
      "metadata": {
        "id": "0Xmi0AWlrq6z",
        "outputId": "a0fcaa08-70f0-4ee3-ccf0-b73b5c43631f",
        "colab": {
          "base_uri": "https://localhost:8080/",
          "height": 169
        }
      },
      "source": [
        "pd.crosstab(loan['pub_rec_bankruptcies'],loan['loan_status'],normalize = 'index',margins = True).style.background_gradient(cmap='magma')"
      ],
      "execution_count": null,
      "outputs": [
        {
          "output_type": "execute_result",
          "data": {
            "text/html": [
              "<style  type=\"text/css\" >\n",
              "#T_867ccdc0_09be_11eb_ab73_0242ac1c0002row0_col0,#T_867ccdc0_09be_11eb_ab73_0242ac1c0002row4_col0{\n",
              "            background-color:  #6e1e81;\n",
              "            color:  #f1f1f1;\n",
              "        }#T_867ccdc0_09be_11eb_ab73_0242ac1c0002row0_col1,#T_867ccdc0_09be_11eb_ab73_0242ac1c0002row4_col1{\n",
              "            background-color:  #f2645c;\n",
              "            color:  #000000;\n",
              "        }#T_867ccdc0_09be_11eb_ab73_0242ac1c0002row1_col0{\n",
              "            background-color:  #701f81;\n",
              "            color:  #f1f1f1;\n",
              "        }#T_867ccdc0_09be_11eb_ab73_0242ac1c0002row1_col1{\n",
              "            background-color:  #f2625d;\n",
              "            color:  #000000;\n",
              "        }#T_867ccdc0_09be_11eb_ab73_0242ac1c0002row2_col0,#T_867ccdc0_09be_11eb_ab73_0242ac1c0002row3_col1{\n",
              "            background-color:  #fcfdbf;\n",
              "            color:  #000000;\n",
              "        }#T_867ccdc0_09be_11eb_ab73_0242ac1c0002row2_col1,#T_867ccdc0_09be_11eb_ab73_0242ac1c0002row3_col0{\n",
              "            background-color:  #000004;\n",
              "            color:  #f1f1f1;\n",
              "        }</style><table id=\"T_867ccdc0_09be_11eb_ab73_0242ac1c0002\" ><thead>    <tr>        <th class=\"index_name level0\" >loan_status</th>        <th class=\"col_heading level0 col0\" >0</th>        <th class=\"col_heading level0 col1\" >1</th>    </tr>    <tr>        <th class=\"index_name level0\" >pub_rec_bankruptcies</th>        <th class=\"blank\" ></th>        <th class=\"blank\" ></th>    </tr></thead><tbody>\n",
              "                <tr>\n",
              "                        <th id=\"T_867ccdc0_09be_11eb_ab73_0242ac1c0002level0_row0\" class=\"row_heading level0 row0\" >0.0</th>\n",
              "                        <td id=\"T_867ccdc0_09be_11eb_ab73_0242ac1c0002row0_col0\" class=\"data row0 col0\" >0.157111</td>\n",
              "                        <td id=\"T_867ccdc0_09be_11eb_ab73_0242ac1c0002row0_col1\" class=\"data row0 col1\" >0.842889</td>\n",
              "            </tr>\n",
              "            <tr>\n",
              "                        <th id=\"T_867ccdc0_09be_11eb_ab73_0242ac1c0002level0_row1\" class=\"row_heading level0 row1\" >1.0</th>\n",
              "                        <td id=\"T_867ccdc0_09be_11eb_ab73_0242ac1c0002row1_col0\" class=\"data row1 col0\" >0.158382</td>\n",
              "                        <td id=\"T_867ccdc0_09be_11eb_ab73_0242ac1c0002row1_col1\" class=\"data row1 col1\" >0.841618</td>\n",
              "            </tr>\n",
              "            <tr>\n",
              "                        <th id=\"T_867ccdc0_09be_11eb_ab73_0242ac1c0002level0_row2\" class=\"row_heading level0 row2\" >2.0</th>\n",
              "                        <td id=\"T_867ccdc0_09be_11eb_ab73_0242ac1c0002row2_col0\" class=\"data row2 col0\" >0.294872</td>\n",
              "                        <td id=\"T_867ccdc0_09be_11eb_ab73_0242ac1c0002row2_col1\" class=\"data row2 col1\" >0.705128</td>\n",
              "            </tr>\n",
              "            <tr>\n",
              "                        <th id=\"T_867ccdc0_09be_11eb_ab73_0242ac1c0002level0_row3\" class=\"row_heading level0 row3\" >3.0</th>\n",
              "                        <td id=\"T_867ccdc0_09be_11eb_ab73_0242ac1c0002row3_col0\" class=\"data row3 col0\" >0.090909</td>\n",
              "                        <td id=\"T_867ccdc0_09be_11eb_ab73_0242ac1c0002row3_col1\" class=\"data row3 col1\" >0.909091</td>\n",
              "            </tr>\n",
              "            <tr>\n",
              "                        <th id=\"T_867ccdc0_09be_11eb_ab73_0242ac1c0002level0_row4\" class=\"row_heading level0 row4\" >All</th>\n",
              "                        <td id=\"T_867ccdc0_09be_11eb_ab73_0242ac1c0002row4_col0\" class=\"data row4 col0\" >0.157465</td>\n",
              "                        <td id=\"T_867ccdc0_09be_11eb_ab73_0242ac1c0002row4_col1\" class=\"data row4 col1\" >0.842535</td>\n",
              "            </tr>\n",
              "    </tbody></table>"
            ],
            "text/plain": [
              "<pandas.io.formats.style.Styler at 0x7f807acaae48>"
            ]
          },
          "metadata": {
            "tags": []
          },
          "execution_count": 85
        }
      ]
    },
    {
      "cell_type": "code",
      "metadata": {
        "id": "XT9bQtlOu9BJ"
      },
      "source": [
        "drop = ['delinq_2yrs','revol_bal','delinq_amnt']\n",
        "loan.drop(labels= drop,axis = 1,inplace = True)"
      ],
      "execution_count": null,
      "outputs": []
    }
  ]
}